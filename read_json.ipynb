{
 "cells": [
  {
   "cell_type": "code",
   "execution_count": 1,
   "id": "e763bb15",
   "metadata": {},
   "outputs": [],
   "source": [
    "import pandas as pd"
   ]
  },
  {
   "cell_type": "code",
   "execution_count": 2,
   "id": "7947278d",
   "metadata": {},
   "outputs": [],
   "source": [
    "import json"
   ]
  },
  {
   "cell_type": "code",
   "execution_count": 3,
   "id": "2bbf72bd",
   "metadata": {},
   "outputs": [],
   "source": [
    "import re\n",
    "def strip(s):\n",
    "    s=' '.join(s.split())\n",
    "    return re.sub(r'[^A-Za-z0-9 ]+', '', s)"
   ]
  },
  {
   "cell_type": "code",
   "execution_count": 40,
   "id": "8559dfe7",
   "metadata": {},
   "outputs": [],
   "source": [
    "def annotate(i):\n",
    "    date=i['datePublished']\n",
    "    title=i[\"title\"]\n",
    "    try:\n",
    "        authors=i[\"creator\"]\n",
    "    except:\n",
    "        authors=[]\n",
    "    try:\n",
    "        abstract=i['abstract']\n",
    "    except:\n",
    "        try:\n",
    "            abstract=i['keyphrase']\n",
    "        except:\n",
    "            abstract=\"\"\n",
    "    try:\n",
    "        url = i[\"doi\"]\n",
    "    except:\n",
    "        try:\n",
    "            url= i[\"id\"]\n",
    "        except:\n",
    "            url=\"\"\n",
    "    try:\n",
    "        tag=i[\"tdmCategory\"]\n",
    "    except:\n",
    "        tag=[]\n",
    "    try:\n",
    "        text=\"\"\n",
    "        for t in i[\"fullText\"]:\n",
    "            text+=t\n",
    "            text+=\" \"\n",
    "        text=strip(text)\n",
    "    except:\n",
    "        text=i[\"unigramCount\"]\n",
    "    try:\n",
    "        journal=i[\"isPartOf\"]\n",
    "    except:\n",
    "        try:\n",
    "            journal=i[\"publisher\"]\n",
    "        except:\n",
    "            journal=\"\"\n",
    "    return [date,title,tag, authors,abstract,text,url, journal]\n",
    "    "
   ]
  },
  {
   "cell_type": "code",
   "execution_count": 41,
   "id": "9d769ed6",
   "metadata": {},
   "outputs": [
    {
     "name": "stdout",
     "output_type": "stream",
     "text": [
      "08a89836-6f0b-fdba-e0c7-ed5ce511059f-jsonl.jsonl\n",
      "1879b970-bc49-8f12-b8d5-e9279ace8f33-jsonl.jsonl\n",
      "1879b970-bc49-8f12-b8d5-e9279ace8f33-sampled-jsonl.jsonl\n",
      "49b3f7b9-835a-8f33-ea27-5e303125247c-jsonl.jsonl\n",
      "4d634c82-7b8e-ee41-12d4-93aa8435de25-jsonl.jsonl\n",
      "64c11d86-45cb-7312-da8b-b8e222d52ff6-jsonl.jsonl\n",
      "75715766-a042-4820-5155-1d67c5f5e801-jsonl.jsonl\n",
      "8d492fd9-b327-ba11-2ea2-df1bc76d26c0-jsonl.jsonl\n",
      "b382a487-73af-bdf6-f98a-8f1ff1849902-jsonl.jsonl\n",
      "bc55078a-82ca-cfa3-e885-72fae3d7dd61-jsonl.jsonl\n",
      "c508f178-ee0c-4fca-86ac-8aa203500c44-jsonl.jsonl\n",
      "da5068fb-dedb-2b04-edb2-1b0cbc5eab1b-jsonl.jsonl\n",
      "f86b2b79-a93e-c952-a4f5-f231fd0c2518-jsonl.jsonl\n",
      "fc2dcb98-c985-bfe3-cd2b-8616fe68f932-jsonl.jsonl\n"
     ]
    }
   ],
   "source": [
    "import glob, os\n",
    "ret=[]\n",
    "for file in glob.glob(\"*.jsonl\"):\n",
    "    print(file)\n",
    "    data=[]\n",
    "    #with open('49b3f7b9-835a-8f33-ea27-5e303125247c-jsonl.jsonl/49b3f7b9-835a-8f33-ea27-5e303125247c-jsonl.jsonl') as f:\n",
    "    with open(file) as f:\n",
    "        for line in f:\n",
    "            data.append(json.loads(line))\n",
    "    for d in data:\n",
    "        ret.append(annotate(d))"
   ]
  },
  {
   "cell_type": "code",
   "execution_count": 42,
   "id": "d58e95d7",
   "metadata": {},
   "outputs": [],
   "source": [
    "df=pd.DataFrame(ret)\n"
   ]
  },
  {
   "cell_type": "code",
   "execution_count": 43,
   "id": "a06fbfe0",
   "metadata": {},
   "outputs": [],
   "source": [
    "df=pd.DataFrame(ret)\n",
    "df.columns=[\"date\", \"title\",\"tag\",\"author\", \"abstract\", \"text\", \"url\", \"journal\"]"
   ]
  },
  {
   "cell_type": "code",
   "execution_count": 49,
   "id": "c45e87a7",
   "metadata": {},
   "outputs": [],
   "source": [
    "ht=df[df['text'].apply(lambda x: not isinstance(x, str))]\n"
   ]
  },
  {
   "cell_type": "code",
   "execution_count": 60,
   "id": "9431e025",
   "metadata": {},
   "outputs": [],
   "source": [
    "ht=df[df[\"text\"]!=\"\"]"
   ]
  },
  {
   "cell_type": "code",
   "execution_count": 50,
   "id": "fa32159d",
   "metadata": {},
   "outputs": [],
   "source": [
    "ht=ht.drop_duplicates([\"title\"])"
   ]
  },
  {
   "cell_type": "code",
   "execution_count": 52,
   "id": "60de48cb",
   "metadata": {},
   "outputs": [],
   "source": [
    "ht.to_csv(\"jstor.csv\")"
   ]
  }
 ],
 "metadata": {
  "kernelspec": {
   "display_name": "Python 3 (ipykernel)",
   "language": "python",
   "name": "python3"
  },
  "language_info": {
   "codemirror_mode": {
    "name": "ipython",
    "version": 3
   },
   "file_extension": ".py",
   "mimetype": "text/x-python",
   "name": "python",
   "nbconvert_exporter": "python",
   "pygments_lexer": "ipython3",
   "version": "3.9.12"
  }
 },
 "nbformat": 4,
 "nbformat_minor": 5
}
