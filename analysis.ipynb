{
 "cells": [
  {
   "cell_type": "code",
   "execution_count": 46,
   "id": "04a9ad10",
   "metadata": {},
   "outputs": [],
   "source": [
    "import pandas as pd\n",
    "import ast"
   ]
  },
  {
   "cell_type": "code",
   "execution_count": 7,
   "id": "72b18667",
   "metadata": {},
   "outputs": [],
   "source": [
    "def lower(s):\n",
    "    return s.lower()"
   ]
  },
  {
   "cell_type": "code",
   "execution_count": 177,
   "id": "f6ec64b4",
   "metadata": {},
   "outputs": [],
   "source": [
    "import re\n",
    "def strip(s):\n",
    "    s=' '.join(s.split())\n",
    "    return re.sub(r'[^A-Za-z0-9 ]+', '', s).lower()"
   ]
  },
  {
   "cell_type": "code",
   "execution_count": 31,
   "id": "b5fd9ff7",
   "metadata": {},
   "outputs": [],
   "source": [
    "j=pd.read_csv(\"jstor.csv\")"
   ]
  },
  {
   "cell_type": "code",
   "execution_count": 32,
   "id": "38efab94",
   "metadata": {},
   "outputs": [],
   "source": [
    "c=pd.read_csv(\"comb.csv\")"
   ]
  },
  {
   "cell_type": "code",
   "execution_count": 33,
   "id": "ddf5b2c8",
   "metadata": {},
   "outputs": [],
   "source": [
    "c['text']=c['text'].fillna(\"\").apply(lower)"
   ]
  },
  {
   "cell_type": "code",
   "execution_count": 97,
   "id": "efd92dac",
   "metadata": {},
   "outputs": [
    {
     "name": "stderr",
     "output_type": "stream",
     "text": [
      "C:\\Users\\lucia\\AppData\\Local\\Temp\\ipykernel_4276\\659228089.py:1: FutureWarning: The frame.append method is deprecated and will be removed from pandas in a future version. Use pandas.concat instead.\n",
      "  df=c.append(j)\n"
     ]
    }
   ],
   "source": [
    "df=c.append(j)"
   ]
  },
  {
   "cell_type": "code",
   "execution_count": 99,
   "id": "d0b68a64",
   "metadata": {},
   "outputs": [],
   "source": [
    "df=df.drop_duplicates([\"title\"])"
   ]
  },
  {
   "cell_type": "code",
   "execution_count": 157,
   "id": "ca201e02",
   "metadata": {},
   "outputs": [],
   "source": [
    "def conv(s):\n",
    "    try:\n",
    "        return ast.literal_eval(s)\n",
    "    except:\n",
    "        return s"
   ]
  },
  {
   "cell_type": "code",
   "execution_count": 203,
   "id": "0164d0b3",
   "metadata": {},
   "outputs": [],
   "source": [
    "df=df.set_index(\"title\")"
   ]
  },
  {
   "cell_type": "code",
   "execution_count": 208,
   "id": "d3168dff",
   "metadata": {},
   "outputs": [],
   "source": [
    "import gensim\n",
    "from gensim.models.doc2vec import Doc2Vec, TaggedDocument\n",
    "from nltk.tokenize import word_tokenize\n",
    "from gensim.models.doc2vec import Doc2Vec\n",
    "from sklearn.feature_extraction.text import CountVectorizer\n",
    "from sklearn.feature_extraction.text import TfidfVectorizer"
   ]
  },
  {
   "cell_type": "code",
   "execution_count": 241,
   "id": "69da1a2d",
   "metadata": {},
   "outputs": [],
   "source": [
    "vectorizer = CountVectorizer(stop_words='english')\n"
   ]
  },
  {
   "cell_type": "code",
   "execution_count": 242,
   "id": "e26f1dce",
   "metadata": {},
   "outputs": [],
   "source": [
    "temp=df[df[\"abstract\"]!=\"\"]"
   ]
  },
  {
   "cell_type": "code",
   "execution_count": 243,
   "id": "cc924c5b",
   "metadata": {},
   "outputs": [],
   "source": [
    "X = vectorizer.fit_transform(temp[\"abstract\"])\n"
   ]
  },
  {
   "cell_type": "code",
   "execution_count": 244,
   "id": "398fda4c",
   "metadata": {},
   "outputs": [],
   "source": [
    "df_bow_sklearn = pd.DataFrame(X.toarray(),columns=vectorizer.get_feature_names_out())\n"
   ]
  },
  {
   "cell_type": "code",
   "execution_count": 245,
   "id": "b9ca8a51",
   "metadata": {},
   "outputs": [],
   "source": [
    "df_bow_sklearn[\"title\"]=temp.index\n"
   ]
  },
  {
   "cell_type": "code",
   "execution_count": 246,
   "id": "de9dab82",
   "metadata": {},
   "outputs": [],
   "source": [
    "tfidf=df_bow_sklearn.set_index(\"title\")"
   ]
  },
  {
   "cell_type": "code",
   "execution_count": 239,
   "id": "b749d29c",
   "metadata": {},
   "outputs": [],
   "source": [
    "tfidf.to_csv(\"counts_abs.csv\")"
   ]
  },
  {
   "cell_type": "code",
   "execution_count": null,
   "id": "6584cf29",
   "metadata": {},
   "outputs": [],
   "source": [
    "# number of topics\n",
    "num_topics = 10\n",
    "# Build LDA model\n",
    "lda_model = gensim.models.LdaMulticore(corpus=corpus,\n",
    "                                       id2word=id2word,\n",
    "                                       num_topics=num_topics)"
   ]
  },
  {
   "cell_type": "code",
   "execution_count": 249,
   "id": "223e628f",
   "metadata": {},
   "outputs": [
    {
     "name": "stderr",
     "output_type": "stream",
     "text": [
      "[nltk_data] Downloading package stopwords to\n",
      "[nltk_data]     C:\\Users\\lucia\\AppData\\Roaming\\nltk_data...\n",
      "[nltk_data]   Package stopwords is already up-to-date!\n"
     ]
    },
    {
     "name": "stdout",
     "output_type": "stream",
     "text": [
      "['years', 'since', 'japan', 'experienced', 'war', 'world', 'war', 'ii', 'government', 'japan', 'goj', 'proclaimed', 'new', 'japanese', 'constitution', 'drafted', 'united', 'states', 'general', 'headquarters', 'enforced', 'article', 'new', 'constitution', 'renouncing', 'use', 'force', 'international', 'disputes', 'contributed']\n"
     ]
    }
   ],
   "source": [
    "import gensim\n",
    "from gensim.utils import simple_preprocess\n",
    "import nltk\n",
    "nltk.download('stopwords')\n",
    "from nltk.corpus import stopwords\n",
    "stop_words = stopwords.words('english')\n",
    "def sent_to_words(sentences):\n",
    "    for sentence in sentences:\n",
    "        # deacc=True removes punctuations\n",
    "        yield(gensim.utils.simple_preprocess(str(sentence), deacc=True))\n",
    "def remove_stopwords(texts):\n",
    "    return [[word for word in simple_preprocess(str(doc)) \n",
    "             if word not in stop_words] for doc in texts]\n",
    "data = list(df[\"abstract\"])\n",
    "data_words = list(sent_to_words(data))\n",
    "# remove stop words\n",
    "data_words = remove_stopwords(data_words)\n",
    "print(data_words[:1][0][:30])"
   ]
  },
  {
   "cell_type": "code",
   "execution_count": 250,
   "id": "2d3626e1",
   "metadata": {},
   "outputs": [
    {
     "name": "stdout",
     "output_type": "stream",
     "text": [
      "[(0, 1), (1, 1), (2, 1), (3, 2), (4, 1), (5, 2), (6, 1), (7, 1), (8, 1), (9, 1), (10, 1), (11, 1), (12, 1), (13, 1), (14, 1), (15, 1), (16, 1), (17, 1), (18, 1), (19, 1), (20, 1), (21, 1), (22, 1), (23, 1), (24, 1), (25, 3), (26, 1), (27, 1), (28, 1), (29, 1)]\n"
     ]
    }
   ],
   "source": [
    "import gensim.corpora as corpora\n",
    "# Create Dictionary\n",
    "id2word = corpora.Dictionary(data_words)\n",
    "# Create Corpus\n",
    "texts = data_words\n",
    "# Term Document Frequency\n",
    "corpus = [id2word.doc2bow(text) for text in texts]\n",
    "# View\n",
    "print(corpus[:1][0][:30])"
   ]
  },
  {
   "cell_type": "code",
   "execution_count": 256,
   "id": "a8ea0a72",
   "metadata": {},
   "outputs": [
    {
     "data": {
      "text/plain": [
       "title\n",
       "The Development of Japan Special Operations Command’s Capability: 21<sup>st</sup> Century Samurai Diplomats                                 it has been 71 years since japan experienced w...\n",
       "@PhilosTEI:                                                                                                                                 the main objective of the clarinnl project  ph...\n",
       "Neither High-Church, Low-Church, nor No-Church: Religious Dissatisfaction and Dissent in Bleak House                                        church bleak house esther religious anglican c...\n",
       "Searching for Dr. Johnson:                                                                                                                  as you enter the rare books and music reading ...\n",
       "“RESEARCH BASED ADVOCACY FOR POLICY CHANGE: Ban or Restrict & Discourage Mercury Amalgam Use to Safeguard Children’s Health in Pakistan”    mercury is naturally occurring element in envi...\n",
       "                                                                                                                                                                  ...                        \n",
       "American Association for the History of Medicine                                                                                                                                             \n",
       "Marianne Moore’s Cabinets of Curiosity                                                                                                      decorative art objects art objects decorative ...\n",
       "HUMAN AND CIVIL RIGHTS IN AFRICA AND THE DIASPORA                                                                                           rights africa global africa african diaspora d...\n",
       "Court Painting at Udaipur: Art under the Patronage of the Maharanas of Mewar                                                                                                                 \n",
       "Poster Presentations                                                                                                                        endoscopy colonoscopy patients imaging diagnos...\n",
       "Name: abstract, Length: 8732, dtype: object"
      ]
     },
     "execution_count": 256,
     "metadata": {},
     "output_type": "execute_result"
    }
   ],
   "source": [
    "df[\"abstract\"]"
   ]
  },
  {
   "cell_type": "code",
   "execution_count": 252,
   "id": "d979811b",
   "metadata": {},
   "outputs": [
    {
     "ename": "NameError",
     "evalue": "name 'doc_term_matrix' is not defined",
     "output_type": "error",
     "traceback": [
      "\u001b[1;31m---------------------------------------------------------------------------\u001b[0m",
      "\u001b[1;31mNameError\u001b[0m                                 Traceback (most recent call last)",
      "Cell \u001b[1;32mIn[252], line 5\u001b[0m\n\u001b[0;32m      2\u001b[0m Lda \u001b[38;5;241m=\u001b[39m gensim\u001b[38;5;241m.\u001b[39mmodels\u001b[38;5;241m.\u001b[39mldamodel\u001b[38;5;241m.\u001b[39mLdaModel\n\u001b[0;32m      4\u001b[0m \u001b[38;5;66;03m# Running and Trainign LDA model on the document term matrix.\u001b[39;00m\n\u001b[1;32m----> 5\u001b[0m ldamodel \u001b[38;5;241m=\u001b[39m Lda(\u001b[43mdoc_term_matrix\u001b[49m, num_topics\u001b[38;5;241m=\u001b[39m\u001b[38;5;241m3\u001b[39m, id2word \u001b[38;5;241m=\u001b[39m dictionary, passes\u001b[38;5;241m=\u001b[39m\u001b[38;5;241m50\u001b[39m)\n",
      "\u001b[1;31mNameError\u001b[0m: name 'doc_term_matrix' is not defined"
     ]
    }
   ],
   "source": [
    "# Creating the object for LDA model using gensim library\n",
    "Lda = gensim.models.ldamodel.LdaModel\n",
    "\n",
    "# Running and Trainign LDA model on the document term matrix.\n",
    "ldamodel = Lda(tfidf, num_topics=3, id2word = dictionary, passes=50)"
   ]
  },
  {
   "cell_type": "code",
   "execution_count": 251,
   "id": "ba7b1e94",
   "metadata": {},
   "outputs": [
    {
     "name": "stdout",
     "output_type": "stream",
     "text": [
      "[(0,\n",
      "  '0.008*\"digital\" + 0.004*\"new\" + 0.004*\"internet\" + 0.003*\"article\" + '\n",
      "  '0.003*\"research\" + 0.003*\"public\" + 0.003*\"google\" + 0.002*\"books\" + '\n",
      "  '0.002*\"humanities\" + 0.002*\"data\"'),\n",
      " (1,\n",
      "  '0.004*\"digital\" + 0.004*\"de\" + 0.003*\"new\" + 0.003*\"corpus\" + 0.003*\"data\" '\n",
      "  '+ 0.003*\"analysis\" + 0.003*\"also\" + 0.003*\"cultural\" + 0.003*\"la\" + '\n",
      "  '0.002*\"books\"'),\n",
      " (2,\n",
      "  '0.007*\"digital\" + 0.006*\"research\" + 0.004*\"social\" + 0.004*\"humanities\" + '\n",
      "  '0.003*\"de\" + 0.003*\"use\" + 0.003*\"new\" + 0.003*\"data\" + 0.003*\"language\" + '\n",
      "  '0.003*\"cultural\"'),\n",
      " (3,\n",
      "  '0.004*\"digital\" + 0.004*\"de\" + 0.003*\"library\" + 0.003*\"web\" + 0.003*\"work\" '\n",
      "  '+ 0.003*\"american\" + 0.002*\"data\" + 0.002*\"la\" + 0.002*\"internet\" + '\n",
      "  '0.002*\"access\"'),\n",
      " (4,\n",
      "  '0.004*\"library\" + 0.004*\"reading\" + 0.004*\"students\" + 0.003*\"digital\" + '\n",
      "  '0.003*\"research\" + 0.003*\"study\" + 0.003*\"english\" + 0.003*\"de\" + '\n",
      "  '0.003*\"books\" + 0.003*\"web\"'),\n",
      " (5,\n",
      "  '0.007*\"de\" + 0.005*\"digital\" + 0.004*\"research\" + 0.004*\"social\" + '\n",
      "  '0.004*\"media\" + 0.003*\"la\" + 0.002*\"use\" + 0.002*\"new\" + 0.002*\"data\" + '\n",
      "  '0.002*\"article\"'),\n",
      " (6,\n",
      "  '0.004*\"books\" + 0.004*\"research\" + 0.004*\"google\" + 0.003*\"book\" + '\n",
      "  '0.003*\"digital\" + 0.003*\"library\" + 0.003*\"new\" + 0.002*\"students\" + '\n",
      "  '0.002*\"social\" + 0.002*\"ngram\"'),\n",
      " (7,\n",
      "  '0.013*\"digital\" + 0.007*\"de\" + 0.005*\"data\" + 0.004*\"new\" + 0.004*\"en\" + '\n",
      "  '0.003*\"social\" + 0.003*\"libraries\" + 0.003*\"la\" + 0.003*\"internet\" + '\n",
      "  '0.003*\"library\"'),\n",
      " (8,\n",
      "  '0.011*\"de\" + 0.004*\"la\" + 0.004*\"data\" + 0.003*\"new\" + 0.003*\"en\" + '\n",
      "  '0.003*\"article\" + 0.003*\"social\" + 0.003*\"use\" + 0.003*\"digital\" + '\n",
      "  '0.002*\"analysis\"'),\n",
      " (9,\n",
      "  '0.006*\"digital\" + 0.003*\"search\" + 0.003*\"social\" + 0.003*\"university\" + '\n",
      "  '0.003*\"article\" + 0.003*\"de\" + 0.002*\"new\" + 0.002*\"research\" + '\n",
      "  '0.002*\"information\" + 0.002*\"work\"')]\n"
     ]
    }
   ],
   "source": [
    "from pprint import pprint\n",
    "# number of topics\n",
    "num_topics = 10\n",
    "# Build LDA model\n",
    "lda_model = gensim.models.LdaMulticore(corpus=corpus,\n",
    "                                       id2word=id2word,\n",
    "                                       num_topics=num_topics)\n",
    "# Print the Keyword in the 10 topics\n",
    "pprint(lda_model.print_topics())\n",
    "doc_lda = lda_model[corpus]"
   ]
  },
  {
   "cell_type": "code",
   "execution_count": 263,
   "id": "dbe1b829",
   "metadata": {},
   "outputs": [
    {
     "name": "stderr",
     "output_type": "stream",
     "text": [
      "C:\\Users\\lucia\\miniconda3\\lib\\site-packages\\pyLDAvis\\_prepare.py:246: FutureWarning: In a future version of pandas all arguments of DataFrame.drop except for the argument 'labels' will be keyword-only.\n",
      "  default_term_info = default_term_info.sort_values(\n"
     ]
    },
    {
     "data": {
      "text/html": [
       "\n",
       "<link rel=\"stylesheet\" type=\"text/css\" href=\"https://cdn.jsdelivr.net/gh/bmabey/pyLDAvis@3.3.1/pyLDAvis/js/ldavis.v1.0.0.css\">\n",
       "\n",
       "\n",
       "<div id=\"ldavis_el42762091180608976351120646\"></div>\n",
       "<script type=\"text/javascript\">\n",
       "\n",
       "var ldavis_el42762091180608976351120646_data = {\"mdsDat\": {\"x\": [-0.008137955060725729, 0.04766267312495013, -0.029668168458891767, -0.007108824846012918, -0.040258716597802426, 0.0047805894240982765, 0.023155860818694023, 0.032663562297789744, -0.036741287307340206, 0.013652266605240883], \"y\": [-0.00858039418000141, -0.001137850153443325, -0.02656783888248102, -0.03492556420278327, -0.0035768462237708624, -0.031204145145619228, 0.008891449589654184, 0.022124085148219754, 0.05951288480818258, 0.015464219242042533], \"topics\": [1, 2, 3, 4, 5, 6, 7, 8, 9, 10], \"cluster\": [1, 1, 1, 1, 1, 1, 1, 1, 1, 1], \"Freq\": [20.03186397827826, 11.472699051519092, 11.13337988451797, 10.588343110154378, 9.871166074426828, 9.09483981775482, 7.605996982718853, 7.484233339745239, 6.873543629788892, 5.843934131095663]}, \"tinfo\": {\"Term\": [\"de\", \"digital\", \"propositional\", \"en\", \"library\", \"bayesian\", \"la\", \"search\", \"distancing\", \"internet\", \"media\", \"web\", \"data\", \"reading\", \"american\", \"university\", \"google\", \"work\", \"students\", \"english\", \"social\", \"libraries\", \"mechanism\", \"formation\", \"affect\", \"book\", \"el\", \"que\", \"research\", \"public\", \"dickensian\", \"tick\", \"epress\", \"mall\", \"bethell\", \"christensen\", \"savoyard\", \"pall\", \"aphasia\", \"prescribing\", \"handkerchief\", \"gunter\", \"collations\", \"albertson\", \"freq\", \"blasphemy\", \"ukc\", \"unruptured\", \"ixodes\", \"aneurysms\", \"paralysis\", \"penh\", \"genealogies\", \"popper\", \"wordpress\", \"dysphasia\", \"hedwig\", \"atm\", \"entrenchment\", \"nucleo\", \"dorian\", \"lanchester\", \"arrests\", \"offshore\", \"vanity\", \"deception\", \"diktys\", \"wolf\", \"bengali\", \"research\", \"humanities\", \"borsuk\", \"greek\", \"cancer\", \"wallace\", \"linguistics\", \"literature\", \"colonization\", \"social\", \"ware\", \"language\", \"cultural\", \"historical\", \"term\", \"digital\", \"debt\", \"scholars\", \"century\", \"use\", \"les\", \"even\", \"corpus\", \"possible\", \"information\", \"source\", \"contemporary\", \"particular\", \"first\", \"also\", \"new\", \"data\", \"results\", \"history\", \"et\", \"past\", \"used\", \"world\", \"books\", \"one\", \"google\", \"de\", \"study\", \"article\", \"la\", \"web\", \"internet\", \"online\", \"maisie\", \"aci\", \"srm\", \"stasis\", \"stacey\", \"propositional\", \"wwwal\", \"grosset\", \"ayyaminfo\", \"stern\", \"caruth\", \"cocaine\", \"retouching\", \"ile\", \"moriscos\", \"alvar\", \"stool\", \"southeby\", \"rilm\", \"knihoven\", \"brokers\", \"spinners\", \"cuadro\", \"czech\", \"columbus\", \"bhojpuri\", \"endotracheal\", \"jains\", \"sandhed\", \"deathbed\", \"conditioning\", \"associative\", \"colorists\", \"formation\", \"mechanism\", \"dual\", \"automatic\", \"reasoning\", \"nci\", \"lantern\", \"de\", \"link\", \"picaresque\", \"en\", \"pronouns\", \"uma\", \"el\", \"la\", \"como\", \"los\", \"que\", \"da\", \"development\", \"article\", \"data\", \"new\", \"studies\", \"literary\", \"analysis\", \"political\", \"use\", \"work\", \"culture\", \"las\", \"social\", \"libraries\", \"study\", \"learning\", \"digital\", \"system\", \"history\", \"cultural\", \"project\", \"one\", \"google\", \"paper\", \"historical\", \"books\", \"homestead\", \"achorn\", \"predation\", \"trail\", \"painkiller\", \"remixing\", \"cultic\", \"recuperating\", \"ndd\", \"cooperators\", \"shotwell\", \"cullum\", \"knowles\", \"superrich\", \"esperanto\", \"korrespondenten\", \"hurston\", \"zora\", \"neale\", \"gbsd\", \"deakin\", \"missiles\", \"hlscher\", \"jelling\", \"seafarers\", \"laubach\", \"stadial\", \"anthracite\", \"lucie\", \"armstrong\", \"birmingham\", \"amorous\", \"peale\", \"willson\", \"dunbar\", \"gatsby\", \"dallas\", \"walser\", \"skilled\", \"print\", \"ngram\", \"dh\", \"librarians\", \"innovation\", \"viewer\", \"books\", \"book\", \"google\", \"textbooks\", \"bayesian\", \"students\", \"research\", \"human\", \"library\", \"ebooks\", \"issues\", \"membership\", \"canadienne\", \"work\", \"part\", \"first\", \"used\", \"theory\", \"reading\", \"model\", \"new\", \"word\", \"analysis\", \"use\", \"article\", \"social\", \"public\", \"digital\", \"study\", \"data\", \"access\", \"language\", \"de\", \"one\", \"using\", \"also\", \"history\", \"renmin\", \"wenxue\", \"lingual\", \"droits\", \"khatri\", \"schoolmaster\", \"patrimonio\", \"bacchae\", \"chubanshe\", \"mta\", \"francophones\", \"frugal\", \"grammaticality\", \"unicorn\", \"ebay\", \"schopenhauer\", \"humpty\", \"bimetallic\", \"forness\", \"godoy\", \"trainees\", \"ibt\", \"dunamis\", \"edinboro\", \"fossils\", \"freddy\", \"merleau\", \"energeia\", \"rothko\", \"zetkins\", \"longfellow\", \"adblocking\", \"ads\", \"bayesian\", \"blacklists\", \"arabia\", \"reading\", \"ladd\", \"foreword\", \"fessler\", \"connectionism\", \"affect\", \"tracking\", \"orphan\", \"students\", \"english\", \"library\", \"symposium\", \"fundamentalism\", \"whitman\", \"word\", \"narrative\", \"web\", \"ebooks\", \"time\", \"study\", \"book\", \"identity\", \"online\", \"knowledge\", \"cognition\", \"archive\", \"terms\", \"books\", \"text\", \"use\", \"also\", \"texts\", \"research\", \"analysis\", \"change\", \"la\", \"archives\", \"google\", \"digital\", \"de\", \"used\", \"internet\", \"data\", \"two\", \"using\", \"one\", \"article\", \"sme\", \"processional\", \"mentoring\", \"nus\", \"rickel\", \"keyes\", \"syriac\", \"lorang\", \"dynamo\", \"thu\", \"biofiction\", \"thistlethwaite\", \"toby\", \"nyes\", \"nno\", \"disjunct\", \"devi\", \"reinhardt\", \"marginales\", \"upstairs\", \"centauri\", \"palacio\", \"ethnoracial\", \"tagliamonte\", \"pow\", \"spillane\", \"examiners\", \"reification\", \"dunedin\", \"radicalisation\", \"dime\", \"similarity\", \"nelson\", \"unanticipated\", \"digital\", \"internet\", \"theatre\", \"moorish\", \"tenure\", \"unintended\", \"ebook\", \"unions\", \"public\", \"warburg\", \"archives\", \"new\", \"network\", \"women\", \"war\", \"system\", \"article\", \"first\", \"science\", \"project\", \"world\", \"semantic\", \"google\", \"humanities\", \"archive\", \"well\", \"university\", \"climate\", \"technology\", \"two\", \"books\", \"content\", \"online\", \"research\", \"search\", \"one\", \"access\", \"also\", \"data\", \"web\", \"use\", \"language\", \"libraries\", \"work\", \"library\", \"cosmetic\", \"exper\", \"willcox\", \"sartor\", \"dolezal\", \"downey\", \"info\", \"softw\", \"underwood\", \"kierkegaard\", \"breyer\", \"suffragette\", \"hurst\", \"vaughn\", \"resartus\", \"uhm\", \"jessie\", \"gallic\", \"branly\", \"bandwagon\", \"xiqu\", \"pract\", \"dockyard\", \"mercator\", \"geothermal\", \"polydrug\", \"britannic\", \"koonce\", \"quantifier\", \"computat\", \"skeptical\", \"cute\", \"aftershock\", \"soviet\", \"woolf\", \"carbon\", \"corpus\", \"aesthetic\", \"documents\", \"cultural\", \"analysis\", \"different\", \"policy\", \"studies\", \"two\", \"web\", \"also\", \"new\", \"text\", \"linguistic\", \"la\", \"words\", \"indd\", \"data\", \"popular\", \"digital\", \"de\", \"using\", \"books\", \"number\", \"que\", \"article\", \"language\", \"social\", \"time\", \"study\", \"approach\", \"used\", \"literature\", \"library\", \"one\", \"humanities\", \"google\", \"internet\", \"research\", \"imac\", \"gulnare\", \"corsair\", \"praelectiones\", \"coustillas\", \"pirate\", \"harmon\", \"iroquoian\", \"bodkin\", \"phylis\", \"galsworthy\", \"gauss\", \"fetishes\", \"mutiny\", \"pilgrims\", \"gissing\", \"bindings\", \"senapati\", \"hammadi\", \"wellwood\", \"jerichau\", \"hewitt\", \"adlerian\", \"videographic\", \"chapbook\", \"cardano\", \"kreuger\", \"remediated\", \"byrons\", \"bentley\", \"lyndon\", \"smokefree\", \"proportionality\", \"bounty\", \"procurement\", \"media\", \"christian\", \"de\", \"gunpowder\", \"warsaw\", \"security\", \"numeracy\", \"magazines\", \"social\", \"research\", \"computer\", \"ethics\", \"la\", \"digital\", \"development\", \"economic\", \"culture\", \"sociology\", \"practices\", \"law\", \"nature\", \"use\", \"community\", \"history\", \"article\", \"internet\", \"also\", \"study\", \"new\", \"data\", \"en\", \"project\", \"book\", \"online\", \"part\", \"many\", \"one\", \"humanities\", \"political\", \"different\", \"public\", \"analysis\", \"grenadian\", \"nesbit\", \"statin\", \"peoria\", \"hanauer\", \"marryat\", \"janzen\", \"annuities\", \"clarkes\", \"pampers\", \"revels\", \"benot\", \"charton\", \"ioannidis\", \"fern\", \"migel\", \"needle\", \"zeller\", \"multiaxial\", \"neotoma\", \"kanawha\", \"roh\", \"stebbins\", \"johannesburg\", \"cutthroat\", \"multispectral\", \"prehistoriques\", \"camelot\", \"bilge\", \"mud\", \"nabokov\", \"percival\", \"kuusisto\", \"cmlf\", \"franaise\", \"linguistique\", \"chavez\", \"digital\", \"borges\", \"douglass\", \"negrito\", \"riding\", \"preservation\", \"en\", \"som\", \"plac\", \"data\", \"de\", \"libraries\", \"teaching\", \"fessler\", \"american\", \"internet\", \"les\", \"history\", \"library\", \"new\", \"la\", \"et\", \"affect\", \"google\", \"social\", \"services\", \"communication\", \"games\", \"one\", \"accessed\", \"public\", \"collection\", \"le\", \"web\", \"online\", \"world\", \"may\", \"also\", \"language\", \"research\", \"article\", \"use\", \"study\", \"students\", \"books\", \"media\", \"eureka\", \"venable\", \"dow\", \"franc\", \"astyanax\", \"occitan\", \"filial\", \"sagas\", \"otherworld\", \"trailer\", \"hae\", \"madison\", \"cavefish\", \"jethro\", \"leaning\", \"fernndez\", \"blacksons\", \"litchfield\", \"biosensors\", \"javier\", \"comique\", \"klim\", \"holberg\", \"badger\", \"nikolaevich\", \"marrow\", \"fables\", \"collocating\", \"herland\", \"biopics\", \"porn\", \"michelangelo\", \"distancing\", \"chang\", \"schemata\", \"enjoyment\", \"sadness\", \"artworks\", \"embracing\", \"feelings\", \"search\", \"reception\", \"university\", \"strait\", \"negative\", \"health\", \"positive\", \"family\", \"digital\", \"robinson\", \"corporate\", \"information\", \"chinese\", \"art\", \"narrative\", \"social\", \"article\", \"work\", \"book\", \"law\", \"knowledge\", \"emotions\", \"humanities\", \"service\", \"new\", \"public\", \"de\", \"research\", \"history\", \"one\", \"google\", \"also\", \"century\", \"libraries\", \"analysis\", \"education\", \"la\", \"used\", \"well\", \"american\", \"chellis\", \"dwinell\", \"oyen\", \"butts\", \"anzalda\", \"pallidum\", \"kodachrome\", \"incan\", \"muiz\", \"framingham\", \"lund\", \"pigott\", \"sistrunk\", \"evangelina\", \"hubler\", \"hymns\", \"equifinality\", \"smoky\", \"scriptural\", \"tuera\", \"vegas\", \"tristan\", \"endoscopy\", \"referendums\", \"ginsberg\", \"daoist\", \"puppy\", \"breccia\", \"romanische\", \"desiree\", \"slang\", \"islamist\", \"ormond\", \"refugee\", \"lgbt\", \"hester\", \"booksgooglecom\", \"distancing\", \"black\", \"compounds\", \"gloria\", \"american\", \"interscience\", \"century\", \"work\", \"web\", \"access\", \"library\", \"scholarly\", \"political\", \"los\", \"poetry\", \"english\", \"studies\", \"archive\", \"internet\", \"digital\", \"de\", \"la\", \"historical\", \"sadness\", \"data\", \"present\", \"google\", \"texts\", \"time\", \"books\", \"el\", \"public\", \"also\", \"one\", \"two\", \"history\", \"en\", \"first\", \"social\", \"new\"], \"Freq\": [1229.0, 1530.0, 93.0, 422.0, 552.0, 134.0, 602.0, 313.0, 54.0, 518.0, 337.0, 463.0, 768.0, 323.0, 367.0, 311.0, 615.0, 459.0, 417.0, 353.0, 805.0, 400.0, 80.0, 83.0, 102.0, 476.0, 203.0, 264.0, 957.0, 412.0, 7.581828039030669, 6.353892989684785, 5.11639741733262, 5.11587473129975, 5.110181836826244, 5.109547501086986, 5.10779046552238, 5.105035198879177, 5.1021496742451875, 5.0999303261926485, 3.8695650349043804, 3.868074304565382, 3.868020547299343, 3.8677860829159276, 3.867316327114235, 3.866121675255881, 3.865791274828458, 3.865771012474336, 3.8656502653844638, 3.865491888208365, 3.8647153024728205, 3.8646069609058804, 3.8642343817004887, 3.8640611178968713, 3.8639507087427765, 3.862748613570663, 3.862085745128662, 3.8616916630168543, 3.860525130343813, 3.859262248109333, 7.656619282718131, 4.73021927770268, 9.79505189841604, 6.355391163337543, 5.467152413265021, 10.388865410533612, 5.349539785520792, 9.499464676479791, 6.005785745863509, 354.79552106531423, 207.59735534908998, 5.947044354228073, 25.081696330825483, 16.060942589525617, 12.925913116118249, 62.59185754075276, 131.28617375943887, 7.081813512837009, 254.98913915866217, 5.256442538677401, 166.30181091528792, 156.2458741777508, 132.16580803880575, 61.486356732397354, 375.4160805271116, 11.045665897751391, 89.59221685929128, 109.4239306207475, 176.80205724587955, 85.4617798043062, 66.52561247296433, 109.0305002124115, 55.57550549132347, 108.87595055365459, 45.611746751380494, 56.71617182201686, 64.5766353494146, 115.77696762934997, 144.92498431043865, 175.88617899071448, 166.60297069812523, 85.58907701028603, 124.47194903031539, 79.33752048740698, 59.67135264023461, 107.16042221470946, 95.38857339405118, 137.04809256253947, 119.0111900100521, 123.10658725199823, 178.34480146142744, 108.11937244549452, 115.36097570997492, 111.34541048920096, 96.05379392320036, 96.736084451904, 91.12904612150517, 5.461968946174251, 5.440275250986349, 4.5627150725202235, 4.559925206479684, 4.558233287719614, 78.73873882432872, 3.6689675134198945, 3.6685189560106597, 3.6663038781603055, 3.6661466225532666, 3.666039338230995, 3.6647642415618717, 3.6647178227381074, 3.6644369414881854, 3.664455414285398, 3.66427518609721, 3.6640987472007582, 3.663357467004927, 3.658377153510316, 3.6311657758935088, 3.606798735385945, 4.311593025245982, 3.5531317070229047, 6.311835559650179, 2.776023284167571, 2.774634745577105, 2.7721122614346783, 2.7719677946872476, 2.7720085295734083, 2.771739489860161, 25.562306273041028, 25.465552392502985, 5.767448383399662, 54.11778166683558, 52.65958263174326, 26.377381030782526, 34.5021795383902, 25.49482846045438, 11.71368976074206, 8.47930285398894, 369.6032415964651, 29.842262027922697, 5.76608518569768, 108.12250602543952, 12.475474761478969, 15.42905715146778, 55.280954025955914, 117.39477406721404, 28.01985521763646, 44.19482402675956, 62.297380911527526, 22.61807206576463, 69.59485198656574, 103.29576684094584, 115.35962126170867, 113.86474567190479, 74.84889444294743, 65.10329081327744, 80.15322837924768, 67.85898502094349, 89.63124738369692, 71.92023422470548, 49.88405527113163, 33.98850693996631, 90.10660645337934, 60.52132471775455, 69.24408482915898, 47.987060042316365, 83.52523573058735, 43.255375241017205, 55.066991668089564, 53.40119628524716, 49.40291374226025, 53.20100421354899, 55.033509486311345, 48.240859224202005, 48.453855312675714, 48.65115236548767, 9.675181808364579, 6.43116422347011, 4.618449809010005, 3.7184236233851307, 3.71657903851552, 3.713987518581589, 3.713770103021328, 3.712039741760015, 3.7114192110911954, 5.167683802244275, 3.70798951510201, 3.7140663489591463, 3.7018260367774127, 3.7038204683122347, 10.972901732938857, 4.896789070335365, 3.6077935771385214, 3.5683450635645957, 3.5638374828210533, 2.8106260955248947, 2.809020300049693, 2.808718308457534, 2.808814605624288, 2.8087838089170205, 2.8085229562099423, 2.8083310513549553, 2.8075914707281915, 2.8073519918552616, 2.8067300822294, 2.8064391222935754, 5.51705176183685, 3.509852463764586, 6.696798693916816, 5.216946582911022, 8.530299966477696, 10.662222711416337, 4.4158083944954685, 4.531134708774176, 4.002686194683638, 68.80743381484103, 72.33796833597121, 31.98434964780936, 36.722302631977755, 33.07931876061045, 36.472483419843705, 133.9316917570691, 101.64115113325602, 121.34432182844006, 15.276030031718873, 36.32092317068173, 77.52291300316031, 132.22249105121512, 47.662278547976676, 87.35176578426555, 35.85528798845558, 46.87660766104689, 7.019366163749231, 7.349044915046322, 70.73670871013228, 46.376557388275636, 65.30730253856893, 62.931576511417376, 46.89804952374253, 52.58472127546575, 40.775553802427964, 86.88989975128705, 44.183041228802274, 64.0182755591863, 70.95234081928547, 68.55502951790591, 76.10393311215637, 54.767981671766734, 99.32333394742342, 60.43364179539137, 67.25047732084175, 49.21413841674938, 53.25550113888969, 67.21088838347573, 53.55423471521126, 49.05797061245833, 49.73683300275674, 47.14243380652241, 6.9165178719059, 6.910843228049944, 4.343038249906226, 4.342507986983703, 3.500801934598494, 3.4994015246460592, 3.4992229488803126, 3.4984310516963464, 3.497181458486097, 3.4964734940977817, 2.6485439560600557, 2.6484777278384874, 2.647301357249444, 2.646867267321937, 2.6466416979336254, 2.646177881807659, 2.6455687133142245, 2.6452185561823685, 2.6447204237831805, 2.6445790057655083, 2.6441449158380017, 2.6437731197822667, 2.643465803348191, 2.6432601242838487, 2.6431792515380397, 2.6429386004755093, 2.64236484113024, 2.641753705461907, 2.6413121839847857, 2.6333993322448066, 4.993968554976886, 4.312706598727925, 6.861361784963931, 68.24497976534107, 5.9839480109789935, 6.811248660160649, 112.74935844885194, 3.7230957581298663, 4.3456554668206095, 20.564132955625666, 13.015882657054329, 37.22099843051472, 10.437716350147504, 15.857291937320657, 105.69361792646015, 90.35408817091054, 124.40504982568747, 8.001555590482361, 12.822669361466087, 6.634980171994376, 62.827516486858464, 45.42752752527594, 88.51360283347921, 39.394511615089506, 76.35433566593753, 90.40227259001377, 83.35853445740005, 31.79104315427941, 74.674959329758, 55.12379729604308, 15.807836286083306, 65.89511328550441, 39.46411638308279, 88.58514155297229, 54.87525480212184, 83.64692054885671, 81.11668249116639, 49.38701869090647, 101.72040025154088, 66.50596917785161, 46.17354669341937, 70.84609906895854, 43.1719420553539, 67.27375841486698, 103.11207594742825, 89.98323810772693, 55.05712318149794, 59.32727410423098, 65.5176185426651, 50.11854196580104, 49.26924349260925, 51.08873863672824, 51.04917481517832, 5.545983657790951, 5.539804934293698, 4.633172523694125, 4.620314209264876, 3.7329380934509513, 3.728967425089119, 3.728898550722584, 3.7285880047622313, 3.72832147318996, 3.7264492315339757, 3.7262964037975816, 3.7232871237828253, 3.722279683344516, 3.725343981344374, 3.7195829869932644, 3.6654868587973395, 2.823521569034909, 2.8221715906967617, 2.8216911002935388, 2.821640565255371, 2.819896087587012, 2.819562923121673, 2.8191488618412026, 2.8188662324140314, 2.8186202816435943, 2.818563429725656, 2.8160601114035217, 2.8154775320723875, 2.815121749102062, 2.8144442128040486, 4.6342088995171915, 22.452005076855336, 4.642669850544595, 3.7462752681209013, 214.71945174290073, 98.71689761151826, 12.765852426108426, 4.628936138841282, 9.827855343012722, 5.424560594833682, 27.983092717065116, 4.75728780005571, 73.64226587790239, 6.261600144766976, 50.077086391428196, 106.89848768760686, 29.334376815392197, 36.65514979100836, 36.22000072815952, 42.38792602887019, 80.56890467971158, 63.55160551414271, 53.453104068654426, 55.52869545790047, 53.61953714145321, 28.664588679843494, 72.15519250185638, 64.45416129581655, 52.312296774132996, 46.355017814130214, 46.40323802151726, 14.533591698568626, 39.373162147391554, 52.1451431694997, 68.2722757885584, 37.68555269859622, 50.16186136319817, 78.85313906384427, 43.0087864664975, 55.81413691542149, 46.15841369338284, 57.62889252024658, 64.0376482509139, 50.18370554098676, 56.17933896479625, 50.45371914040396, 46.759669796526154, 46.6845323455835, 44.347035785302374, 6.7223660313417755, 8.650413216135238, 5.070675555641499, 5.067701680776156, 5.066973982608349, 4.237416094792166, 4.231446566684943, 8.872572933253817, 6.722930016196289, 3.4087781556401358, 3.407620522280306, 3.405292864415375, 3.404056002823653, 3.403736461471329, 3.402398593271176, 3.4017493723567593, 3.4003018612954095, 3.3987860111904364, 3.3986268037481504, 3.393035768805607, 3.388103717497997, 15.302046084391952, 2.5795075171007187, 2.5785886949043184, 2.578167771454312, 2.578051745275854, 2.577476871233071, 2.577258524233804, 2.5767350922183634, 2.5763626068816943, 5.230303921377498, 3.126539407435134, 4.220496173667522, 20.53179277972145, 5.057824436037163, 6.118194439775217, 73.06080593042336, 18.442982125187196, 28.076634971611686, 68.43539716839847, 69.46805268603349, 55.95932523937898, 32.373436568844284, 57.98127177206712, 54.16410212016211, 59.4256857980778, 68.60561695942825, 81.86702015036248, 44.979719158255676, 31.76675708457247, 66.31655037772427, 41.30036607700424, 9.575645014044786, 72.71132456720757, 26.458922142715696, 103.82086732219544, 91.69062399696118, 47.199872948761865, 59.483048539924845, 30.115190144835662, 35.39302499752054, 53.00460332973524, 44.901289967488786, 55.230749928682194, 40.77294786767881, 44.97882399188207, 33.871137025396685, 39.75967961103461, 36.954919096368265, 41.38615185317035, 40.30504320262828, 37.94298151059318, 37.872722965920964, 36.97219160189929, 38.31447555564051, 5.990331193867723, 4.506556837996952, 4.499753888450567, 3.7703576782765063, 3.763542795934572, 6.739134839917672, 3.0352767471073285, 3.032121778768493, 3.03000056734928, 3.0294623354658556, 3.0286609540384934, 3.0283167870931997, 3.0275094392680635, 3.0254516600778185, 6.538960310466017, 4.5074640444795735, 2.2942606632469835, 2.2932860992737005, 2.29287143462839, 2.292561809986, 2.2920854402268667, 2.2915684047565876, 2.291527111003571, 2.291317188008198, 2.2910906219032445, 2.2909780453978725, 2.290724002461064, 2.290683336749918, 2.2903253528834635, 2.2900768053130256, 6.167003768465677, 4.731397397910158, 3.7685143753851986, 4.9554152229723885, 3.6824534837847587, 77.06202379820554, 15.986112467405995, 158.2276430353424, 3.7613882982961973, 3.030215985711024, 18.731774614174455, 3.7708061001723814, 11.324893724242163, 87.05141662983226, 90.76309384393623, 24.217724125379583, 16.65748671530923, 58.582685589733934, 97.56795263760941, 40.14295672598089, 30.49746203772688, 31.959108908378578, 15.175281522053085, 29.034933396288338, 30.51947113705328, 22.564416460879148, 49.96851855514546, 25.016945088705675, 42.33776460380219, 45.79117592755693, 40.762660713075384, 43.663797137170825, 40.59517701909164, 48.68813712929414, 47.439986812261196, 35.2195305016856, 33.00755949561432, 37.015252940847994, 33.639191253922355, 26.575260164137617, 29.233741306628755, 34.61792416914507, 34.503871765376275, 31.068000394994087, 30.264933303250153, 28.90424039510623, 28.708884202888683, 4.417382245870867, 4.412678742158669, 2.9698905657100365, 2.9695525264864693, 2.967840391808419, 2.9661783141269114, 2.96617398821363, 2.965992917843419, 2.9652164164093926, 2.964614187481849, 2.963866113477958, 2.2460416761953805, 2.2459543854452364, 2.2456920497040946, 2.245538479782602, 2.245346131138479, 2.245363125797799, 2.2452506520524804, 2.245249261580354, 2.2445937312213067, 2.244402309558601, 2.2443386568346018, 2.2443454546983297, 2.244267279265457, 2.244003707549093, 2.243972653671608, 2.243882890971017, 2.243806415004076, 2.2437154163282624, 2.2435962992161187, 3.9191856618644714, 4.854054146218962, 2.7850337854028133, 4.9276870611521355, 8.6970076372557, 5.776291890772936, 3.110789269213651, 272.7107149217008, 6.998793748145183, 4.490729032539851, 3.6946673636235707, 3.846809733733375, 34.089222517531816, 76.67433601996224, 2.6411678143819066, 2.9693056404356186, 107.23428814227476, 146.6874280691583, 66.89684255043976, 28.059930206478885, 14.476285644168083, 53.0626954737752, 64.63011837385179, 38.56615219569754, 60.385893166824566, 63.5077984882026, 79.37736933817027, 65.89324055693717, 38.69852514211096, 21.808636969721068, 59.65439853457869, 68.99867280053932, 23.59373868105303, 25.072691801528677, 9.622289588784614, 49.99487148426706, 17.746076636986942, 39.81962388423955, 27.888977529445963, 23.459356038926554, 40.826862116849014, 37.52544622599206, 34.74039853586798, 28.53097766772449, 43.93992774343015, 37.4303132130561, 46.439608530102156, 38.76884224451388, 37.82398368142341, 36.12960255148029, 33.10841437909699, 33.670718834978345, 29.801241315649992, 4.512731403947333, 4.512343191688439, 4.507870521065312, 4.386620878670165, 3.7722380874537764, 3.77078456173005, 3.769283077035744, 3.770661684604245, 3.0342323942507674, 3.033480942451387, 3.0327811387741694, 3.031969525425896, 3.0303993657559665, 3.0303678660770648, 3.0302353404009654, 3.0301127470560516, 3.029182229514447, 3.026979806019359, 3.6289857774554664, 4.667882646705473, 2.8940383909148157, 2.9201731920718985, 2.915292728308399, 2.2951686239956475, 2.294549130310584, 2.2943053625252112, 2.294078054031516, 2.2938261984907493, 2.2929440655910613, 2.292658156343374, 3.9199730004063977, 3.8507511790062807, 28.896177657071, 3.8983894771792493, 14.71662501007548, 16.106783595964046, 14.194874544862646, 15.080705677122507, 14.827031668406228, 14.97466243377185, 67.69735726438117, 17.369441697771304, 56.44091806326925, 5.272169365162585, 19.730406765922197, 26.963398224121544, 18.188131406343004, 21.843266741561887, 113.81715070032463, 6.750533862716814, 16.193658007689116, 44.0941154905147, 23.8148923731192, 28.31394780836723, 27.03708136490915, 59.23292700775578, 51.8636276417419, 43.097395272409386, 43.04453483828014, 29.917425625147636, 29.92426133925016, 15.89071169042946, 38.66265366805154, 16.096166785269777, 44.586967980034736, 32.79845777026593, 49.4338093835683, 44.18040758385143, 34.21893096605518, 33.728957149893496, 34.98789999227572, 33.920595520712574, 28.470560806494937, 29.826606659037605, 29.421721705234784, 24.91629595654548, 28.664542072350148, 26.47683431914617, 25.204363074127972, 25.23921363779048, 6.511444956835214, 5.225454499727933, 4.583615207567943, 3.9348969960759983, 3.9345775513285144, 3.2845265507239554, 6.506103184396172, 2.6458534771600615, 2.6444999386152093, 2.641996254215935, 2.6408118476710727, 2.6407254721275684, 2.6405507908608175, 2.6382637691377067, 2.4973722289695366, 2.000054179984626, 1.999853441291343, 1.9990258767264868, 1.9988625352657265, 1.9987221146894159, 1.998482531128803, 1.9981866104469381, 1.9980250785296871, 1.9978500353542343, 1.9978454511773445, 1.9977768091602304, 1.9976128645183004, 1.9976232392344195, 1.9975738990147365, 1.9975182857108884, 3.2920696931600077, 3.288442885422714, 3.546844733440958, 3.1098918495593004, 5.2191239927154855, 2.981653361424584, 7.3265477987248495, 14.591434075376483, 20.528032901120316, 2.649945458215443, 2.6355545205957918, 42.47401830547954, 3.9320782098336617, 36.537681019090904, 44.656908761629744, 44.692038032954244, 36.8316512543252, 46.8148419937016, 26.475767898891988, 36.50572110290458, 21.46277841693122, 17.150913215394958, 32.636780037557735, 36.12633269331893, 32.982668247522064, 38.45163181091538, 66.50344744526474, 58.548007035006776, 39.269070652839105, 29.741535515237647, 7.93166252600266, 41.34734922727253, 23.89119352694354, 33.811711330061335, 22.806500067609818, 26.831324379189525, 32.55962303250688, 19.904999832742327, 25.886572811590366, 29.042032585797344, 27.0998857282856, 24.775462912292518, 26.746132035868122, 24.36620690136207, 24.56610789663643, 27.35054659044412, 26.331187785234743], \"Total\": [1229.0, 1530.0, 93.0, 422.0, 552.0, 134.0, 602.0, 313.0, 54.0, 518.0, 337.0, 463.0, 768.0, 323.0, 367.0, 311.0, 615.0, 459.0, 417.0, 353.0, 805.0, 400.0, 80.0, 83.0, 102.0, 476.0, 203.0, 264.0, 957.0, 412.0, 8.31115058311517, 7.083169768809281, 5.845650932735998, 5.845139899984287, 5.839448665750966, 5.838818200839753, 5.837063307790446, 5.834313272776977, 5.831425056774373, 5.829204875071583, 4.598812410299711, 4.5973320936352176, 4.59726892270996, 4.59703709977089, 4.59657160015, 4.595375921204898, 4.59504313432363, 4.59503361676492, 4.594898411208493, 4.594749446713049, 4.593965690363694, 4.59386527369164, 4.59349583780988, 4.593318517489517, 4.593199132024193, 4.592005415759119, 4.591340846518831, 4.590952913799596, 4.589798380319858, 4.588522392566711, 9.202457432801857, 5.67980136852817, 12.227970548436627, 7.822762703410566, 6.7872483241590595, 14.407993998314712, 6.6764118645757, 13.112655293089546, 7.698268040137465, 957.3272760676708, 515.8268410484849, 7.65485855410003, 43.2324468837568, 25.43026299283335, 19.79202579844919, 137.00707200049888, 348.8995870728371, 9.630866719485288, 805.7176941047042, 6.693713571620044, 480.0154922080534, 466.75210549369183, 380.12894197657107, 145.66111624442166, 1530.5163109225464, 16.810862912134994, 248.76032977455662, 327.9336475210114, 625.7270253539704, 243.8040352137249, 178.32676642305836, 359.8828493216489, 146.22971432753152, 373.2141163099672, 114.90797078219116, 158.16209221361387, 191.222818899845, 437.4369359088998, 600.710074363171, 811.2344824604626, 768.2632805329378, 293.21394909242775, 507.79018588537275, 265.49475631861753, 174.8136322070858, 423.5731488656272, 356.6892122470517, 647.1541500656319, 518.4159862251815, 615.1242139669376, 1229.754432837271, 535.1420939727095, 629.4403661021303, 602.4207554045774, 463.99976738576476, 518.6968618055934, 408.66931281705286, 6.226768994072772, 6.205099799403184, 5.327541197336055, 5.324715998100975, 5.323027009576113, 93.47945298328978, 4.4337271025989535, 4.433284277703177, 4.431070523527782, 4.430925742771993, 4.430828080322139, 4.42954442827539, 4.429498635604049, 4.429209868393365, 4.429237394080366, 4.429059068413474, 4.4288656915593, 4.42814308287329, 4.423169593381996, 4.432795100398624, 4.424195580539797, 5.289183028217832, 4.4234207926738085, 8.021184595225947, 3.540790856321907, 3.5393988703599253, 3.536884970498371, 3.536713095169823, 3.5367750426474505, 3.5365164320001186, 34.248878054011776, 35.296173183986326, 7.595472966614331, 83.01599349366073, 80.68300548788099, 38.99473296670693, 58.25252495350199, 43.50310256664549, 17.64410651502354, 12.101827899830933, 1229.754432837271, 67.03891460460433, 7.999750561337049, 422.1430398132447, 23.29850720632418, 32.97757167280334, 203.10578350186864, 602.4207554045774, 79.475652307499, 156.45761653447275, 264.57477469753496, 61.03990761682579, 339.9965058558202, 629.4403661021303, 768.2632805329378, 811.2344824604626, 426.6638600418818, 347.91372861263665, 495.7160303785588, 386.81037323116226, 625.7270253539704, 459.3015983958997, 245.47251694688325, 128.8480231448947, 805.7176941047042, 400.96199840349925, 535.1420939727095, 260.93317786760764, 1530.5163109225464, 224.8588567319922, 507.79018588537275, 466.75210549369183, 365.60020456950605, 518.4159862251815, 615.1242139669376, 358.9704350755158, 380.12894197657107, 647.1541500656319, 10.801548196493819, 7.194796883680113, 5.382074424665884, 4.4820332255963535, 4.480188579930293, 4.477599360003821, 4.477382628347852, 4.475656263502499, 4.475028705474203, 6.231731290134285, 4.471632249766289, 4.481429793506099, 4.472028731560705, 4.475665141011155, 13.288189307386455, 6.107628736595137, 4.515537976192131, 4.530862530900841, 4.529366650383841, 3.574208136537706, 3.572623132826125, 3.5723014613499817, 3.5724248309052418, 3.5723965821717116, 3.5721364265202196, 3.5719422628212922, 3.571205226683676, 3.570957976892569, 3.5703441266730502, 3.5700544306036024, 7.043235278113915, 4.4734766480119745, 8.693485231405612, 6.945914177409529, 12.164160892031772, 15.866110870994012, 6.117377815197403, 6.344811448556713, 5.50938950353609, 185.47866255934736, 222.73871534980938, 87.23458786109379, 106.11702346155496, 93.74499370782401, 108.37863917120542, 647.1541500656319, 476.91840660590276, 615.1242139669376, 36.267384391791936, 134.25496755033964, 417.8216409298503, 957.3272760676708, 207.93662650168932, 552.7391935596834, 146.14142587007413, 224.5633852798246, 11.934052288653149, 12.866757389276383, 459.3015983958997, 241.6209638302368, 437.4369359088998, 423.5731488656272, 260.4344480395793, 323.3210051200752, 209.0422396323534, 811.2344824604626, 243.6219557070471, 495.7160303785588, 625.7270253539704, 629.4403661021303, 805.7176941047042, 412.06409945662733, 1530.5163109225464, 535.1420939727095, 768.2632805329378, 359.3391234871601, 480.0154922080534, 1229.754432837271, 518.4159862251815, 387.041434460273, 600.710074363171, 507.79018588537275, 7.685451266783464, 7.679789787428398, 5.111959701325091, 5.111434664737756, 4.269720894815394, 4.268312412110861, 4.268139814614341, 4.267359742889496, 4.266089271962665, 4.26538366653035, 3.417448846845475, 3.4173744220551336, 3.416177362262189, 3.415776825140671, 3.415544990931678, 3.415082763795331, 3.414475287635536, 3.414129420991743, 3.413619911051548, 3.4134818551287496, 3.4130406831684055, 3.412678105512919, 3.4123822772455976, 3.4121591446500497, 3.4120990331027223, 3.4118416682961805, 3.411281914151954, 3.410672230656553, 3.410229103755886, 3.410178200167568, 6.736305883871956, 5.8517591024019735, 9.867505558204812, 134.25496755033964, 8.561653702609552, 10.18151515653673, 323.3210051200752, 5.171810902930946, 6.260717462593351, 45.77155707952254, 26.090815242147084, 102.7498077777352, 20.037341162180585, 34.683151418591216, 417.8216409298503, 353.04252951441384, 552.7391935596834, 14.841574333368808, 28.239135216122072, 11.64901544275191, 243.6219557070471, 166.32232676891343, 463.99976738576476, 146.14142587007413, 401.73785001586435, 535.1420939727095, 476.91840660590276, 113.46787630347056, 408.66931281705286, 266.87057180039847, 40.6705174677813, 366.6598769424699, 172.8081104820309, 647.1541500656319, 302.45847985525114, 625.7270253539704, 600.710074363171, 272.38401932511675, 957.3272760676708, 495.7160303785588, 267.16984000811345, 602.4207554045774, 250.90256632710006, 615.1242139669376, 1530.5163109225464, 1229.754432837271, 423.5731488656272, 518.6968618055934, 768.2632805329378, 397.3098738182018, 387.041434460273, 518.4159862251815, 629.4403661021303, 6.309254315468884, 6.303094192178821, 5.396435837775642, 5.392519711755761, 4.496167205111693, 4.492208836568116, 4.492148207208188, 4.491827671086743, 4.491564368923785, 4.489706590115676, 4.489536004636202, 4.4865415638733, 4.485538014914842, 4.494445752596106, 4.488829631495712, 4.492347785324753, 3.586743893205658, 3.585400943193045, 3.5849145125382234, 3.584870723237316, 3.5831275720178812, 3.5827927954331353, 3.5823866223161516, 3.5821051995804045, 3.5818458050987183, 3.58180750138943, 3.5792976855517598, 3.578724792784356, 3.578361343548901, 3.577685447274103, 6.225650586438029, 63.694085974657476, 7.159852077584319, 5.3171792453360265, 1530.5163109225464, 518.6968618055934, 29.741667947914408, 7.14741736221465, 20.72174278964815, 9.001952734346576, 99.30791705151547, 7.636659408732412, 412.06409945662733, 11.51983819218392, 250.90256632710006, 811.2344824604626, 117.8777219166058, 169.39339833482347, 170.6678135613857, 224.8588567319922, 629.4403661021303, 437.4369359088998, 334.1731035708238, 365.60020456950605, 356.6892122470517, 128.9532268295456, 615.1242139669376, 515.8268410484849, 366.6598769424699, 303.271522707208, 311.582343676017, 43.59044565368535, 236.40220914734704, 397.3098738182018, 647.1541500656319, 238.2905676923313, 408.66931281705286, 957.3272760676708, 313.51232788870425, 518.4159862251815, 359.3391234871601, 600.710074363171, 768.2632805329378, 463.99976738576476, 625.7270253539704, 480.0154922080534, 400.96199840349925, 459.3015983958997, 552.7391935596834, 7.493587498865881, 9.920023360940323, 5.841871103788409, 5.838907069147455, 5.838165550810201, 5.008591278087489, 5.002636730356647, 10.695434984265487, 8.217096101393201, 4.1799466797393, 4.178784622035329, 4.176479008132652, 4.175226397674081, 4.1749012267513015, 4.173588385867208, 4.172932738713432, 4.171490522975237, 4.16997354704873, 4.171148806850615, 4.1799473360763795, 4.1781861361396775, 19.31085581117498, 3.3506654175804154, 3.3497472514054896, 3.3493280077379732, 3.349217574450429, 3.3486371913526827, 3.3484185042832064, 3.3479039502613026, 3.347521813913226, 7.419751876972094, 4.186892349139091, 5.940012835711986, 46.75670709982088, 8.23158974430609, 10.866134775836011, 359.8828493216489, 53.772414347856916, 114.42995797521725, 466.75210549369183, 495.7160303785588, 366.79930145561724, 159.64340078880355, 426.6638600418818, 397.3098738182018, 463.99976738576476, 600.710074363171, 811.2344824604626, 302.45847985525114, 169.5461866150507, 602.4207554045774, 280.7218436021411, 23.653180803876303, 768.2632805329378, 135.55019819893425, 1530.5163109225464, 1229.754432837271, 387.041434460273, 647.1541500656319, 179.16402690197077, 264.57477469753496, 629.4403661021303, 480.0154922080534, 805.7176941047042, 401.73785001586435, 535.1420939727095, 256.79569994992903, 423.5731488656272, 348.8995870728371, 552.7391935596834, 518.4159862251815, 515.8268410484849, 615.1242139669376, 518.6968618055934, 957.3272760676708, 6.770773279748778, 5.286994518867756, 5.280209176818014, 4.550763084023906, 4.543972856789068, 8.398234094653285, 3.8156668112445176, 3.8125123822287477, 3.810396201755592, 3.8098621624366116, 3.809075244412154, 3.8087171036288536, 3.8079094545685717, 3.805875077302766, 8.473824837171241, 6.010941463099548, 3.074645309015346, 3.0736690544543315, 3.0732597061593263, 3.0729543940025414, 3.072469141747177, 3.071947964787385, 3.0719175604334445, 3.071700982867839, 3.0714780529387244, 3.0713667992991405, 3.0711113981995846, 3.0710792025161227, 3.0707187461350904, 3.070471165193589, 9.3212760933058, 6.929837921011425, 5.496911681808672, 7.816375721392063, 5.469237901312053, 337.2266965978743, 46.03487632618952, 1229.754432837271, 6.259207878144953, 4.6401940004433255, 72.46429454069184, 6.486362687991896, 34.865193820114534, 805.7176941047042, 957.3272760676708, 119.99124944623895, 71.14345301597389, 602.4207554045774, 1530.5163109225464, 339.9965058558202, 210.15758700392306, 245.47251694688325, 66.5530565610228, 219.26616309519704, 245.91758021382185, 145.6156177252796, 625.7270253539704, 177.43523123895403, 507.79018588537275, 629.4403661021303, 518.6968618055934, 600.710074363171, 535.1420939727095, 811.2344824604626, 768.2632805329378, 422.1430398132447, 365.60020456950605, 476.91840660590276, 408.66931281705286, 241.6209638302368, 319.08475669220735, 518.4159862251815, 515.8268410484849, 386.81037323116226, 366.79930145561724, 412.06409945662733, 495.7160303785588, 5.199349258717903, 5.194646354193814, 3.751829918795675, 3.7514811472885126, 3.7497827808563287, 3.748119210045015, 3.748117964837521, 3.747943609389637, 3.747156171635745, 3.7465603839312704, 3.7458291656436162, 3.027965771822437, 3.0278713873517966, 3.0276193840388665, 3.0274641468538714, 3.027264467739963, 3.027291078620839, 3.027173875865438, 3.027174933894434, 3.0265248531861233, 3.0263382448503915, 3.026261130173254, 3.026270850890078, 3.026197218429217, 3.025924895285639, 3.0258937688916823, 3.025813646955116, 3.0257329155975943, 3.0256419829815346, 3.025520374079877, 5.325091216647422, 6.90104822777975, 3.8798842945664176, 7.596257031042118, 15.531334916406365, 10.077347190690189, 4.590005250947569, 1530.5163109225464, 13.34625121801964, 7.734554950955563, 5.9542963870182986, 6.378226649697355, 133.58377399045438, 422.1430398132447, 3.8002291555002787, 4.490442556701321, 768.2632805329378, 1229.754432837271, 400.96199840349925, 114.20671744016309, 45.77155707952254, 367.12143922981153, 518.6968618055934, 243.8040352137249, 507.79018588537275, 552.7391935596834, 811.2344824604626, 602.4207554045774, 265.49475631861753, 102.7498077777352, 615.1242139669376, 805.7176941047042, 127.82941598199268, 146.3508657657618, 28.171994508598296, 518.4159862251815, 88.5045540774348, 412.06409945662733, 212.62170920134378, 152.34675864820167, 463.99976738576476, 408.66931281705286, 356.6892122470517, 238.7538844597589, 600.710074363171, 480.0154922080534, 957.3272760676708, 629.4403661021303, 625.7270253539704, 535.1420939727095, 417.8216409298503, 647.1541500656319, 337.2266965978743, 5.293112787438652, 5.2927014583489855, 5.288234133751965, 5.274240828417, 4.552604791557075, 4.551152580758135, 4.54964422509803, 4.561439395971384, 3.8145743043501015, 3.8138219075048023, 3.813117941896923, 3.812316482296431, 3.8107564111467003, 3.810718760041381, 3.8105797116008704, 3.8104732627253775, 3.809537916051774, 3.807342552734265, 4.5698655891486295, 6.037537265512212, 3.83326342503674, 3.8901450430982916, 3.8937780943130056, 3.075503497752272, 3.0748791708782335, 3.0746292050090895, 3.074425144477289, 3.074158456009651, 3.0732835189065497, 3.0730046304893297, 5.40283882674687, 5.406932775656991, 54.713946704572365, 5.654995108391936, 28.097465077244923, 31.49037736269336, 28.04476428092061, 30.298532778220412, 30.09665768756289, 37.43848789056862, 313.51232788870425, 51.417112701333274, 311.582343676017, 8.864585388093548, 72.04873242335078, 127.70827459594265, 68.66994017461745, 95.92485135302198, 1530.5163109225464, 14.668959534469426, 65.73471044013517, 373.2141163099672, 128.88508214883515, 176.48548926449587, 166.32232676891343, 805.7176941047042, 629.4403661021303, 459.3015983958997, 476.91840660590276, 245.91758021382185, 266.87057180039847, 76.44450623181622, 515.8268410484849, 81.24079928223253, 811.2344824604626, 412.06409945662733, 1229.754432837271, 957.3272760676708, 507.79018588537275, 518.4159862251815, 615.1242139669376, 600.710074363171, 327.9336475210114, 400.96199840349925, 495.7160303785588, 243.94727385124582, 602.4207554045774, 423.5731488656272, 303.271522707208, 367.12143922981153, 7.301426425815179, 6.0154006145668895, 5.373542416827755, 4.7248246372212055, 4.724669429531356, 4.074466661096948, 8.188297454184085, 3.43575583399959, 3.4344121893592954, 3.4319103157062254, 3.4307293198361815, 3.430641547210296, 3.4304715501751115, 3.428317930270217, 3.4536737307341365, 2.78995390270172, 2.789767394361096, 2.7889280884387597, 2.7887657514955224, 2.788626493505018, 2.788388967722383, 2.788095717929231, 2.7879332308269444, 2.7877551640358846, 2.787752604866742, 2.78769125802668, 2.787513638809261, 2.787528813514599, 2.787484414011147, 2.7874280007733954, 4.899968016243284, 4.9694338803004445, 5.729312984631835, 5.062107664412814, 10.536888284994726, 4.985386986521086, 19.162347969101603, 54.713946704572365, 95.08080528694674, 4.324652640760006, 4.317600000315659, 367.12143922981153, 8.352169415197329, 327.9336475210114, 459.3015983958997, 463.99976738576476, 359.3391234871601, 552.7391935596834, 211.39647459194344, 386.81037323116226, 156.45761653447275, 106.60810325209326, 353.04252951441384, 426.6638600418818, 366.6598769424699, 518.6968618055934, 1530.5163109225464, 1229.754432837271, 602.4207554045774, 380.12894197657107, 28.04476428092061, 768.2632805329378, 267.25377444391864, 615.1242139669376, 272.38401932511675, 401.73785001586435, 647.1541500656319, 203.10578350186864, 412.06409945662733, 600.710074363171, 518.4159862251815, 397.3098738182018, 507.79018588537275, 422.1430398132447, 437.4369359088998, 805.7176941047042, 811.2344824604626], \"Category\": [\"Default\", \"Default\", \"Default\", \"Default\", \"Default\", \"Default\", \"Default\", \"Default\", \"Default\", \"Default\", \"Default\", \"Default\", \"Default\", \"Default\", \"Default\", \"Default\", \"Default\", \"Default\", \"Default\", \"Default\", \"Default\", \"Default\", \"Default\", \"Default\", \"Default\", \"Default\", \"Default\", \"Default\", \"Default\", \"Default\", \"Topic1\", \"Topic1\", \"Topic1\", \"Topic1\", \"Topic1\", \"Topic1\", \"Topic1\", \"Topic1\", \"Topic1\", \"Topic1\", \"Topic1\", \"Topic1\", \"Topic1\", \"Topic1\", \"Topic1\", \"Topic1\", \"Topic1\", \"Topic1\", \"Topic1\", \"Topic1\", \"Topic1\", \"Topic1\", \"Topic1\", \"Topic1\", \"Topic1\", \"Topic1\", \"Topic1\", \"Topic1\", \"Topic1\", \"Topic1\", \"Topic1\", \"Topic1\", \"Topic1\", \"Topic1\", \"Topic1\", \"Topic1\", \"Topic1\", \"Topic1\", \"Topic1\", \"Topic1\", \"Topic1\", \"Topic1\", \"Topic1\", \"Topic1\", \"Topic1\", \"Topic1\", \"Topic1\", \"Topic1\", \"Topic1\", \"Topic1\", \"Topic1\", \"Topic1\", \"Topic1\", \"Topic1\", \"Topic1\", \"Topic1\", \"Topic1\", \"Topic1\", \"Topic1\", \"Topic1\", \"Topic1\", \"Topic1\", \"Topic1\", \"Topic1\", \"Topic1\", \"Topic1\", \"Topic1\", \"Topic1\", \"Topic1\", \"Topic1\", \"Topic1\", \"Topic1\", \"Topic1\", \"Topic1\", \"Topic1\", \"Topic1\", \"Topic1\", \"Topic1\", \"Topic1\", \"Topic1\", \"Topic1\", \"Topic1\", \"Topic1\", \"Topic1\", \"Topic1\", \"Topic1\", \"Topic1\", \"Topic2\", \"Topic2\", \"Topic2\", \"Topic2\", \"Topic2\", \"Topic2\", \"Topic2\", \"Topic2\", \"Topic2\", \"Topic2\", \"Topic2\", \"Topic2\", \"Topic2\", \"Topic2\", \"Topic2\", \"Topic2\", \"Topic2\", \"Topic2\", \"Topic2\", \"Topic2\", \"Topic2\", \"Topic2\", \"Topic2\", \"Topic2\", \"Topic2\", \"Topic2\", \"Topic2\", \"Topic2\", \"Topic2\", \"Topic2\", \"Topic2\", \"Topic2\", \"Topic2\", \"Topic2\", \"Topic2\", \"Topic2\", \"Topic2\", \"Topic2\", \"Topic2\", \"Topic2\", \"Topic2\", \"Topic2\", \"Topic2\", \"Topic2\", \"Topic2\", \"Topic2\", \"Topic2\", \"Topic2\", \"Topic2\", \"Topic2\", \"Topic2\", \"Topic2\", \"Topic2\", \"Topic2\", \"Topic2\", \"Topic2\", \"Topic2\", \"Topic2\", \"Topic2\", \"Topic2\", \"Topic2\", \"Topic2\", \"Topic2\", \"Topic2\", \"Topic2\", \"Topic2\", \"Topic2\", \"Topic2\", \"Topic2\", \"Topic2\", \"Topic2\", \"Topic2\", \"Topic2\", \"Topic2\", \"Topic2\", \"Topic2\", \"Topic2\", \"Topic2\", \"Topic3\", \"Topic3\", \"Topic3\", \"Topic3\", \"Topic3\", \"Topic3\", \"Topic3\", \"Topic3\", \"Topic3\", \"Topic3\", \"Topic3\", \"Topic3\", \"Topic3\", \"Topic3\", \"Topic3\", \"Topic3\", \"Topic3\", \"Topic3\", \"Topic3\", \"Topic3\", \"Topic3\", \"Topic3\", \"Topic3\", \"Topic3\", \"Topic3\", \"Topic3\", \"Topic3\", \"Topic3\", \"Topic3\", \"Topic3\", \"Topic3\", \"Topic3\", \"Topic3\", \"Topic3\", \"Topic3\", \"Topic3\", \"Topic3\", \"Topic3\", \"Topic3\", \"Topic3\", \"Topic3\", \"Topic3\", \"Topic3\", \"Topic3\", \"Topic3\", \"Topic3\", \"Topic3\", \"Topic3\", \"Topic3\", \"Topic3\", \"Topic3\", \"Topic3\", \"Topic3\", \"Topic3\", \"Topic3\", \"Topic3\", \"Topic3\", \"Topic3\", \"Topic3\", \"Topic3\", \"Topic3\", \"Topic3\", \"Topic3\", \"Topic3\", \"Topic3\", \"Topic3\", \"Topic3\", \"Topic3\", \"Topic3\", \"Topic3\", \"Topic3\", \"Topic3\", \"Topic3\", \"Topic3\", \"Topic3\", \"Topic3\", \"Topic3\", \"Topic3\", \"Topic3\", \"Topic3\", \"Topic3\", \"Topic3\", \"Topic4\", \"Topic4\", \"Topic4\", \"Topic4\", \"Topic4\", \"Topic4\", \"Topic4\", \"Topic4\", \"Topic4\", \"Topic4\", \"Topic4\", \"Topic4\", \"Topic4\", \"Topic4\", \"Topic4\", \"Topic4\", \"Topic4\", \"Topic4\", \"Topic4\", \"Topic4\", \"Topic4\", \"Topic4\", \"Topic4\", \"Topic4\", \"Topic4\", \"Topic4\", \"Topic4\", \"Topic4\", \"Topic4\", \"Topic4\", \"Topic4\", \"Topic4\", \"Topic4\", \"Topic4\", \"Topic4\", \"Topic4\", \"Topic4\", \"Topic4\", \"Topic4\", \"Topic4\", \"Topic4\", \"Topic4\", \"Topic4\", \"Topic4\", \"Topic4\", \"Topic4\", \"Topic4\", \"Topic4\", \"Topic4\", \"Topic4\", \"Topic4\", \"Topic4\", \"Topic4\", \"Topic4\", \"Topic4\", \"Topic4\", \"Topic4\", \"Topic4\", \"Topic4\", \"Topic4\", \"Topic4\", \"Topic4\", \"Topic4\", \"Topic4\", \"Topic4\", \"Topic4\", \"Topic4\", \"Topic4\", \"Topic4\", \"Topic4\", \"Topic4\", \"Topic4\", \"Topic4\", \"Topic4\", \"Topic4\", \"Topic4\", \"Topic4\", \"Topic4\", \"Topic4\", \"Topic4\", \"Topic4\", \"Topic4\", \"Topic4\", \"Topic5\", \"Topic5\", \"Topic5\", \"Topic5\", \"Topic5\", \"Topic5\", \"Topic5\", \"Topic5\", \"Topic5\", \"Topic5\", \"Topic5\", \"Topic5\", \"Topic5\", \"Topic5\", \"Topic5\", \"Topic5\", \"Topic5\", \"Topic5\", \"Topic5\", \"Topic5\", \"Topic5\", \"Topic5\", \"Topic5\", \"Topic5\", \"Topic5\", \"Topic5\", \"Topic5\", \"Topic5\", \"Topic5\", \"Topic5\", \"Topic5\", \"Topic5\", \"Topic5\", \"Topic5\", \"Topic5\", \"Topic5\", \"Topic5\", \"Topic5\", \"Topic5\", \"Topic5\", \"Topic5\", \"Topic5\", \"Topic5\", \"Topic5\", \"Topic5\", \"Topic5\", \"Topic5\", \"Topic5\", \"Topic5\", \"Topic5\", \"Topic5\", \"Topic5\", \"Topic5\", \"Topic5\", \"Topic5\", \"Topic5\", \"Topic5\", \"Topic5\", \"Topic5\", \"Topic5\", \"Topic5\", \"Topic5\", \"Topic5\", \"Topic5\", \"Topic5\", \"Topic5\", \"Topic5\", \"Topic5\", \"Topic5\", \"Topic5\", \"Topic5\", \"Topic5\", \"Topic5\", \"Topic5\", \"Topic5\", \"Topic5\", \"Topic5\", \"Topic5\", \"Topic5\", \"Topic6\", \"Topic6\", \"Topic6\", \"Topic6\", \"Topic6\", \"Topic6\", \"Topic6\", \"Topic6\", \"Topic6\", \"Topic6\", \"Topic6\", \"Topic6\", \"Topic6\", \"Topic6\", \"Topic6\", \"Topic6\", \"Topic6\", \"Topic6\", \"Topic6\", \"Topic6\", \"Topic6\", \"Topic6\", \"Topic6\", \"Topic6\", \"Topic6\", \"Topic6\", \"Topic6\", \"Topic6\", \"Topic6\", \"Topic6\", \"Topic6\", \"Topic6\", \"Topic6\", \"Topic6\", \"Topic6\", \"Topic6\", \"Topic6\", \"Topic6\", \"Topic6\", \"Topic6\", \"Topic6\", \"Topic6\", \"Topic6\", \"Topic6\", \"Topic6\", \"Topic6\", \"Topic6\", \"Topic6\", \"Topic6\", \"Topic6\", \"Topic6\", \"Topic6\", \"Topic6\", \"Topic6\", \"Topic6\", \"Topic6\", \"Topic6\", \"Topic6\", \"Topic6\", \"Topic6\", \"Topic6\", \"Topic6\", \"Topic6\", \"Topic6\", \"Topic6\", \"Topic6\", \"Topic6\", \"Topic6\", \"Topic6\", \"Topic6\", \"Topic6\", \"Topic6\", \"Topic6\", \"Topic6\", \"Topic6\", \"Topic7\", \"Topic7\", \"Topic7\", \"Topic7\", \"Topic7\", \"Topic7\", \"Topic7\", \"Topic7\", \"Topic7\", \"Topic7\", \"Topic7\", \"Topic7\", \"Topic7\", \"Topic7\", \"Topic7\", \"Topic7\", \"Topic7\", \"Topic7\", \"Topic7\", \"Topic7\", \"Topic7\", \"Topic7\", \"Topic7\", \"Topic7\", \"Topic7\", \"Topic7\", \"Topic7\", \"Topic7\", \"Topic7\", \"Topic7\", \"Topic7\", \"Topic7\", \"Topic7\", \"Topic7\", \"Topic7\", \"Topic7\", \"Topic7\", \"Topic7\", \"Topic7\", \"Topic7\", \"Topic7\", \"Topic7\", \"Topic7\", \"Topic7\", \"Topic7\", \"Topic7\", \"Topic7\", \"Topic7\", \"Topic7\", \"Topic7\", \"Topic7\", \"Topic7\", \"Topic7\", \"Topic7\", \"Topic7\", \"Topic7\", \"Topic7\", \"Topic7\", \"Topic7\", \"Topic7\", \"Topic7\", \"Topic7\", \"Topic7\", \"Topic7\", \"Topic7\", \"Topic7\", \"Topic7\", \"Topic7\", \"Topic7\", \"Topic7\", \"Topic7\", \"Topic7\", \"Topic7\", \"Topic7\", \"Topic7\", \"Topic7\", \"Topic7\", \"Topic8\", \"Topic8\", \"Topic8\", \"Topic8\", \"Topic8\", \"Topic8\", \"Topic8\", \"Topic8\", \"Topic8\", \"Topic8\", \"Topic8\", \"Topic8\", \"Topic8\", \"Topic8\", \"Topic8\", \"Topic8\", \"Topic8\", \"Topic8\", \"Topic8\", \"Topic8\", \"Topic8\", \"Topic8\", \"Topic8\", \"Topic8\", \"Topic8\", \"Topic8\", \"Topic8\", \"Topic8\", \"Topic8\", \"Topic8\", \"Topic8\", \"Topic8\", \"Topic8\", \"Topic8\", \"Topic8\", \"Topic8\", \"Topic8\", \"Topic8\", \"Topic8\", \"Topic8\", \"Topic8\", \"Topic8\", \"Topic8\", \"Topic8\", \"Topic8\", \"Topic8\", \"Topic8\", \"Topic8\", \"Topic8\", \"Topic8\", \"Topic8\", \"Topic8\", \"Topic8\", \"Topic8\", \"Topic8\", \"Topic8\", \"Topic8\", \"Topic8\", \"Topic8\", \"Topic8\", \"Topic8\", \"Topic8\", \"Topic8\", \"Topic8\", \"Topic8\", \"Topic8\", \"Topic8\", \"Topic8\", \"Topic8\", \"Topic8\", \"Topic8\", \"Topic8\", \"Topic8\", \"Topic8\", \"Topic8\", \"Topic8\", \"Topic8\", \"Topic8\", \"Topic8\", \"Topic8\", \"Topic8\", \"Topic8\", \"Topic8\", \"Topic9\", \"Topic9\", \"Topic9\", \"Topic9\", \"Topic9\", \"Topic9\", \"Topic9\", \"Topic9\", \"Topic9\", \"Topic9\", \"Topic9\", \"Topic9\", \"Topic9\", \"Topic9\", \"Topic9\", \"Topic9\", \"Topic9\", \"Topic9\", \"Topic9\", \"Topic9\", \"Topic9\", \"Topic9\", \"Topic9\", \"Topic9\", \"Topic9\", \"Topic9\", \"Topic9\", \"Topic9\", \"Topic9\", \"Topic9\", \"Topic9\", \"Topic9\", \"Topic9\", \"Topic9\", \"Topic9\", \"Topic9\", \"Topic9\", \"Topic9\", \"Topic9\", \"Topic9\", \"Topic9\", \"Topic9\", \"Topic9\", \"Topic9\", \"Topic9\", \"Topic9\", \"Topic9\", \"Topic9\", \"Topic9\", \"Topic9\", \"Topic9\", \"Topic9\", \"Topic9\", \"Topic9\", \"Topic9\", \"Topic9\", \"Topic9\", \"Topic9\", \"Topic9\", \"Topic9\", \"Topic9\", \"Topic9\", \"Topic9\", \"Topic9\", \"Topic9\", \"Topic9\", \"Topic9\", \"Topic9\", \"Topic9\", \"Topic9\", \"Topic9\", \"Topic9\", \"Topic9\", \"Topic9\", \"Topic9\", \"Topic9\", \"Topic9\", \"Topic9\", \"Topic9\", \"Topic9\", \"Topic10\", \"Topic10\", \"Topic10\", \"Topic10\", \"Topic10\", \"Topic10\", \"Topic10\", \"Topic10\", \"Topic10\", \"Topic10\", \"Topic10\", \"Topic10\", \"Topic10\", \"Topic10\", \"Topic10\", \"Topic10\", \"Topic10\", \"Topic10\", \"Topic10\", \"Topic10\", \"Topic10\", \"Topic10\", \"Topic10\", \"Topic10\", \"Topic10\", \"Topic10\", \"Topic10\", \"Topic10\", \"Topic10\", \"Topic10\", \"Topic10\", \"Topic10\", \"Topic10\", \"Topic10\", \"Topic10\", \"Topic10\", \"Topic10\", \"Topic10\", \"Topic10\", \"Topic10\", \"Topic10\", \"Topic10\", \"Topic10\", \"Topic10\", \"Topic10\", \"Topic10\", \"Topic10\", \"Topic10\", \"Topic10\", \"Topic10\", \"Topic10\", \"Topic10\", \"Topic10\", \"Topic10\", \"Topic10\", \"Topic10\", \"Topic10\", \"Topic10\", \"Topic10\", \"Topic10\", \"Topic10\", \"Topic10\", \"Topic10\", \"Topic10\", \"Topic10\", \"Topic10\", \"Topic10\", \"Topic10\", \"Topic10\", \"Topic10\", \"Topic10\", \"Topic10\", \"Topic10\", \"Topic10\", \"Topic10\", \"Topic10\", \"Topic10\"], \"logprob\": [30.0, 29.0, 28.0, 27.0, 26.0, 25.0, 24.0, 23.0, 22.0, 21.0, 20.0, 19.0, 18.0, 17.0, 16.0, 15.0, 14.0, 13.0, 12.0, 11.0, 10.0, 9.0, 8.0, 7.0, 6.0, 5.0, 4.0, 3.0, 2.0, 1.0, -8.9221, -9.0988, -9.3154, -9.3155, -9.3166, -9.3168, -9.3171, -9.3177, -9.3182, -9.3187, -9.5947, -9.5951, -9.5951, -9.5952, -9.5953, -9.5956, -9.5957, -9.5957, -9.5957, -9.5958, -9.596, -9.596, -9.5961, -9.5962, -9.5962, -9.5965, -9.5967, -9.5968, -9.5971, -9.5974, -8.9123, -9.3939, -8.666, -9.0986, -9.2491, -8.6071, -9.2709, -8.6966, -9.1552, -5.0763, -5.6123, -9.165, -7.7257, -8.1715, -8.3886, -6.8112, -6.0705, -8.9903, -5.4067, -9.2884, -5.8341, -5.8964, -6.0638, -6.8291, -5.0198, -8.5458, -6.4526, -6.2526, -5.7728, -6.4998, -6.7503, -6.2563, -6.9301, -6.2577, -7.1277, -6.9098, -6.78, -6.1962, -5.9717, -5.778, -5.8323, -6.4983, -6.1238, -6.5742, -6.859, -6.2736, -6.3899, -6.0275, -6.1687, -6.1348, -5.7642, -6.2646, -6.1998, -6.2352, -6.383, -6.3759, -6.4356, -8.6927, -8.6967, -8.8726, -8.8732, -8.8736, -6.0244, -9.0906, -9.0907, -9.0913, -9.0914, -9.0914, -9.0918, -9.0918, -9.0919, -9.0918, -9.0919, -9.0919, -9.0921, -9.0935, -9.101, -9.1077, -8.9292, -9.1227, -8.5481, -9.3695, -9.37, -9.3709, -9.371, -9.371, -9.3711, -7.1494, -7.1532, -8.6383, -6.3994, -6.4267, -7.118, -6.8495, -7.152, -7.9298, -8.2529, -4.4781, -6.9946, -8.6385, -5.7073, -7.8668, -7.6543, -6.3781, -5.625, -7.0576, -6.6019, -6.2586, -7.2718, -6.1478, -5.7529, -5.6425, -5.6555, -6.0751, -6.2146, -6.0066, -6.1731, -5.8948, -6.115, -6.4808, -6.8645, -5.8895, -6.2875, -6.1529, -6.5196, -5.9654, -6.6234, -6.382, -6.4127, -6.4905, -6.4164, -6.3826, -6.5143, -6.5099, -6.5059, -8.0909, -8.4993, -8.8304, -9.0472, -9.0477, -9.0484, -9.0485, -9.0489, -9.0491, -8.7181, -9.05, -9.0484, -9.0517, -9.0511, -7.9651, -8.7719, -9.0774, -9.0884, -9.0897, -9.3271, -9.3277, -9.3278, -9.3277, -9.3278, -9.3278, -9.3279, -9.3282, -9.3283, -9.3285, -9.3286, -8.6527, -9.1049, -8.4589, -8.7086, -8.2169, -7.9938, -8.8753, -8.8495, -8.9735, -6.1292, -6.0792, -6.8953, -6.7571, -6.8616, -6.7639, -5.4632, -5.7391, -5.5619, -7.6342, -6.7681, -6.0099, -5.476, -6.4964, -5.8906, -6.781, -6.513, -8.4118, -8.3659, -6.1015, -6.5237, -6.1814, -6.2185, -6.5125, -6.3981, -6.6524, -5.8959, -6.5722, -6.2013, -6.0985, -6.1329, -6.0284, -6.3574, -5.7621, -6.259, -6.1521, -6.4643, -6.3854, -6.1527, -6.3798, -6.4675, -6.4538, -6.5073, -8.3764, -8.3772, -8.8417, -8.8419, -9.0573, -9.0577, -9.0578, -9.058, -9.0584, -9.0586, -9.3363, -9.3363, -9.3368, -9.3369, -9.337, -9.3372, -9.3374, -9.3376, -9.3377, -9.3378, -9.338, -9.3381, -9.3382, -9.3383, -9.3383, -9.3384, -9.3386, -9.3389, -9.339, -9.342, -8.7021, -8.8487, -8.3844, -6.0872, -8.5212, -8.3917, -5.5851, -8.9958, -8.8411, -7.2868, -7.7441, -6.6934, -7.9649, -7.5467, -5.6498, -5.8066, -5.4868, -8.2307, -7.7591, -8.418, -6.1699, -6.4942, -5.8272, -6.6367, -5.9749, -5.806, -5.8872, -6.8511, -5.9972, -6.3007, -7.5498, -6.1222, -6.6349, -5.8263, -6.3052, -5.8837, -5.9144, -6.4106, -5.6881, -6.113, -6.4779, -6.0498, -6.5451, -6.1015, -5.6745, -5.8107, -6.3019, -6.2272, -6.128, -6.3959, -6.413, -6.3767, -6.3775, -8.5271, -8.5282, -8.7069, -8.7097, -8.923, -8.924, -8.9241, -8.9241, -8.9242, -8.9247, -8.9248, -8.9256, -8.9258, -8.925, -8.9266, -8.9412, -9.2022, -9.2027, -9.2028, -9.2029, -9.2035, -9.2036, -9.2037, -9.2038, -9.2039, -9.2039, -9.2048, -9.205, -9.2052, -9.2054, -8.7067, -7.1288, -8.7049, -8.9194, -4.8708, -5.6479, -7.6934, -8.7078, -7.955, -8.5492, -6.9086, -8.6805, -5.941, -8.4057, -6.3266, -5.5683, -6.8614, -6.6386, -6.6506, -6.4933, -5.8511, -6.0883, -6.2614, -6.2233, -6.2583, -6.8845, -5.9614, -6.0742, -6.2829, -6.4038, -6.4028, -7.5637, -6.5671, -6.2861, -6.0167, -6.6109, -6.3249, -5.8726, -6.4788, -6.2181, -6.4081, -6.1861, -6.0807, -6.3245, -6.2116, -6.3191, -6.3952, -6.3968, -6.4481, -8.2528, -8.0007, -8.5348, -8.5354, -8.5355, -8.7143, -8.7157, -7.9753, -8.2527, -8.9319, -8.9322, -8.9329, -8.9333, -8.9334, -8.9338, -8.934, -8.9344, -8.9348, -8.9349, -8.9365, -8.938, -7.4303, -9.2107, -9.211, -9.2112, -9.2112, -9.2115, -9.2115, -9.2117, -9.2119, -8.5038, -9.0183, -8.7183, -7.1363, -8.5373, -8.347, -5.867, -7.2436, -6.8233, -5.9324, -5.9174, -6.1336, -6.6809, -6.0981, -6.1662, -6.0735, -5.9299, -5.7532, -6.3521, -6.6998, -5.9638, -6.4374, -7.899, -5.8718, -6.8827, -5.5156, -5.6398, -6.3039, -6.0726, -6.7532, -6.5917, -6.1879, -6.3538, -6.1467, -6.4502, -6.3521, -6.6357, -6.4754, -6.5486, -6.4353, -6.4618, -6.5222, -6.524, -6.5481, -6.5124, -8.1893, -8.474, -8.4755, -8.6523, -8.6541, -8.0716, -8.8692, -8.8702, -8.8709, -8.8711, -8.8714, -8.8715, -8.8718, -8.8724, -8.1017, -8.4738, -9.1491, -9.1495, -9.1497, -9.1498, -9.15, -9.1503, -9.1503, -9.1504, -9.1505, -9.1505, -9.1506, -9.1506, -9.1508, -9.1509, -8.1603, -8.4253, -8.6528, -8.379, -8.6759, -5.6349, -7.2078, -4.9155, -8.6547, -8.8709, -7.0493, -8.6522, -7.5525, -5.513, -5.4712, -6.7924, -7.1666, -5.9091, -5.3989, -6.287, -6.5618, -6.515, -7.2598, -6.611, -6.5611, -6.8631, -6.0681, -6.7599, -6.2338, -6.1554, -6.2717, -6.203, -6.2758, -6.0941, -6.12, -6.4179, -6.4828, -6.3682, -6.4638, -6.6995, -6.6042, -6.4351, -6.4384, -6.5433, -6.5695, -6.6155, -6.6223, -8.4778, -8.4789, -8.8748, -8.8749, -8.8755, -8.8761, -8.8761, -8.8761, -8.8764, -8.8766, -8.8769, -9.1542, -9.1542, -9.1543, -9.1544, -9.1545, -9.1545, -9.1545, -9.1545, -9.1548, -9.1549, -9.1549, -9.1549, -9.155, -9.1551, -9.1551, -9.1551, -9.1552, -9.1552, -9.1553, -8.5975, -8.3835, -8.9391, -8.3685, -7.8004, -8.2096, -8.8285, -4.3549, -8.0176, -8.4613, -8.6565, -8.6161, -6.4344, -5.6238, -8.9921, -8.875, -5.2883, -4.975, -5.7602, -6.629, -7.2908, -5.9919, -5.7947, -6.311, -5.8626, -5.8122, -5.5891, -5.7753, -6.3076, -6.881, -5.8748, -5.7293, -6.8024, -6.7416, -7.6993, -6.0514, -7.0872, -6.279, -6.6351, -6.8081, -6.254, -6.3383, -6.4155, -6.6124, -6.1805, -6.3409, -6.1252, -6.3057, -6.3304, -6.3762, -6.4636, -6.4467, -6.5688, -8.3713, -8.3714, -8.3724, -8.3997, -8.5506, -8.551, -8.5514, -8.551, -8.7683, -8.7685, -8.7688, -8.769, -8.7695, -8.7696, -8.7696, -8.7696, -8.7699, -8.7707, -8.5893, -8.3375, -8.8156, -8.8066, -8.8083, -9.0474, -9.0477, -9.0478, -9.0479, -9.048, -9.0484, -9.0485, -8.5122, -8.53, -6.5145, -8.5177, -7.1893, -7.099, -7.2254, -7.1648, -7.1818, -7.1719, -5.6632, -7.0235, -5.845, -8.2158, -6.8961, -6.5838, -6.9775, -6.7943, -5.1436, -7.9686, -7.0936, -6.0919, -6.7079, -6.5349, -6.581, -5.7968, -5.9296, -6.1148, -6.116, -6.4798, -6.4796, -7.1125, -6.2234, -7.0997, -6.0808, -6.3879, -5.9776, -6.09, -6.3455, -6.3599, -6.3232, -6.3542, -6.5294, -6.4828, -6.4965, -6.6627, -6.5226, -6.602, -6.6512, -6.6498, -7.8424, -8.0624, -8.1935, -8.3461, -8.3462, -8.5267, -7.8432, -8.743, -8.7435, -8.7444, -8.7449, -8.7449, -8.745, -8.7458, -8.8007, -9.0228, -9.0229, -9.0233, -9.0234, -9.0235, -9.0236, -9.0237, -9.0238, -9.0239, -9.0239, -9.0239, -9.024, -9.024, -9.024, -9.0241, -8.5244, -8.5255, -8.4499, -8.5814, -8.0636, -8.6235, -7.7245, -7.0355, -6.6942, -8.7414, -8.7469, -5.9671, -8.3468, -6.1176, -5.917, -5.9162, -6.1096, -5.8698, -6.4397, -6.1185, -6.6496, -6.8739, -6.2305, -6.1289, -6.22, -6.0666, -5.5187, -5.6461, -6.0455, -6.3234, -7.6451, -5.994, -6.5424, -6.1952, -6.5889, -6.4264, -6.2329, -6.725, -6.4622, -6.3472, -6.4164, -6.5061, -6.4296, -6.5228, -6.5146, -6.4072, -6.4452], \"loglift\": [30.0, 29.0, 28.0, 27.0, 26.0, 25.0, 24.0, 23.0, 22.0, 21.0, 20.0, 19.0, 18.0, 17.0, 16.0, 15.0, 14.0, 13.0, 12.0, 11.0, 10.0, 9.0, 8.0, 7.0, 6.0, 5.0, 4.0, 3.0, 2.0, 1.0, 1.516, 1.4992, 1.4746, 1.4746, 1.4744, 1.4744, 1.4744, 1.4743, 1.4742, 1.4742, 1.4352, 1.4351, 1.4351, 1.4351, 1.4351, 1.435, 1.435, 1.435, 1.435, 1.435, 1.435, 1.435, 1.435, 1.435, 1.435, 1.4349, 1.4349, 1.4349, 1.4348, 1.4348, 1.4239, 1.4249, 1.386, 1.4001, 1.3916, 1.2808, 1.3863, 1.2855, 1.3596, 0.6152, 0.6977, 1.3554, 1.0634, 1.1483, 1.1818, 0.8244, 0.6304, 1.3004, 0.4573, 1.3661, 0.5478, 0.5135, 0.5514, 0.7454, 0.2025, 1.1879, 0.5866, 0.5103, 0.344, 0.5596, 0.6218, 0.4137, 0.6404, 0.3759, 0.6839, 0.5823, 0.5223, 0.2786, 0.1859, 0.0791, 0.0793, 0.3765, 0.2019, 0.4, 0.533, 0.2334, 0.2889, 0.0556, 0.1363, -0.0009, -0.323, 0.0085, -0.0889, -0.0805, 0.0329, -0.0715, 0.1072, 2.0342, 2.0337, 2.0102, 2.0101, 2.0101, 1.9936, 1.9759, 1.9758, 1.9757, 1.9757, 1.9757, 1.9757, 1.9757, 1.9757, 1.9757, 1.9756, 1.9756, 1.9756, 1.9754, 1.9657, 1.9609, 1.9608, 1.9461, 1.9255, 1.9219, 1.9218, 1.9216, 1.9216, 1.9216, 1.9215, 1.8727, 1.8388, 1.8899, 1.7373, 1.7385, 1.7743, 1.6414, 1.6308, 1.7556, 1.8095, 0.9631, 1.3559, 1.8378, 0.8031, 1.5406, 1.4056, 0.8639, 0.5298, 1.1227, 0.901, 0.719, 1.1724, 0.579, 0.358, 0.2691, 0.2017, 0.4247, 0.4892, 0.3431, 0.4247, 0.222, 0.3111, 0.5717, 0.8326, -0.0255, 0.2743, 0.1203, 0.4719, -0.743, 0.5168, -0.0563, -0.0028, 0.1637, -0.1115, -0.2487, 0.1582, 0.1053, -0.4227, 2.0851, 2.083, 2.0422, 2.0084, 2.0084, 2.0082, 2.0082, 2.0082, 2.0081, 2.008, 2.008, 2.0074, 2.0062, 2.0059, 2.0038, 1.9743, 1.9708, 1.9564, 1.9555, 1.9549, 1.9548, 1.9547, 1.9547, 1.9547, 1.9547, 1.9547, 1.9546, 1.9546, 1.9546, 1.9546, 1.951, 1.9526, 1.9343, 1.909, 1.8404, 1.7977, 1.8693, 1.8586, 1.8757, 1.2036, 1.0706, 1.1919, 1.1341, 1.1536, 1.1061, 0.62, 0.6493, 0.572, 1.3306, 0.8879, 0.5107, 0.2156, 0.7221, 0.3503, 0.7901, 0.6286, 1.6645, 1.6351, 0.3245, 0.5446, 0.2934, 0.2885, 0.4808, 0.379, 0.5608, -0.0387, 0.4879, 0.1484, 0.0183, -0.022, -0.1644, 0.1771, -0.5398, 0.0142, -0.2405, 0.2071, -0.0035, -0.7115, -0.0749, 0.1297, -0.2961, -0.1817, 2.14, 2.1399, 2.0824, 2.0824, 2.0469, 2.0468, 2.0468, 2.0467, 2.0467, 2.0466, 1.9905, 1.9905, 1.9904, 1.9904, 1.9904, 1.9903, 1.9903, 1.9902, 1.9902, 1.9902, 1.9902, 1.9901, 1.9901, 1.9901, 1.9901, 1.9901, 1.99, 1.99, 1.9899, 1.9869, 1.9461, 1.9402, 1.8821, 1.5688, 1.8872, 1.8434, 1.1919, 1.9167, 1.8803, 1.4453, 1.55, 1.23, 1.5932, 1.4628, 0.8709, 0.8826, 0.7541, 1.6276, 1.4559, 1.6826, 0.8902, 0.9476, 0.5887, 0.9345, 0.585, 0.4672, 0.5012, 0.9731, 0.5457, 0.6682, 1.3004, 0.529, 0.7686, 0.2568, 0.5385, 0.2331, 0.2432, 0.5379, 0.0035, 0.2367, 0.4899, 0.105, 0.4855, 0.0324, -0.4521, -0.3695, 0.2051, 0.0772, -0.2164, 0.1751, 0.1842, -0.0718, -0.2666, 2.1866, 2.1865, 2.1631, 2.161, 2.1295, 2.1293, 2.1293, 2.1293, 2.1293, 2.1292, 2.1292, 2.1291, 2.129, 2.1279, 2.1276, 2.1121, 2.0763, 2.0762, 2.0762, 2.0761, 2.076, 2.076, 2.076, 2.0759, 2.0759, 2.0759, 2.0757, 2.0757, 2.0757, 2.0756, 2.0203, 1.2728, 1.8824, 1.9654, 0.3515, 0.6565, 1.4698, 1.8811, 1.5696, 1.809, 1.0489, 1.8423, 0.5936, 1.7059, 0.7041, 0.2889, 0.9247, 0.7849, 0.7654, 0.6469, 0.2598, 0.3865, 0.4827, 0.4309, 0.4206, 0.8118, 0.1725, 0.2357, 0.3683, 0.4373, 0.4113, 1.2172, 0.5231, 0.2849, 0.0665, 0.4713, 0.2179, -0.181, 0.3291, 0.0868, 0.2634, -0.0285, -0.1691, 0.0914, -0.0948, 0.0628, 0.1667, 0.0293, -0.2073, 2.2889, 2.2605, 2.2559, 2.2558, 2.2558, 2.2303, 2.23, 2.2106, 2.1968, 2.1935, 2.1935, 2.1933, 2.1933, 2.1932, 2.1932, 2.1931, 2.1931, 2.193, 2.1926, 2.1889, 2.1879, 2.1648, 2.1359, 2.1358, 2.1358, 2.1358, 2.1357, 2.1357, 2.1357, 2.1356, 2.0478, 2.1054, 2.0557, 1.5745, 1.9104, 1.8231, 0.803, 1.3274, 0.9924, 0.4776, 0.4323, 0.5173, 0.8019, 0.4016, 0.4048, 0.3423, 0.2277, 0.104, 0.4917, 0.7228, 0.1909, 0.481, 1.4932, 0.0398, 0.7637, -0.2932, -0.1987, 0.2933, 0.0106, 0.6142, 0.3859, -0.077, 0.0281, -0.2828, 0.1097, -0.0789, 0.3717, 0.0316, 0.1524, -0.1945, -0.1568, -0.2122, -0.3901, -0.2437, -0.8209, 2.4538, 2.4165, 2.4163, 2.3881, 2.3878, 2.3561, 2.3474, 2.3472, 2.3471, 2.347, 2.347, 2.3469, 2.3469, 2.3467, 2.317, 2.2884, 2.2835, 2.2833, 2.2833, 2.2833, 2.2832, 2.2832, 2.2831, 2.2831, 2.2831, 2.2831, 2.2831, 2.2831, 2.283, 2.283, 2.1631, 2.1946, 2.1987, 2.1205, 2.1807, 1.1001, 1.5186, 0.5257, 2.067, 2.1501, 1.2234, 2.0338, 1.4517, 0.351, 0.2203, 0.9759, 1.1244, 0.2457, -0.1766, 0.4397, 0.646, 0.5375, 1.0979, 0.5544, 0.4896, 0.7116, 0.0487, 0.6172, 0.0918, -0.0445, 0.0327, -0.0454, -0.0026, -0.2369, -0.2084, 0.0925, 0.1714, 0.0202, 0.079, 0.3688, 0.1861, -0.1302, -0.1285, 0.0545, 0.0814, -0.081, -0.2726, 2.4294, 2.4292, 2.3587, 2.3586, 2.3585, 2.3584, 2.3584, 2.3584, 2.3583, 2.3583, 2.3582, 2.2936, 2.2936, 2.2936, 2.2936, 2.2936, 2.2936, 2.2936, 2.2936, 2.2935, 2.2935, 2.2935, 2.2935, 2.2934, 2.2934, 2.2934, 2.2934, 2.2934, 2.2934, 2.2934, 2.2858, 2.2405, 2.2608, 2.1596, 2.0125, 2.0358, 2.2034, 0.8674, 1.9469, 2.0487, 2.1151, 2.0867, 1.2266, 0.8866, 2.2285, 2.1787, 0.6233, 0.4661, 0.8017, 1.1887, 1.4412, 0.6582, 0.5097, 0.7484, 0.4631, 0.4286, 0.268, 0.3795, 0.6666, 1.0424, 0.2591, 0.1347, 0.9027, 0.8281, 1.5181, 0.2535, 0.9855, 0.2556, 0.5611, 0.7215, 0.1618, 0.2045, 0.2634, 0.4679, -0.0229, 0.041, -0.4336, -0.1948, -0.2136, -0.103, 0.0571, -0.3636, 0.1662, 2.518, 2.518, 2.5178, 2.4932, 2.4895, 2.4894, 2.4893, 2.4871, 2.4486, 2.4486, 2.4485, 2.4485, 2.4484, 2.4484, 2.4483, 2.4483, 2.4483, 2.4481, 2.447, 2.4202, 2.3964, 2.3907, 2.3881, 2.3848, 2.3848, 2.3847, 2.3847, 2.3847, 2.3846, 2.3845, 2.3567, 2.3381, 2.0391, 2.3055, 2.0308, 2.007, 1.9966, 1.9798, 1.9695, 1.7612, 1.1447, 1.5922, 0.969, 2.1579, 1.3823, 1.1222, 1.3489, 1.1978, 0.0787, 1.9014, 1.2765, 0.5417, 0.9889, 0.8476, 0.8608, 0.0672, 0.1813, 0.3112, 0.2724, 0.5709, 0.4894, 1.1067, 0.0866, 1.0587, -0.2236, 0.1467, -0.5364, -0.3984, -0.0198, -0.0549, -0.1893, -0.1966, 0.2335, 0.079, -0.1468, 0.3961, -0.3678, -0.095, 0.1899, 0.0002, 2.7253, 2.699, 2.6808, 2.6568, 2.6568, 2.6242, 2.6098, 2.5785, 2.5784, 2.5782, 2.5781, 2.5781, 2.5781, 2.5778, 2.5156, 2.5069, 2.5069, 2.5068, 2.5067, 2.5067, 2.5067, 2.5066, 2.5066, 2.5066, 2.5066, 2.5066, 2.5066, 2.5066, 2.5066, 2.5066, 2.4421, 2.4269, 2.3602, 2.3526, 2.1372, 2.3257, 1.8783, 1.5181, 1.3068, 2.35, 2.3462, 0.683, 2.0864, 0.6453, 0.5091, 0.4997, 0.5619, 0.3711, 0.7623, 0.4793, 0.8533, 1.0127, 0.4586, 0.3708, 0.4313, 0.2378, -0.2963, -0.205, 0.1092, 0.2918, 1.5768, -0.0824, 0.4251, -0.0613, 0.3596, 0.1335, -0.1497, 0.517, 0.0723, -0.1896, -0.1115, 0.0649, -0.1039, -0.0124, -0.0398, -0.5432, -0.588]}, \"token.table\": {\"Topic\": [1, 2, 3, 4, 5, 6, 7, 8, 9, 10, 1, 2, 3, 4, 5, 6, 7, 8, 9, 10, 3, 2, 4, 8, 7, 4, 8, 1, 2, 3, 4, 5, 6, 7, 8, 9, 10, 1, 2, 3, 4, 5, 6, 7, 8, 9, 10, 5, 6, 1, 1, 2, 3, 4, 5, 6, 7, 8, 9, 10, 2, 1, 2, 3, 4, 5, 6, 7, 8, 9, 10, 3, 1, 2, 3, 4, 5, 6, 7, 8, 9, 10, 1, 8, 3, 10, 1, 1, 2, 3, 4, 5, 6, 7, 8, 9, 10, 2, 4, 9, 1, 2, 3, 4, 5, 6, 7, 8, 9, 10, 1, 2, 3, 4, 5, 6, 7, 8, 9, 10, 3, 1, 7, 1, 2, 3, 4, 5, 6, 7, 8, 9, 10, 1, 2, 3, 4, 5, 6, 7, 8, 9, 10, 1, 4, 9, 10, 2, 5, 6, 7, 9, 9, 1, 1, 2, 3, 4, 5, 6, 7, 8, 9, 10, 2, 4, 9, 6, 1, 2, 3, 4, 6, 8, 9, 10, 1, 8, 7, 1, 2, 8, 4, 7, 5, 9, 9, 3, 9, 1, 2, 3, 4, 5, 6, 7, 8, 9, 10, 1, 4, 8, 9, 1, 7, 1, 2, 3, 4, 5, 6, 7, 8, 9, 10, 1, 2, 3, 4, 5, 6, 7, 8, 9, 10, 2, 3, 5, 6, 9, 10, 1, 2, 7, 8, 10, 1, 7, 6, 7, 6, 10, 6, 6, 2, 10, 7, 8, 3, 4, 9, 1, 2, 3, 4, 8, 9, 10, 3, 5, 6, 10, 7, 2, 9, 5, 1, 2, 3, 4, 5, 6, 7, 8, 9, 10, 1, 9, 1, 2, 3, 4, 5, 6, 7, 8, 9, 10, 7, 8, 8, 10, 1, 2, 3, 4, 5, 6, 7, 8, 9, 10, 1, 1, 2, 3, 4, 5, 6, 7, 8, 9, 10, 4, 8, 1, 2, 3, 4, 5, 6, 7, 8, 9, 10, 2, 7, 8, 2, 1, 2, 3, 4, 5, 6, 8, 9, 10, 1, 1, 2, 3, 4, 5, 6, 7, 8, 9, 10, 9, 1, 6, 8, 9, 2, 10, 2, 9, 1, 2, 3, 4, 5, 6, 7, 8, 9, 10, 1, 2, 3, 4, 5, 6, 7, 8, 9, 10, 1, 2, 3, 4, 5, 6, 7, 8, 9, 10, 10, 6, 1, 2, 3, 4, 5, 6, 7, 8, 9, 10, 2, 5, 7, 8, 9, 1, 3, 4, 6, 8, 9, 1, 2, 3, 4, 5, 6, 7, 8, 9, 10, 1, 2, 3, 4, 5, 6, 7, 8, 9, 10, 3, 1, 2, 3, 4, 5, 6, 7, 8, 9, 10, 1, 2, 3, 4, 5, 6, 7, 8, 9, 10, 7, 6, 7, 2, 3, 3, 1, 2, 3, 4, 5, 6, 7, 8, 9, 10, 1, 2, 3, 4, 5, 6, 7, 8, 9, 10, 6, 8, 2, 5, 1, 2, 3, 4, 5, 6, 7, 8, 9, 10, 3, 9, 10, 1, 2, 3, 4, 5, 6, 7, 8, 9, 10, 1, 2, 3, 4, 5, 6, 7, 8, 9, 10, 3, 2, 1, 2, 5, 6, 7, 10, 1, 2, 3, 6, 10, 1, 2, 3, 4, 5, 6, 7, 8, 9, 10, 5, 1, 2, 3, 4, 5, 6, 7, 8, 9, 10, 1, 1, 2, 3, 4, 5, 6, 7, 8, 9, 10, 1, 2, 3, 4, 5, 6, 7, 8, 9, 10, 1, 9, 5, 6, 5, 1, 9, 10, 6, 1, 2, 3, 4, 5, 6, 7, 8, 9, 10, 6, 1, 2, 1, 2, 8, 10, 9, 6, 4, 1, 2, 3, 4, 5, 7, 8, 9, 4, 3, 6, 10, 5, 10, 5, 1, 4, 1, 2, 3, 4, 5, 6, 7, 8, 9, 10, 1, 2, 3, 4, 5, 6, 7, 8, 9, 10, 1, 2, 3, 4, 5, 6, 7, 8, 9, 10, 4, 1, 2, 3, 4, 5, 6, 7, 8, 9, 10, 1, 2, 3, 4, 5, 6, 7, 8, 9, 10, 1, 6, 7, 9, 10, 1, 2, 3, 4, 5, 6, 7, 8, 9, 10, 1, 2, 3, 4, 5, 6, 7, 8, 9, 10, 10, 2, 4, 1, 2, 3, 4, 5, 6, 7, 8, 9, 10, 1, 5, 6, 8, 9, 10, 1, 1, 10, 3, 6, 8, 1, 2, 3, 4, 5, 6, 7, 8, 9, 10, 1, 2, 3, 4, 5, 6, 7, 8, 9, 10, 5, 9, 10, 1, 2, 3, 4, 5, 6, 7, 8, 9, 10, 5, 6, 9, 9, 1, 2, 3, 4, 5, 6, 7, 8, 9, 10, 1, 2, 3, 4, 5, 6, 7, 9, 10, 8, 9, 4, 6, 8, 7, 9, 1, 2, 3, 4, 5, 6, 7, 8, 9, 10, 1, 4, 1, 2, 3, 4, 5, 6, 7, 8, 9, 10, 4, 4, 10, 1, 2, 4, 7, 8, 9, 4, 4, 1, 4, 1, 3, 4, 6, 8, 9, 6, 7, 1, 2, 3, 4, 5, 6, 7, 8, 9, 10, 1, 3, 5, 9, 7, 3, 1, 6, 10, 7, 8, 2, 10, 4, 1, 2, 3, 4, 5, 6, 7, 8, 9, 10, 4, 1, 2, 3, 4, 5, 6, 7, 8, 9, 10, 8, 2, 7, 4, 6, 7, 1, 9, 7, 8, 1, 7, 1, 2, 3, 4, 5, 6, 7, 8, 9, 10, 1, 9, 6, 10, 7, 1, 2, 3, 4, 5, 6, 7, 8, 9, 10, 1, 2, 3, 4, 5, 6, 7, 8, 9, 10, 3, 9, 3, 10, 1, 2, 3, 4, 5, 6, 7, 8, 9, 10, 1, 2, 3, 4, 5, 6, 7, 8, 9, 10, 4, 6, 3, 10, 4, 1, 2, 3, 4, 5, 6, 7, 8, 9, 10, 2, 7, 10, 1, 3, 4, 5, 6, 7, 8, 10, 6, 1, 2, 3, 4, 5, 6, 7, 8, 9, 10, 1, 2, 3, 4, 5, 6, 7, 8, 9, 10, 1, 2, 3, 4, 5, 6, 7, 8, 9, 10, 5, 10, 8, 7, 6, 10, 1, 2, 3, 4, 5, 6, 7, 8, 9, 10, 1, 2, 8, 7, 9, 3, 7, 6, 9, 8, 8, 5, 4, 6, 9, 2, 1, 2, 3, 4, 5, 6, 7, 8, 9, 10, 3, 2, 10, 6, 3, 10, 7, 8, 1, 2, 3, 4, 5, 6, 7, 8, 9, 10, 4, 1, 1, 2, 3, 4, 5, 6, 7, 8, 9, 10, 2, 5, 10, 1, 2, 3, 4, 5, 6, 7, 8, 9, 10, 3, 1, 2, 3, 4, 5, 6, 7, 8, 9, 10, 1, 2, 3, 4, 5, 6, 7, 8, 9, 10, 9, 1, 2, 3, 4, 5, 6, 7, 8, 9, 10, 1, 2, 3, 4, 5, 6, 7, 8, 9, 10, 2, 3, 10, 1, 2, 3, 4, 5, 6, 7, 8, 9, 10, 1, 2, 3, 4, 5, 6, 7, 8, 9, 10, 1, 2, 3, 4, 5, 6, 7, 8, 9, 10, 4, 1, 2, 3, 4, 5, 6, 7, 8, 9, 10, 1, 2, 3, 4, 5, 6, 7, 8, 9, 10, 2, 5, 7, 8, 1, 2, 3, 4, 5, 6, 7, 8, 9, 10, 9, 1, 2, 3, 4, 5, 6, 7, 8, 9, 10, 1, 2, 3, 4, 5, 6, 7, 8, 9, 10, 4, 9, 5, 1, 2, 3, 4, 5, 6, 7, 8, 9, 10, 3, 10, 1, 7, 9, 9, 1, 2, 3, 4, 5, 6, 7, 8, 9, 10, 2, 1, 1, 2, 3, 4, 5, 6, 7, 8, 9, 10, 5, 9, 8, 1, 2, 3, 4, 5, 6, 7, 8, 9, 10, 1, 2, 3, 4, 5, 6, 7, 8, 9, 10, 1, 2, 3, 4, 5, 6, 7, 8, 9, 10, 2, 3, 4, 5, 10, 5, 6, 4, 9, 8, 3, 1, 2, 3, 4, 5, 6, 7, 8, 9, 10, 1, 5, 7, 2, 4, 8, 10, 8, 8, 7, 5, 8, 1, 2, 3, 4, 5, 6, 7, 8, 9, 10, 1, 2, 3, 4, 5, 6, 7, 8, 9, 10, 2, 7, 3, 3, 8, 1, 2, 3, 4, 5, 6, 7, 8, 9, 10, 8, 9, 3, 5, 8, 8, 1, 2, 3, 4, 5, 6, 7, 8, 9, 10, 1, 2, 3, 4, 5, 6, 7, 8, 9, 10, 1, 2, 3, 4, 5, 6, 7, 8, 9, 10, 9, 5, 1, 1, 2, 3, 4, 5, 6, 7, 8, 9, 10, 7, 10, 5, 5, 9, 1, 7, 1, 2, 3, 4, 5, 6, 7, 8, 9, 10, 1, 2, 3, 4, 5, 6, 7, 8, 9, 10, 5, 6, 10, 1, 2, 3, 4, 5, 7, 8, 9, 10, 9, 10, 3, 5, 1, 10, 8, 1, 2, 3, 4, 5, 6, 7, 8, 9, 10, 1, 1, 2, 3, 4, 5, 6, 7, 8, 9, 10, 1, 2, 3, 4, 5, 6, 7, 8, 9, 10, 1, 2, 3, 4, 5, 6, 7, 8, 9, 10, 4, 3, 8, 1, 8, 1, 8, 7, 2, 10, 3, 7, 3, 4, 7, 7, 8, 1, 2, 3, 4, 5, 6, 7, 8, 9, 10, 1, 2, 3, 4, 5, 6, 7, 8, 9, 10, 1, 2, 3, 4, 5, 6, 7, 8, 9, 10, 6, 1, 1, 2, 3, 4, 5, 6, 7, 8, 9, 10, 9, 1, 2, 3, 4, 5, 6, 7, 8, 9, 10, 1, 2, 3, 4, 5, 6, 7, 8, 9, 10, 5, 1, 6, 9, 1, 2, 3, 4, 5, 6, 7, 8, 9, 10, 7, 3, 8, 1, 1, 2, 3, 4, 5, 6, 7, 8, 9, 10, 1, 2, 3, 4, 5, 6, 7, 8, 9, 10, 1, 2, 3, 4, 5, 6, 7, 8, 9, 10, 5, 2, 7, 1, 2, 3, 4, 5, 6, 7, 8, 9, 10, 1, 2, 4, 5, 6, 8, 9, 5, 7, 2, 5, 7, 9, 1, 2, 3, 4, 5, 6, 7, 8, 9, 10, 10, 6, 1, 2, 3, 4, 5, 6, 7, 8, 9, 10, 5, 1, 2, 3, 4, 5, 6, 7, 8, 9, 10, 1, 2, 3, 4, 5, 6, 7, 8, 9, 10, 1, 2, 3, 4, 5, 6, 7, 8, 9, 10, 3, 10, 5, 10, 5, 5, 7, 3, 4, 6, 1, 2, 3, 4, 5, 6, 7, 8, 9, 10, 1, 2, 3, 4, 5, 6, 7, 8, 9, 10, 2, 8, 5, 1, 7, 8, 2, 1, 2, 3, 4, 6, 9, 8, 10, 4, 1, 6, 9, 10, 9, 2, 6, 1, 1, 4, 8, 9, 10, 1, 2, 3, 4, 5, 6, 7, 8, 9, 10, 1, 2, 3, 4, 5, 6, 7, 8, 9, 10, 4, 4, 1, 2, 3, 4, 5, 6, 7, 8, 9, 10, 10, 3, 1, 2, 3, 4, 5, 6, 7, 8, 9, 10, 1, 2, 3, 4, 5, 6, 7, 8, 9, 10, 1, 2, 3, 4, 5, 6, 7, 8, 9, 10, 7, 1, 2, 3, 4, 5, 6, 7, 8, 9, 10, 1, 2, 3, 4, 5, 6, 7, 8, 9, 10, 3, 1, 2, 3, 4, 5, 6, 7, 8, 9, 10, 10, 6, 7, 1, 3, 10, 5, 4, 7, 10, 1, 2, 3, 4, 5, 6, 7, 8, 9, 10, 1, 2, 3, 4, 5, 6, 7, 8, 9, 10, 6, 9, 8, 1, 2, 3, 4, 5, 6, 7, 8, 9, 10, 2, 1, 2, 3, 4, 5, 6, 7, 8, 9, 10, 5, 2, 2, 2, 3, 2, 8, 8, 2, 2, 1, 3, 8, 9, 1, 2, 3, 4, 5, 6, 7, 8, 9, 10, 1, 2, 3, 4, 5, 6, 7, 8, 9, 10, 1, 2, 3, 4, 5, 6, 7, 8, 9, 10, 6, 3, 1, 2, 3, 4, 6, 5, 1, 2, 3, 4, 5, 6, 7, 8, 9, 10, 5, 1, 2, 3, 4, 5, 6, 7, 8, 9, 10, 1, 2, 3, 4, 5, 6, 7, 8, 9, 10, 1, 2, 3, 4, 5, 7, 9, 10, 1, 2, 3, 4, 5, 6, 7, 8, 9, 10, 1, 2, 3, 4, 5, 6, 7, 8, 9, 10, 1, 2, 3, 4, 5, 6, 7, 8, 9, 10, 1, 2, 3, 4, 5, 7, 8, 9, 10, 1, 2, 3, 4, 5, 6, 7, 8, 9, 10, 1, 2, 3, 4, 5, 6, 7, 8, 9, 10, 1, 2, 3, 4, 5, 6, 7, 8, 9, 10, 5, 5, 1, 1, 2, 3, 4, 5, 6, 7, 8, 9, 10, 5, 1, 2, 4, 5, 6, 8, 9, 3, 9, 4, 10, 10, 1, 2, 3, 4, 5, 6, 7, 8, 9, 10, 6, 1, 1, 2, 3, 4, 5, 6, 7, 8, 9, 10, 5, 6, 8, 4, 1, 3, 5, 5, 10, 1, 2, 3, 4, 5, 6, 7, 8, 9, 10, 1, 5, 1, 2, 3, 4, 5, 6, 7, 8, 9, 10, 1, 2, 3, 4, 5, 6, 7, 8, 9, 10, 1, 2, 3, 4, 5, 6, 7, 8, 9, 10, 1, 6, 6, 10, 9, 7, 1, 2, 3, 4, 5, 6, 7, 8, 9, 10, 1, 2, 3, 4, 7, 10, 2, 3, 1, 2, 3, 4, 5, 6, 7, 8, 9, 10, 1, 5, 8, 10, 1, 6, 7, 1, 2, 3, 4, 5, 6, 7, 8, 9, 10, 1, 2, 3, 4, 5, 6, 7, 8, 9, 10, 7, 4, 1, 3, 4, 5, 8, 10, 6, 3, 8, 1, 2, 5, 6, 8, 1, 2, 3, 4, 5, 6, 7, 8, 9, 10, 4, 6, 7, 1, 2, 3, 4, 5, 6, 7, 8, 9, 10, 1, 1, 2, 3, 4, 5, 6, 7, 8, 9, 10, 1, 2, 3, 4, 5, 6, 7, 8, 9, 10, 1, 2, 3, 4, 5, 6, 7, 8, 9, 10, 2, 6, 8, 4, 3], \"Freq\": [0.18367050979451255, 0.06122350326483752, 0.1363614390898654, 0.11966412001763697, 0.12801277955375118, 0.08070370884910401, 0.047309070704647176, 0.07235504931298979, 0.06957216280095173, 0.10296680094540855, 0.16948280409250052, 0.0564942680308335, 0.045195414424666805, 0.2146782185171673, 0.0790919752431669, 0.0338965608185001, 0.0677931216370002, 0.20337936491100062, 0.0564942680308335, 0.0790919752431669, 0.8339359813770061, 0.8057888126925706, 0.6835551378658289, 0.17088878446645722, 0.6510591383571511, 0.7093991443642526, 0.2026854698183579, 0.05579068815085786, 0.13017827235200166, 0.09298448025142976, 0.03719379210057191, 0.018596896050285954, 0.33474412890514715, 0.018596896050285954, 0.16737206445257358, 0.07438758420114382, 0.018596896050285954, 0.07785902643541019, 0.038929513217705096, 0.019464756608852548, 0.3600979972637721, 0.02919713491327882, 0.18491518778409918, 0.048661891522131365, 0.214112322697378, 0.02919713491327882, 0.009732378304426274, 0.16834980456403967, 0.6733992182561587, 0.8701256729468977, 0.2413810025638715, 0.07990543533148849, 0.0832348284703005, 0.13484042212188682, 0.09655240102554859, 0.1148640632890147, 0.07324664905386445, 0.07324664905386445, 0.056599683359804344, 0.048276200512774294, 0.9031263612008755, 0.13891860989375482, 0.11985134971225905, 0.11985134971225905, 0.06264956916777177, 0.09261240659583654, 0.08171682934926754, 0.05992567485612953, 0.1443663985170393, 0.06809735779105627, 0.11440356108897455, 0.8941591327581001, 0.1613827173168218, 0.1613827173168218, 0.12910617385345743, 0.13515802575283825, 0.07867407469195062, 0.1391925936857588, 0.0585012350273479, 0.042362963295665725, 0.0585012350273479, 0.0363111113962849, 0.8705588947535506, 0.8004389373639904, 0.840110698421208, 0.8466200777980701, 0.8574233487218522, 0.16744828674461565, 0.1713424329479788, 0.09735365508407887, 0.11293023989753148, 0.09735365508407887, 0.13240097091434727, 0.06620048545717364, 0.062306339253810475, 0.05451804684708417, 0.03504731583026839, 0.1964344175941202, 0.6875204615794207, 0.0982172087970601, 0.21818585842309726, 0.08181969690866148, 0.05727378783606303, 0.18000333319905523, 0.1418208079750132, 0.0709104039875066, 0.04636449491490817, 0.0709104039875066, 0.04090984845433074, 0.09000166659952762, 0.2192085988004477, 0.09166905040745996, 0.035870497985527806, 0.1713812681530773, 0.19928054436404338, 0.09166905040745996, 0.019928054436404337, 0.08768343952017908, 0.04782733064737041, 0.03188488709824694, 0.8403233223233458, 0.8177971937688812, 0.16355943875377624, 0.3059741637969516, 0.14165470546155165, 0.06232807040308273, 0.0339971293107724, 0.07932663505846893, 0.0339971293107724, 0.07932663505846893, 0.039663317529234465, 0.15865327011693786, 0.07366044684000686, 0.18270197812725059, 0.1636374238878853, 0.10962118687635035, 0.08102435551730243, 0.12868574111571562, 0.0842017812238633, 0.07308079125090024, 0.061959801277937154, 0.08261306837058287, 0.033362969918889235, 0.19802939118929871, 0.03300489853154979, 0.4950734779732468, 0.2640391882523983, 0.7082920822516351, 0.028331683290065406, 0.05666336658013081, 0.08499504987019621, 0.08499504987019621, 0.8786178864939266, 0.8712788118511746, 0.06866655141889313, 0.6008323249153149, 0.05149991356416985, 0.06866655141889313, 0.05149991356416985, 0.03433327570944657, 0.05149991356416985, 0.017166637854723284, 0.03433327570944657, 0.017166637854723284, 0.9027163929711985, 0.7030108031081189, 0.6503000245201144, 0.7177123917585122, 0.08193365356015962, 0.007448513960014511, 0.2681465025605224, 0.5064989492809867, 0.029794055840058044, 0.0670366256401306, 0.029794055840058044, 0.007448513960014511, 0.7793960886678688, 0.6605094478317908, 0.6513658303232763, 0.8562452187182621, 0.8476015588757101, 0.6610167400007967, 0.8787013115421248, 0.6504815349385777, 0.8909606685121417, 0.6508288273166482, 0.8752992668970826, 0.8518812396689835, 0.14198020661149727, 0.1682779184685405, 0.08413895923427026, 0.0631042194257027, 0.11569106894712161, 0.021034739808567564, 0.08413895923427026, 0.13672580875568918, 0.05258684952141891, 0.05258684952141891, 0.22086476798995944, 0.11679986539226699, 0.7007991923536019, 0.11679986539226699, 0.7874970839269704, 0.8704402139425426, 0.7873197014572363, 0.15725960449661483, 0.0880653785181043, 0.21387306211539614, 0.17403396230958706, 0.058710252345402864, 0.067097431251889, 0.07758140488499664, 0.04403268925905215, 0.09016217324472584, 0.029355126172701432, 0.21169608506119597, 0.07571611801458834, 0.20706040436642525, 0.13752519394486454, 0.10507542908146954, 0.09116838699715739, 0.035540218659908814, 0.05253771454073477, 0.03399499176165191, 0.05099248764247786, 0.052185671693910037, 0.31311403016346023, 0.052185671693910037, 0.10437134338782007, 0.052185671693910037, 0.36529970185737026, 0.07492740722951738, 0.2997096289180695, 0.07492740722951738, 0.5244918506066217, 0.07492740722951738, 0.7838159199932351, 0.1306359866655392, 0.25587306333373244, 0.6396826583343311, 0.7192263184360282, 0.7174813728573951, 0.7179120896015005, 0.8958868424883466, 0.9041191618187818, 0.8465922668301412, 0.6513133130532606, 0.6609968744068715, 0.5440376147788448, 0.23315897776236205, 0.1554393185082414, 0.629171629271355, 0.07864645365891937, 0.039323226829459684, 0.039323226829459684, 0.039323226829459684, 0.07864645365891937, 0.07864645365891937, 0.09202904442376224, 0.09202904442376224, 0.5521742665425734, 0.09202904442376224, 0.6511758870534066, 0.9027657872271099, 0.7872452805497651, 0.8372573791199162, 0.33238431257047557, 0.0640373446236696, 0.0640373446236696, 0.07623493407579715, 0.09758071561702035, 0.08843252352792469, 0.05183975517154206, 0.024395178904255087, 0.0853831261648928, 0.11282770243217977, 0.17683481255642708, 0.7073392502257083, 0.19463274746289047, 0.11977399843870183, 0.10105931118265467, 0.17217512275563387, 0.07860168647539809, 0.11228812353628297, 0.059886999219350916, 0.06362993667056036, 0.033686437060884894, 0.059886999219350916, 0.6511523004653876, 0.6605300371589488, 0.6535940235320372, 0.9587167755673816, 0.17069469664917952, 0.10086504801996972, 0.20173009603993944, 0.038794249238449895, 0.046553099086139874, 0.09310619817227975, 0.07758849847689979, 0.046553099086139874, 0.1862123963445595, 0.038794249238449895, 0.856337674511066, 0.08689064290424467, 0.08689064290424467, 0.10861330363030583, 0.17378128580848934, 0.043445321452122335, 0.021722660726061167, 0.3475625716169787, 0.021722660726061167, 0.08689064290424467, 0.021722660726061167, 0.7032201645934649, 0.8006071438144545, 0.06882242094596171, 0.06882242094596171, 0.11470403490993618, 0.04588161396397447, 0.3441121047298085, 0.04588161396397447, 0.11470403490993618, 0.04588161396397447, 0.06882242094596171, 0.09176322792794894, 0.13164378139305954, 0.13164378139305954, 0.6582189069652976, 0.9030274026526403, 0.09835134266901699, 0.07376350700176275, 0.22129052100528823, 0.39340537067606796, 0.024587835667254247, 0.024587835667254247, 0.07376350700176275, 0.049175671334508494, 0.024587835667254247, 0.8700817957897737, 0.0987669607157277, 0.10347014932123855, 0.12698609234879277, 0.12228290374328192, 0.150502035376347, 0.11287652653226023, 0.0752510176881735, 0.1316892809543036, 0.0329223202385759, 0.04703188605510843, 0.6505845513884341, 0.726829703274526, 0.10383281475350371, 0.10383281475350371, 0.10383281475350371, 0.7899442241941768, 0.13165737069902947, 0.8472683425070555, 0.7826229683057189, 0.28014866728305876, 0.09566052053567861, 0.11615920350760973, 0.047830260267839306, 0.09566052053567861, 0.05466315459181635, 0.08199473188772452, 0.17082235809942609, 0.027331577295908176, 0.03416447161988522, 0.1352606234535177, 0.1352606234535177, 0.1352606234535177, 0.11835304552182797, 0.050722733795069135, 0.09580960827957503, 0.14089648276408093, 0.07890203034788532, 0.03945101517394266, 0.06763031172675885, 0.11324222876684456, 0.35230915616351643, 0.06291234931491364, 0.07549481917789637, 0.01258246986298273, 0.08807728904087911, 0.11324222876684456, 0.07549481917789637, 0.037747409588948184, 0.07549481917789637, 0.6936973322955218, 0.896185347480387, 0.2250164084848297, 0.10834123371491801, 0.07500546949494323, 0.05833758738495585, 0.1250091158249054, 0.05833758738495585, 0.20001458531984861, 0.07500546949494323, 0.03333576421997477, 0.03333576421997477, 0.759148955448906, 0.029198036748034846, 0.08759411024410454, 0.05839607349606969, 0.05839607349606969, 0.07665532799332393, 0.26829364797663374, 0.49825963195660555, 0.038327663996661966, 0.07665532799332393, 0.038327663996661966, 0.36038976977502135, 0.1390978058780784, 0.07587153047895186, 0.09483941309868983, 0.08851678555877718, 0.08219415801886451, 0.03793576523947593, 0.018967882619737964, 0.04425839277938859, 0.0695489029390392, 0.17205884562303414, 0.10071737304762975, 0.11330704467858346, 0.07553802978572231, 0.15946917399208044, 0.10911048746826556, 0.04616212931349697, 0.08812770141667603, 0.06714491536508649, 0.07134147257540441, 0.8023452500135411, 0.07606331520321394, 0.09127597824385673, 0.19776461952835625, 0.1369139673657851, 0.030425326081285578, 0.060850652162571156, 0.060850652162571156, 0.04563798912192837, 0.24340260865028462, 0.060850652162571156, 0.3028763393572561, 0.07224573232374916, 0.08613914238600862, 0.13615541861014266, 0.05835232226148971, 0.20284378690898805, 0.02778682012451891, 0.05279495823658593, 0.013893410062259455, 0.044458912199230254, 0.7575457460210885, 0.9341320163485669, 0.880286948462659, 0.904277523545784, 0.8925722781145151, 0.8933790859585289, 0.33422452339019676, 0.11355063935692583, 0.087841060634603, 0.057846552125226366, 0.07712873616696848, 0.14568761275982936, 0.05356162233817256, 0.055704087231699465, 0.032136973402903536, 0.040706832977011144, 0.15480348053881185, 0.20368879018264716, 0.14665592893150595, 0.04888530964383532, 0.0855492918767118, 0.1140657225022824, 0.13036082571689417, 0.03259020642922354, 0.04888530964383532, 0.03666398223287649, 0.7165218854066931, 0.660954937485719, 0.7480191895310679, 0.12466986492184466, 0.08191362331979904, 0.37680266727107553, 0.09829634798375884, 0.11467907264771865, 0.016382724663959805, 0.06553089865583922, 0.09829634798375884, 0.06553089865583922, 0.04914817399187942, 0.04914817399187942, 0.6538749315209531, 0.16346873288023828, 0.7174395637398303, 0.21737339819775522, 0.14968826822001108, 0.0872096867020934, 0.0859080495871368, 0.08330477535722355, 0.09501950939183312, 0.06117694440296105, 0.13927517130035813, 0.027334379414088977, 0.05336712171322134, 0.1447443450879222, 0.3008730768681529, 0.054482422027476336, 0.07318534302198314, 0.016263409560440697, 0.0748116839780272, 0.1284809355274815, 0.11953606026923912, 0.03984535342307971, 0.04797705820330005, 0.8397191331028663, 0.8482923966801179, 0.6543388080370106, 0.05948534618518278, 0.11897069237036556, 0.05948534618518278, 0.05948534618518278, 0.05948534618518278, 0.6940591453029262, 0.06940591453029263, 0.06940591453029263, 0.06940591453029263, 0.7175073219631443, 0.17353119512651607, 0.2058844687941716, 0.11470706118532419, 0.13235430136768175, 0.06470654733531107, 0.0558829272441323, 0.11764826788238378, 0.04411810045589391, 0.04411810045589391, 0.050000513850013105, 0.8364132174819834, 0.09170674380600774, 0.0687800578545058, 0.36682697522403096, 0.05731671487875483, 0.11463342975750966, 0.05731671487875483, 0.10317008678175871, 0.05731671487875483, 0.05731671487875483, 0.011463342975750968, 0.9625622734176782, 0.17720862537647175, 0.13086175412416373, 0.12540918103565693, 0.12813546757991034, 0.07360973669484211, 0.15267204647819105, 0.08178859632760234, 0.049073157796561406, 0.049073157796561406, 0.03271543853104093, 0.2450153567941801, 0.05488343992189634, 0.06468405419366355, 0.06729755133280146, 0.14047547122866327, 0.06795092561758595, 0.06403067990887906, 0.17837117974616312, 0.07448466846543075, 0.04377607708056018, 0.7489052654958939, 0.14978105309917877, 0.803128914894776, 0.16062578297895522, 0.8904030122215568, 0.20104563210170956, 0.5300293937226889, 0.2741531346841494, 0.8953445438805889, 0.1485624944796518, 0.13108455395263394, 0.06991176210807143, 0.1485624944796518, 0.0873897026350893, 0.24469116737825003, 0.04369485131754465, 0.06117279184456251, 0.05243382158105358, 0.017477940527017857, 0.8564334047201037, 0.8693330078859439, 0.10866662598574299, 0.12928992118369464, 0.12928992118369464, 0.5171596847347786, 0.12928992118369464, 0.9454952019025933, 0.7986277533764712, 0.7825591565504675, 0.1025779559361295, 0.6667567135848418, 0.025644488984032376, 0.025644488984032376, 0.025644488984032376, 0.07693346695209713, 0.025644488984032376, 0.05128897796806475, 0.87915120764885, 0.7398784083738583, 0.16441742408307963, 0.08220871204153982, 0.8383725711234905, 0.8311998352847861, 0.89055831586767, 0.871079112030783, 0.8783371344734278, 0.10069690611688645, 0.020139381223377287, 0.15104535917532966, 0.13090597795195238, 0.28195133712728204, 0.11076659672857508, 0.050348453058443224, 0.06041814367013187, 0.050348453058443224, 0.050348453058443224, 0.10264030141142615, 0.04105612056457046, 0.24633672338742277, 0.266864783669708, 0.11632567493294964, 0.07526955436837918, 0.04105612056457046, 0.034213433803808715, 0.02052806028228523, 0.054741494086093946, 0.12371668503937787, 0.1855750275590668, 0.061858342519688934, 0.09516668079952144, 0.08565001271956929, 0.12371668503937787, 0.14275002119928215, 0.05234167443973679, 0.08089167867959322, 0.042825006359784645, 0.8792086983116608, 0.2746495131601891, 0.049190957580929395, 0.12707664041740094, 0.12707664041740094, 0.15167211920786564, 0.045091711115851946, 0.045091711115851946, 0.049190957580929395, 0.10248116162693624, 0.024595478790464698, 0.11324148236176836, 0.2707948491259678, 0.024617713556906163, 0.14770628134143698, 0.019694170845524932, 0.06892959795933726, 0.10831793965038712, 0.10339439693900589, 0.039388341691049863, 0.09847085422762465, 0.1661314040883083, 0.03322628081766166, 0.03322628081766166, 0.4983942122649248, 0.23258396572363157, 0.1308138477561125, 0.01308138477561125, 0.0261627695512225, 0.1831393868585575, 0.06540692387805624, 0.09156969342927875, 0.03924415432683375, 0.11773246298050125, 0.20930215640978, 0.14389523253172373, 0.1752960324366297, 0.25583745274535147, 0.03790184485116318, 0.08527915091511715, 0.014213191819186191, 0.059221632579942465, 0.08291028561191945, 0.18240262834622278, 0.04974617136715167, 0.056852767276744764, 0.7173772950820522, 0.8482040057913672, 0.8795919974469377, 0.18694631519544838, 0.07081299818009408, 0.09347315759772419, 0.2549267934483387, 0.07647803803450161, 0.09064063767052043, 0.06514795832568655, 0.05098535868966774, 0.019827639490426343, 0.09347315759772419, 0.15877866252322206, 0.03175573250464441, 0.03175573250464441, 0.03175573250464441, 0.5080917200743106, 0.22229012753251087, 0.8714979762839264, 0.855336737949866, 0.7169056474179755, 0.8278027762507472, 0.07525479784097701, 0.07525479784097701, 0.29755766590430477, 0.16196176751753297, 0.06403139646042001, 0.06026484372745413, 0.030132421863727065, 0.08286416012524943, 0.0866307128582153, 0.14689555658566944, 0.041432080062624714, 0.02636586913076118, 0.18272939320335072, 0.07028053584744258, 0.11244885735590814, 0.07028053584744258, 0.11244885735590814, 0.014056107169488517, 0.2389538218813048, 0.028112214338977034, 0.14056107169488516, 0.028112214338977034, 0.8374305501566394, 0.9446237404700213, 0.8750646996626542, 0.3757147698234528, 0.0672921975803199, 0.07289988071201323, 0.1345843951606398, 0.061684514448626576, 0.061684514448626576, 0.0448614650535466, 0.07850756384370655, 0.061684514448626576, 0.0448614650535466, 0.8381532533909766, 0.9072559279887509, 0.10080621422097231, 0.6505281169693394, 0.19807171689092673, 0.08339861763828495, 0.09382344484307056, 0.06254896322871371, 0.07297379043349933, 0.06254896322871371, 0.14594758086699866, 0.041699308819142474, 0.2293461985052836, 0.010424827204785618, 0.16026288287971963, 0.05342096095990655, 0.08013144143985981, 0.026710480479953273, 0.026710480479953273, 0.026710480479953273, 0.026710480479953273, 0.4006572071992991, 0.1869733633596729, 0.660618888609595, 0.7873037791254045, 0.45880020999755466, 0.21847629047502604, 0.30586680666503646, 0.7878338589171874, 0.8791896249676123, 0.2651810820660971, 0.09372779624749983, 0.14859284770945094, 0.08229757719292669, 0.14630680389853631, 0.05943713908378038, 0.04800692002920723, 0.052579007651036486, 0.05029296384012186, 0.05715109527286575, 0.15972610263517215, 0.6389044105406886, 0.0481834864784874, 0.6504770674595799, 0.0240917432392437, 0.036137614858865554, 0.0481834864784874, 0.0481834864784874, 0.08432110133735296, 0.01204587161962185, 0.036137614858865554, 0.01204587161962185, 0.8788324647063197, 0.8792241874855583, 0.8741487171941595, 0.0643859658800906, 0.1287719317601812, 0.0643859658800906, 0.1287719317601812, 0.5794736929208154, 0.7584029872978993, 0.877847814099454, 0.8792905098372142, 0.87021379148526, 0.8778669321800173, 0.14164739710996357, 0.24788294494243623, 0.4603540406073816, 0.035411849277490894, 0.07082369855498179, 0.035411849277490894, 0.7194290242256404, 0.78759273773889, 0.03549624431790915, 0.0709924886358183, 0.17748122158954574, 0.03549624431790915, 0.10648873295372745, 0.03549624431790915, 0.10648873295372745, 0.3549624431790915, 0.03549624431790915, 0.03549624431790915, 0.18908225364065226, 0.6933015966823917, 0.06302741788021742, 0.06302741788021742, 0.7876667965551111, 0.8393467546929332, 0.8707964785937737, 0.8957020611504999, 0.7174237758789943, 0.8318164518311155, 0.1663632903662231, 0.23161015377220912, 0.6948304613166274, 0.8788680084801114, 0.1999596133710502, 0.08941283524721756, 0.19670823754387864, 0.10892109021024685, 0.11704952977817572, 0.061776140716259406, 0.01625687913585774, 0.09754127481514643, 0.05689907697550209, 0.05527338906191631, 0.8781745447822425, 0.5782693740934878, 0.06939232489121853, 0.02313077496373951, 0.09252309985495805, 0.02313077496373951, 0.04626154992747902, 0.04626154992747902, 0.04626154992747902, 0.04626154992747902, 0.02313077496373951, 0.7693270447822065, 0.9022656228290291, 0.9457168873840222, 0.15976462508805042, 0.15976462508805042, 0.6390585003522017, 0.8700698401879223, 0.7867577257543681, 0.6507748095586148, 0.8000463427683929, 0.8697897724728707, 0.7862321707857716, 0.1800979621153751, 0.06264276943143482, 0.13311588504179897, 0.10962484650501093, 0.10962484650501093, 0.06264276943143482, 0.046982077073576115, 0.05481242325250547, 0.2114193468310925, 0.03915173089464676, 0.871205195543871, 0.6507697671549628, 0.20058623386783905, 0.6017587016035172, 0.6510526945525341, 0.3472505916377599, 0.12627294241373085, 0.07892058900858179, 0.06313647120686543, 0.07892058900858179, 0.07102853010772361, 0.034198921903718774, 0.057875098606293314, 0.06313647120686543, 0.07892058900858179, 0.24419534572885865, 0.1083124517345744, 0.09255791330045449, 0.08074200947486455, 0.08074200947486455, 0.07089542295353961, 0.08271132677912954, 0.11815903825589935, 0.06695678834500964, 0.05317156721515471, 0.8397657451171083, 0.7704599305187939, 0.9257932120551013, 0.5790934975131152, 0.21641209034250833, 0.12022893907917129, 0.2308395630320089, 0.043282418068501666, 0.06251904832116907, 0.05290073319483537, 0.09618315126333704, 0.06251904832116907, 0.05770989075800222, 0.05770989075800222, 0.40323609290515605, 0.07560676741971675, 0.06785222717154067, 0.038772701240880385, 0.12407264397081724, 0.07366813235767274, 0.06785222717154067, 0.04846587655110048, 0.07560676741971675, 0.025202255806572253, 0.8786123041697124, 0.7185239108641459, 0.8858302202505505, 0.7168577222954297, 0.8790749983579556, 0.1850744077013953, 0.12338293846759686, 0.06169146923379843, 0.2820181450687928, 0.08813067033399775, 0.06169146923379843, 0.06169146923379843, 0.052878402200398654, 0.06169146923379843, 0.0352522681335991, 0.9030956127285394, 0.8861617059229937, 0.8731703138833579, 0.16911044789986457, 0.1268328359248984, 0.1268328359248984, 0.04227761197496614, 0.4227761197496614, 0.08455522394993228, 0.04227761197496614, 0.04227761197496614, 0.7995783455007801, 0.2920575488347063, 0.08038281160588247, 0.09645937392705896, 0.06698567633823539, 0.09913880098058837, 0.07234453044529422, 0.05894739517764714, 0.061626822231176555, 0.11789479035529428, 0.05358854107058831, 0.11733959932072548, 0.05333618150942067, 0.35201879796217644, 0.11733959932072548, 0.042668945207536536, 0.06400341781130481, 0.06400341781130481, 0.07467065411318893, 0.09600512671695721, 0.021334472603768268, 0.18700710789408134, 0.06362097485056376, 0.061693066521758794, 0.11374659139949278, 0.19086292455169127, 0.0713326081657836, 0.07904424148100346, 0.12531404137232255, 0.03470234991848932, 0.07326051649458858, 0.47891748851762195, 0.47891748851762195, 0.660585016248636, 0.7868826902658443, 0.20123016506249228, 0.6036904951874769, 0.2805443991748556, 0.09351479972495187, 0.20929502795584465, 0.1113271425297046, 0.10242097112732823, 0.04453085701188184, 0.062343199816634574, 0.031171599908317287, 0.04453085701188184, 0.02226542850594092, 0.8705306716341461, 0.8482452263648907, 0.800401702439493, 0.16563044765159923, 0.8281522382579962, 0.8397723855665141, 0.6509422577512654, 0.7191674015503472, 0.7872530587818616, 0.6608954590996958, 0.6608646615768063, 0.890430553325712, 0.9368293849972937, 0.71771250445403, 0.7711794719126105, 0.9023651915786262, 0.1573796605472604, 0.0674484259488259, 0.1348968518976518, 0.20609241262141245, 0.12740258234778223, 0.04121848252428249, 0.08993123459843452, 0.03372421297441295, 0.11241404324804316, 0.026229943424543403, 0.8944486362018585, 0.12212550967955085, 0.854878567756856, 0.8959453533548692, 0.8186483192800265, 0.1637296638560053, 0.6512300404252626, 0.7732189344412536, 0.18425659973394165, 0.19421641593577635, 0.05311901974311832, 0.11785782505504376, 0.01991963240366937, 0.10955797822018153, 0.09793819265137439, 0.10955797822018153, 0.04813911164220097, 0.06473880531192545, 0.7734234826205919, 0.8803124749581992, 0.34582217177284463, 0.08541390989570259, 0.11041310303590822, 0.08958044208573686, 0.10416330475085682, 0.09374697427577114, 0.024999193140205635, 0.07708084551563404, 0.024999193140205635, 0.04166532190034273, 0.6610571614649852, 0.1652642903662463, 0.08263214518312315, 0.1164162214823576, 0.26387676869334387, 0.02328324429647152, 0.09313297718588608, 0.06984973288941455, 0.06984973288941455, 0.1164162214823576, 0.1164162214823576, 0.031044325728628693, 0.10865514005020042, 0.8398791971599382, 0.14639051005909587, 0.15045691311629297, 0.11792568865871611, 0.07726165808674504, 0.13825770394470163, 0.04066403057197107, 0.12605849477311032, 0.044730433629168176, 0.12199209171591321, 0.04066403057197107, 0.22317507967801678, 0.17066329622436577, 0.06563972931706376, 0.059075756385357385, 0.026255891726825503, 0.09845959397559564, 0.12471548570242114, 0.15097137742924666, 0.052511783453651005, 0.03281986465853188, 0.7872817857258952, 0.08814517259920755, 0.1839551428157375, 0.11113956545117475, 0.12263676187715834, 0.11880436306849713, 0.07664797617322396, 0.10347476783385234, 0.07664797617322396, 0.08814517259920755, 0.030659190469289586, 0.34864066103535496, 0.10664302572846152, 0.06562647737136093, 0.04511820319281064, 0.02460992901426035, 0.0779314418784911, 0.08203309671420117, 0.15996453859269227, 0.06152482253565087, 0.02871158384997041, 0.09490467896713593, 0.2847140369014078, 0.4745233948356797, 0.11308270443853402, 0.04711779351605584, 0.3486716720188132, 0.08481202832890052, 0.06596491092247818, 0.028270676109633505, 0.04711779351605584, 0.07538846962568935, 0.04711779351605584, 0.1413533805481675, 0.18705014514748455, 0.15213411805328741, 0.09227807160609237, 0.07731405999429361, 0.11721809095909032, 0.059856046447195055, 0.03242202515889732, 0.1670981296650862, 0.07482005805899382, 0.0423980329000965, 0.1230236625017935, 0.0777943748173106, 0.15739792114200052, 0.22433726691503522, 0.07960354632468991, 0.07417603180255196, 0.04342011617710359, 0.11578697647227623, 0.016282543566413846, 0.08503106084682786, 0.7824787818579917, 0.21822962072280247, 0.15335054429169903, 0.10026766357534167, 0.09436956571796863, 0.07667527214584952, 0.18873913143593726, 0.0589809785737304, 0.023592391429492158, 0.023592391429492158, 0.0589809785737304, 0.45983027795653203, 0.11678229281435734, 0.065690039708076, 0.09488561291166535, 0.03649446650448667, 0.10948339951346, 0.043793359805384006, 0.029195573203589335, 0.007298893300897334, 0.029195573203589335, 0.09923246476253547, 0.09923246476253547, 0.09923246476253547, 0.5953947885752129, 0.13425038357321298, 0.44750127857737654, 0.08950025571547532, 0.014916709285912553, 0.08950025571547532, 0.029833418571825105, 0.05966683714365021, 0.014916709285912553, 0.08950025571547532, 0.04475012785773766, 0.7879511650049804, 0.22131923424536937, 0.18682792501232479, 0.09485110039087259, 0.08910254885203182, 0.08335399731319107, 0.10059965192971335, 0.0776054457743503, 0.025868481924783433, 0.07185689423550953, 0.051736963849566865, 0.3754661938669825, 0.06592154548809616, 0.06592154548809616, 0.08025231624637794, 0.06878769963975252, 0.10604770361128514, 0.07452000794306524, 0.02866154151656355, 0.06878769963975252, 0.06592154548809616, 0.742246579385741, 0.1484493158771482, 0.890506113078966, 0.1214386389160778, 0.2812263217003907, 0.038349043868235094, 0.07669808773647019, 0.025566029245490063, 0.07669808773647019, 0.08948110235921522, 0.09587260967058774, 0.05752356580235264, 0.13422165353882284, 0.8402551388780237, 0.874449634558535, 0.1072814483757394, 0.6436886902544364, 0.1072814483757394, 0.7869231250687995, 0.11472759969836473, 0.08604569977377355, 0.08604569977377355, 0.02868189992459118, 0.20077329947213826, 0.02868189992459118, 0.315500899170503, 0.08604569977377355, 0.02868189992459118, 0.02868189992459118, 0.8029846626331365, 0.8554115188951151, 0.23191330343423835, 0.1096887245972749, 0.0783490889980535, 0.10342079747743062, 0.1096887245972749, 0.10342079747743062, 0.09088494323774206, 0.07208116187820922, 0.0470094533988321, 0.05327738051867638, 0.8368400388649472, 0.6504849419701285, 0.8004014365284742, 0.17591336825801027, 0.10471033824881563, 0.07957985706909988, 0.12565240589857876, 0.12146399236862614, 0.07957985706909988, 0.07120303000919463, 0.12146399236862614, 0.07120303000919463, 0.050260962359431505, 0.08675928663876356, 0.6568917416934955, 0.024788367611075304, 0.012394183805537652, 0.061970919027688254, 0.024788367611075304, 0.08675928663876356, 0.024788367611075304, 0.024788367611075304, 0.012394183805537652, 0.21647159236342664, 0.10378774976328674, 0.07116874269482519, 0.059307285579021, 0.08006483553167834, 0.0415150999053147, 0.22833304947923083, 0.08896092836853149, 0.05041119274216785, 0.06227264985797205, 0.08379383429975383, 0.5865568400982769, 0.08379383429975383, 0.08379383429975383, 0.08379383429975383, 0.9265374684897488, 0.8955899579412321, 0.8794347918166128, 0.7397909620790437, 0.6606624631950712, 0.8397947464563342, 0.12916049908135993, 0.10524188814036735, 0.19613260971613913, 0.12916049908135993, 0.052620944070183674, 0.13394422126955843, 0.0908907215757718, 0.052620944070183674, 0.06697211063477922, 0.04305349969378664, 0.13991067672731325, 0.6995533836365663, 0.13991067672731325, 0.9030900004018665, 0.7033364955045959, 0.6610433091557816, 0.8735119241932527, 0.6606820034106908, 0.6609617365161354, 0.788254984482073, 0.18779021040499308, 0.7511608416199723, 0.10822359420818481, 0.04208695330318298, 0.07816148470591125, 0.27055898552046204, 0.04208695330318298, 0.09619875040727538, 0.09018632850682068, 0.08417390660636596, 0.1623353913122772, 0.024049687601818845, 0.19228706671303059, 0.048071766678257646, 0.10301092859626639, 0.07554134763726202, 0.17168488099377732, 0.11674571907576857, 0.15795009051427514, 0.041204371438506554, 0.05493916191800874, 0.041204371438506554, 0.6801137813230884, 0.2833807422179535, 0.8938490148916564, 0.8831256793178844, 0.6606566557554656, 0.11103595762091746, 0.05551797881045873, 0.12491545232353216, 0.0832769682156881, 0.06939747351307342, 0.04163848410784405, 0.06939747351307342, 0.027758989405229365, 0.2775898940522937, 0.15267444172876152, 0.6717838246548992, 0.3358919123274496, 0.1396676899416325, 0.6983384497081625, 0.6608239142310474, 0.770023544869549, 0.1866340784526206, 0.042416836011959225, 0.0763503048215266, 0.03393346880956738, 0.2460176488693635, 0.059383570416742915, 0.042416836011959225, 0.13573387523826952, 0.12725050803587767, 0.042416836011959225, 0.21695330241164615, 0.14052657088027082, 0.10724396198757509, 0.05793639325765551, 0.13189774635253487, 0.10108051589633514, 0.060401771694151486, 0.09738244824159117, 0.05547101482115953, 0.03204991967444773, 0.1840721759376668, 0.11223913166930903, 0.32324869920761, 0.0583643484680407, 0.044895652667723614, 0.08530174006867486, 0.03142695686740653, 0.07632260953513015, 0.022447826333861807, 0.06285391373481305, 0.6504320621576714, 0.8911008722483348, 0.8717403246151524, 0.26791092402864497, 0.11162955167860208, 0.08372216375895156, 0.07255920859109136, 0.07814068617502146, 0.1674443275179031, 0.06139625342323114, 0.03348886550358062, 0.07814068617502146, 0.044651820671440835, 0.6166784363454019, 0.30833921817270094, 0.9272103334365078, 0.8899873800211068, 0.8788982414941747, 0.7669924587363645, 0.12783207645606076, 0.2295453905009608, 0.10223450165168842, 0.10416345451304103, 0.0983765959289832, 0.10802136023574625, 0.07715811445410446, 0.0675133501473414, 0.09644764306763058, 0.06558439728598879, 0.052081727256520514, 0.2226739252152695, 0.07585595254586104, 0.056280222856606575, 0.18352246583676057, 0.12234831055784037, 0.058727189067763384, 0.08319685117933145, 0.09298471602395869, 0.058727189067763384, 0.046492358011979346, 0.1745409969192423, 0.1745409969192423, 0.6981639876769692, 0.08649733018182164, 0.14416221696970274, 0.08649733018182164, 0.46131909430304874, 0.028832443393940546, 0.028832443393940546, 0.05766488678788109, 0.028832443393940546, 0.028832443393940546, 0.7864573503205405, 0.9304848854160019, 0.8928195607476496, 0.8373356125489586, 0.8569988902258815, 0.7362926855296259, 0.8007344584293331, 0.18943064206860097, 0.13371574734254185, 0.10864404471581526, 0.13371574734254185, 0.10864404471581526, 0.09471532103430048, 0.058500639462362065, 0.06685787367127093, 0.0501434052534532, 0.0501434052534532, 0.8707074169905977, 0.15727112166764987, 0.09105170201811308, 0.19038083149241827, 0.09105170201811308, 0.09105170201811308, 0.07863556083382493, 0.11174527065859333, 0.04552585100905654, 0.09932912947430518, 0.04138713728096049, 0.33991759128937665, 0.09936052668458702, 0.08890152387568312, 0.08367202247123116, 0.05752451544897143, 0.08890152387568312, 0.06798351825787532, 0.05229501404451948, 0.05752451544897143, 0.06275401685342338, 0.3432226608558963, 0.08008528753304248, 0.12012793129956371, 0.08008528753304248, 0.057203776809316056, 0.1086871759377005, 0.04004264376652124, 0.03432226608558963, 0.06864453217117926, 0.06864453217117926, 0.7028823164901576, 0.8052006547054547, 0.1150286649579221, 0.8707264496648138, 0.7996841466652, 0.14490552260953066, 0.7245276130476532, 0.7874300623205063, 0.7500233856038109, 0.8744720072662555, 0.11801046389505299, 0.8260732472653709, 0.11907265131328591, 0.11907265131328591, 0.8335085591930014, 0.22269519927554757, 0.6680855978266427, 0.19698315005513115, 0.07504120002100234, 0.04690075001312646, 0.06566105001837705, 0.17822285004988056, 0.08442135002362763, 0.018760300005250585, 0.11256180003150351, 0.06566105001837705, 0.15946255004462997, 0.16912694083558774, 0.10022337234701496, 0.1064873331187034, 0.056375646945195916, 0.13780713697714558, 0.20044674469402993, 0.09395941157532653, 0.05011168617350748, 0.056375646945195916, 0.02505584308675374, 0.19906394794118906, 0.17579673324676437, 0.10599508916349029, 0.08789836662338218, 0.08014262839190729, 0.06980164408327409, 0.08014262839190729, 0.07238689016043238, 0.03360819900305789, 0.09565410485485709, 0.8957315950105953, 0.8708300947930352, 0.2286975630570766, 0.08115074818154332, 0.11803745190042664, 0.1475468148755333, 0.08115074818154332, 0.19181085933819328, 0.05164138520643666, 0.04426404446265999, 0.02950936297510666, 0.02950936297510666, 0.7403515315315189, 0.1310617131326216, 0.08737447542174774, 0.05824965028116516, 0.1310617131326216, 0.05824965028116516, 0.02912482514058258, 0.07281206285145644, 0.01456241257029129, 0.2621234262652432, 0.16018653827320417, 0.3829591014215402, 0.08206266459033006, 0.10941688612044007, 0.08890121997285755, 0.06154699844274754, 0.07522410920780255, 0.06154699844274754, 0.04103133229516503, 0.06154699844274754, 0.04786988767769253, 0.8375569924672729, 0.05178434398652135, 0.7767651597978202, 0.1035686879730427, 0.1550626850949113, 0.11401668021684654, 0.12313801463419427, 0.1413806834688897, 0.13682001626021584, 0.04560667208673862, 0.132259349051542, 0.06384934092143406, 0.05016733929541248, 0.036485337669390897, 0.8789734658001782, 0.9290098213962169, 0.6609792384314893, 0.8577499173827888, 0.21702219218674085, 0.08231876255359136, 0.11973638189613288, 0.16089576317292856, 0.09728581029060797, 0.0860605244878455, 0.052384667079558134, 0.05612642901381229, 0.03741761934254152, 0.08980228642209966, 0.14971878247300574, 0.08234533036015315, 0.037429695618251435, 0.18714847809125718, 0.09731720860745373, 0.044915634741901724, 0.029943756494601147, 0.25452193020410974, 0.037429695618251435, 0.08983126948380345, 0.14017784925358093, 0.09165474758887984, 0.3720104460960417, 0.09704620332940218, 0.09704620332940218, 0.04313164592417875, 0.0377401901836564, 0.0377401901836564, 0.04313164592417875, 0.0377401901836564, 0.9519134280818912, 0.18284083048574337, 0.7313633219429735, 0.21334780184777233, 0.1340261832120621, 0.0902625315509806, 0.07658639040689262, 0.15317278081378524, 0.051969336347534284, 0.0902625315509806, 0.06291024926280465, 0.06564547749162225, 0.060175021033987065, 0.04292120482846036, 0.5150544579415244, 0.1287636144853811, 0.04292120482846036, 0.04292120482846036, 0.1287636144853811, 0.04292120482846036, 0.1819203323403162, 0.7276813293612648, 0.8451055015707238, 0.03209261398369837, 0.07488276596196287, 0.042790151978264496, 0.21113220034146016, 0.06309697941239038, 0.13347437952621044, 0.04853613800953107, 0.17958371063526496, 0.05824336561143728, 0.07037740011382004, 0.09707227601906214, 0.08008462771572626, 0.06309697941239038, 0.7174852786924255, 0.8960830551204586, 0.15874529250951797, 0.23433828894262176, 0.041576148038207084, 0.08315229607641417, 0.01889824910827595, 0.13228774375793165, 0.10205054518469012, 0.10583019500634532, 0.049135447681517466, 0.0755929964331038, 0.8385309564555904, 0.14536636734302216, 0.0896941415520775, 0.1639237759400037, 0.34949786190981924, 0.07422963438792621, 0.04639352149245388, 0.027836112895472328, 0.043300620059623623, 0.043300620059623623, 0.018557408596981552, 0.04597373249266666, 0.5746716561583333, 0.02298686624633333, 0.02298686624633333, 0.04597373249266666, 0.02298686624633333, 0.1609080637243333, 0.04597373249266666, 0.04597373249266666, 0.02298686624633333, 0.15559022239287573, 0.0583463333973284, 0.07779511119643787, 0.07779511119643787, 0.03889755559821893, 0.03889755559821893, 0.019448777799109467, 0.019448777799109467, 0.33062922258486094, 0.1750390001919852, 0.8937236830760845, 0.7174231172814197, 0.19754617370746824, 0.5926385211224047, 0.838287427423529, 0.8367265049381882, 0.6512368676006168, 0.8933358432489562, 0.9108118387600757, 0.7188059105585818, 0.3708240733077222, 0.0501395930106216, 0.13788388077920938, 0.10654663514757089, 0.08252141349664804, 0.039693844466742095, 0.09505631174930344, 0.0480504433018457, 0.045961293593069795, 0.022980646796534897, 0.29330118934038446, 0.08185149469964217, 0.06479909997055006, 0.13300867888691853, 0.09890388942873429, 0.09208293153709744, 0.04092574734982109, 0.0716200578621869, 0.06820957891636847, 0.057978142078913206, 0.9030367382548073, 0.8008907687290469, 0.8896466295676014, 0.15678339057572527, 0.15678339057572527, 0.6271335623029011, 0.9043288789977333, 0.06817116085501355, 0.1363423217100271, 0.06817116085501355, 0.06817116085501355, 0.1363423217100271, 0.47719812598509487, 0.660881501618963, 0.7174928010169681, 0.8797062920775391, 0.14262911821730934, 0.035657279554327334, 0.4992019137605827, 0.2852582364346187, 0.8769161777163496, 0.8482303691428313, 0.8563246410308181, 0.8565951294937545, 0.14236159699828044, 0.03559039924957011, 0.03559039924957011, 0.5338559887435516, 0.24913279474699074, 0.2885573192161681, 0.07095671784004134, 0.0425740307040248, 0.05676537427203308, 0.1419134356800827, 0.05203492641603032, 0.10406985283206063, 0.07095671784004134, 0.04730447856002756, 0.12299164425607166, 0.3617940211028184, 0.10451827276303642, 0.09245847205960914, 0.05225913638151821, 0.10049833919522733, 0.0602990035171364, 0.09245847205960914, 0.04421926924590003, 0.048239202813709116, 0.04421926924590003, 0.7028538940795042, 0.8784560162946004, 0.24837426804580995, 0.07481152651982227, 0.12269090349250852, 0.14064566985726587, 0.15860043622202322, 0.0658341433374436, 0.0688266043982365, 0.05386429909427204, 0.044886915911893366, 0.020947227425550236, 0.7171631389002344, 0.8398335454736359, 0.1531040272746143, 0.07336234640241936, 0.09250034981174615, 0.09887968428152175, 0.1371556911001753, 0.04465534128842917, 0.022327670644214585, 0.08931068257685834, 0.21689737197237027, 0.07017267916753156, 0.09659929823879258, 0.15179889723238835, 0.12419909773559046, 0.09659929823879258, 0.12419909773559046, 0.04139969924519682, 0.2621980952195799, 0.027599799496797882, 0.055199598993595764, 0.027599799496797882, 0.19386874306794805, 0.062037997781743376, 0.07754749722717921, 0.11632124584076882, 0.22488774195881972, 0.1395854950089226, 0.031018998890871688, 0.0697927475044613, 0.023264249168153766, 0.05428324805902545, 0.6506881399939982, 0.20925446512338686, 0.061545430918643194, 0.13539994802101504, 0.061545430918643194, 0.09847268946982912, 0.07385451710237184, 0.04923634473491456, 0.07385451710237184, 0.19694537893965824, 0.04923634473491456, 0.13298973377453893, 0.08605218067764285, 0.14863558480683764, 0.09387510619379219, 0.14081265929068829, 0.031291702064597395, 0.05476047861304545, 0.18775021238758438, 0.09387510619379219, 0.03911462758074675, 0.894527943394509, 0.2198006264752791, 0.04710013424470266, 0.0785002237411711, 0.06280017899293688, 0.34540098446115286, 0.12560035798587377, 0.03140008949646844, 0.04710013424470266, 0.01570004474823422, 0.04710013424470266, 0.8745153417310405, 0.6738769817246821, 0.13477539634493643, 0.18150831400796227, 0.7260332560318491, 0.6122488942897315, 0.9509840149079644, 0.14430351927394686, 0.7215175963697342, 0.7171213945210035, 0.31648802287177075, 0.1117016551312132, 0.09432584211080226, 0.0558508275656066, 0.05212743906123283, 0.06826212258018585, 0.10797826662683943, 0.08563793560059679, 0.07322664058601755, 0.033510496539363964, 0.165281665011344, 0.19533287683158837, 0.19533287683158837, 0.06010242364048873, 0.04507681773036654, 0.06010242364048873, 0.2253840886518327, 0.030051211820244363, 0.030051211820244363, 0.015025605910122182, 0.8414805020310334, 0.0934978335590037, 0.7894260785979015, 0.40032035799494986, 0.060918315347057585, 0.043513082390755416, 0.06962093182520866, 0.060918315347057585, 0.18275494604117276, 0.043513082390755416, 0.017405232956302166, 0.043513082390755416, 0.06962093182520866, 0.9033131778127909, 0.19248575355800618, 0.021387305950889578, 0.06416191785266873, 0.042774611901779155, 0.042774611901779155, 0.4491334249686811, 0.06416191785266873, 0.021387305950889578, 0.06416191785266873, 0.06416191785266873, 0.8375659492689824, 0.756260461901199, 0.9385192558436082, 0.9393151661648554, 0.8400525339692915, 0.9390172174033727, 0.7996098077289682, 0.6608793787944545, 0.9027458892817272, 0.9031657942627052, 0.11280843448619134, 0.11280843448619134, 0.11280843448619134, 0.5640421724309567, 0.19625599051669826, 0.07180097214025546, 0.1866825275646642, 0.25369676822890264, 0.07658770361627248, 0.04068721754614476, 0.04786731476017031, 0.07898106935428101, 0.01914692590406812, 0.02632702311809367, 0.18984499880549752, 0.17578240630138658, 0.07968802418996192, 0.08437555502466555, 0.07265672793790645, 0.13593839420640563, 0.06562543168585099, 0.0562503700164437, 0.058594135433795526, 0.08437555502466555, 0.20181555743119628, 0.12893771724770875, 0.11211975412844238, 0.16817963119266358, 0.0691405150458728, 0.08408981559633179, 0.0766151653211023, 0.06727185247706544, 0.046716564220184324, 0.04297923908256958, 0.7183084110223582, 0.8937219103697979, 0.13475659354434746, 0.06737829677217373, 0.06737829677217373, 0.5390263741773899, 0.13475659354434746, 0.8904425712360787, 0.18233660259541223, 0.19123107101470066, 0.10673362103146082, 0.057814044725374616, 0.18678383680505645, 0.06670851314466301, 0.08449744998323983, 0.04002510788679781, 0.04002510788679781, 0.03557787367715361, 0.8374963416349162, 0.271437623765362, 0.1138286809338615, 0.052536314277166846, 0.1138286809338615, 0.04378026189763904, 0.04378026189763904, 0.04378026189763904, 0.2451694666267786, 0.017512104759055614, 0.06129236665669465, 0.20304378784414023, 0.1057519728354897, 0.10998205174890929, 0.12267228848916806, 0.16497307762336394, 0.04653086804761547, 0.05076094696103506, 0.10152189392207012, 0.071911341528133, 0.02115039456709794, 0.04825848917010806, 0.04825848917010806, 0.04825848917010806, 0.14477546751032416, 0.4825848917010806, 0.09651697834021612, 0.09651697834021612, 0.04825848917010806, 0.41878025908878136, 0.09611350208594982, 0.06865250148996416, 0.08238300178795699, 0.06865250148996416, 0.04805675104297491, 0.06865250148996416, 0.03432625074498208, 0.08238300178795699, 0.03432625074498208, 0.19675002466701597, 0.09258824690212515, 0.1041617777648908, 0.22568385182393005, 0.0520808888824454, 0.08680148147074233, 0.06944118517659387, 0.04050735801967976, 0.08101471603935952, 0.046294123451062576, 0.19837433564009996, 0.10249340674738497, 0.12563707923872997, 0.18184314100342497, 0.06943101747403499, 0.14878075173007496, 0.04959358391002499, 0.03636862820068499, 0.046287344982689986, 0.046287344982689986, 0.08271895120947742, 0.13786491868246237, 0.4135947560473871, 0.13786491868246237, 0.05514596747298495, 0.05514596747298495, 0.05514596747298495, 0.027572983736492473, 0.027572983736492473, 0.17989307934219792, 0.16520793000814094, 0.09178218333785608, 0.17989307934219792, 0.07342574667028487, 0.09545347067137032, 0.04772673533568516, 0.029370298668113946, 0.051398022669199406, 0.0844396086708276, 0.067245724197531, 0.0336228620987655, 0.0336228620987655, 0.1008685862962965, 0.43709720728395146, 0.1008685862962965, 0.067245724197531, 0.0336228620987655, 0.1008685862962965, 0.067245724197531, 0.19582662886535393, 0.12287161026845737, 0.18046767758179677, 0.09599344552223232, 0.09215370770134303, 0.1075126589849002, 0.06143580513422869, 0.05759606731333939, 0.03455764038800364, 0.0537563294924501, 0.8915553200730272, 0.8909268166445907, 0.8470783838079081, 0.21406994635084525, 0.09209986063931715, 0.0846323043712644, 0.18917809212400277, 0.08712148979394865, 0.10205660233005413, 0.04729452303100069, 0.05974045014442193, 0.05725126472173769, 0.06720800641247468, 0.8917547876530348, 0.09981364213006931, 0.049906821065034655, 0.49906821065034657, 0.09981364213006931, 0.049906821065034655, 0.049906821065034655, 0.049906821065034655, 0.8924521079309453, 0.7866125038761324, 0.8789816115567161, 0.7173354871350817, 0.7171989524800809, 0.17618489902425655, 0.09564323089888213, 0.11829557505914369, 0.12584635644589753, 0.13088021070373343, 0.13591406496156935, 0.047821615449441066, 0.05033854257835901, 0.055372396836194916, 0.06292317822294877, 0.7189188486476631, 0.8705032538478623, 0.0909709189556278, 0.454854594778139, 0.06064727930375187, 0.06064727930375187, 0.030323639651875935, 0.06064727930375187, 0.0909709189556278, 0.030323639651875935, 0.030323639651875935, 0.030323639651875935, 0.7522785701664294, 0.8518824550212034, 0.12169749357445764, 0.8782775203343245, 0.11108700850922508, 0.11108700850922508, 0.5554350425461254, 0.6547365454432301, 0.13094730908864602, 0.22465971330129647, 0.041722518184526484, 0.08986388532051859, 0.07060733846612174, 0.1476335258837091, 0.07702618741758736, 0.08344503636905297, 0.06097906503892333, 0.17972777064103718, 0.022465971330129647, 0.8705050568957868, 0.8368502608905382, 0.2828709530323899, 0.14383268798257115, 0.11346800940847279, 0.1342438421170664, 0.08949589474471094, 0.04155166541718722, 0.07990704887920619, 0.0607293571481967, 0.02557025564134598, 0.03036467857409835, 0.25261280203090564, 0.1038781615828023, 0.1487346404481033, 0.12984770197850287, 0.07318688656970163, 0.0944346923480021, 0.04721734617400105, 0.03777387693920084, 0.06138255002620136, 0.04721734617400105, 0.22478213507378347, 0.09301329727191039, 0.12660143239787805, 0.12660143239787805, 0.07492737835792782, 0.12143402699388302, 0.06459256754993778, 0.06459256754993778, 0.059425162145942755, 0.04392294593395769, 0.736675565884721, 0.14733511317694423, 0.7185798746032728, 0.717260046267377, 0.9446971531169092, 0.6511050428263807, 0.17531129884354568, 0.1384036569817466, 0.33216877675619183, 0.04613455232724886, 0.03690764186179909, 0.08304219418904796, 0.055361462792698636, 0.03690764186179909, 0.04613455232724886, 0.055361462792698636, 0.6568301866814775, 0.05052539897549827, 0.05052539897549827, 0.10105079795099654, 0.10105079795099654, 0.05052539897549827, 0.15760909652050814, 0.7880454826025407, 0.16992073311801872, 0.19921741124181508, 0.05859335624759267, 0.07617136312187046, 0.2109360824913336, 0.041015349373314865, 0.06445269187235193, 0.0703120274971112, 0.041015349373314865, 0.0703120274971112, 0.1736135496553222, 0.5208406489659666, 0.1736135496553222, 0.0868067748276611, 0.7469695179666728, 0.21550823088527327, 0.6465246926558198, 0.2068966554463519, 0.0732758988039163, 0.03232760241349249, 0.19181044098672206, 0.10775867471164162, 0.12715523615973712, 0.03448277590772532, 0.08836211326354612, 0.04094829639042381, 0.09698280724047745, 0.1450845091132397, 0.12859763307764427, 0.11211075704204886, 0.13848975869900151, 0.15167925952747785, 0.06594750414238168, 0.07913700497085802, 0.06594750414238168, 0.08243438017797709, 0.03297375207119084, 0.650839467029964, 0.9114832819328994, 0.08584416467764289, 0.08584416467764289, 0.6009091527435002, 0.08584416467764289, 0.08584416467764289, 0.08584416467764289, 0.8558901610748546, 0.7198476503296999, 0.14396953006594, 0.6863598408434528, 0.07626220453816143, 0.07626220453816143, 0.07626220453816143, 0.07626220453816143, 0.11216493787110018, 0.05313076004420535, 0.1062615200884107, 0.11806835565378966, 0.21842645795951088, 0.04722734226151586, 0.07674443117496328, 0.13577860900185812, 0.07674443117496328, 0.05903417782689483, 0.12148321661580797, 0.6074160830790398, 0.12148321661580797, 0.1682935344682237, 0.09851328846920412, 0.18060769552687422, 0.2585973822316608, 0.05746608494036907, 0.11903689023362164, 0.01641888141153402, 0.028733042470184534, 0.03694248317595154, 0.03694248317595154, 0.8708527292256163, 0.18879898806562184, 0.12467857702446725, 0.12824082208230916, 0.16030102760288645, 0.0997428616195738, 0.14605204737151878, 0.04630918575194498, 0.03206020552057729, 0.02493571540489345, 0.04630918575194498, 0.16111417913293422, 0.15675974185907113, 0.15458252322213958, 0.08055708956646711, 0.10232927593578255, 0.06313934047101477, 0.06096212183408322, 0.03265827955397315, 0.09362040138805637, 0.09797483866191946, 0.26633830443461987, 0.10092819957522436, 0.12335668836971866, 0.06448190528417112, 0.15139229936283655, 0.05607122198623576, 0.05607122198623576, 0.09812463847591257, 0.03924985539036503, 0.03924985539036503, 0.9021755077472603, 0.7180149237610963, 0.6606822343259753, 0.8797194234168135, 0.8828341122070431], \"Term\": [\"access\", \"access\", \"access\", \"access\", \"access\", \"access\", \"access\", \"access\", \"access\", \"access\", \"accessed\", \"accessed\", \"accessed\", \"accessed\", \"accessed\", \"accessed\", \"accessed\", \"accessed\", \"accessed\", \"accessed\", \"achorn\", \"aci\", \"adblocking\", \"adblocking\", \"adlerian\", \"ads\", \"ads\", \"aesthetic\", \"aesthetic\", \"aesthetic\", \"aesthetic\", \"aesthetic\", \"aesthetic\", \"aesthetic\", \"aesthetic\", \"aesthetic\", \"aesthetic\", \"affect\", \"affect\", \"affect\", \"affect\", \"affect\", \"affect\", \"affect\", \"affect\", \"affect\", \"affect\", \"aftershock\", \"aftershock\", \"albertson\", \"also\", \"also\", \"also\", \"also\", \"also\", \"also\", \"also\", \"also\", \"also\", \"also\", \"alvar\", \"american\", \"american\", \"american\", \"american\", \"american\", \"american\", \"american\", \"american\", \"american\", \"american\", \"amorous\", \"analysis\", \"analysis\", \"analysis\", \"analysis\", \"analysis\", \"analysis\", \"analysis\", \"analysis\", \"analysis\", \"analysis\", \"aneurysms\", \"annuities\", \"anthracite\", \"anzalda\", \"aphasia\", \"approach\", \"approach\", \"approach\", \"approach\", \"approach\", \"approach\", \"approach\", \"approach\", \"approach\", \"approach\", \"arabia\", \"arabia\", \"arabia\", \"archive\", \"archive\", \"archive\", \"archive\", \"archive\", \"archive\", \"archive\", \"archive\", \"archive\", \"archive\", \"archives\", \"archives\", \"archives\", \"archives\", \"archives\", \"archives\", \"archives\", \"archives\", \"archives\", \"archives\", \"armstrong\", \"arrests\", \"arrests\", \"art\", \"art\", \"art\", \"art\", \"art\", \"art\", \"art\", \"art\", \"art\", \"art\", \"article\", \"article\", \"article\", \"article\", \"article\", \"article\", \"article\", \"article\", \"article\", \"article\", \"artworks\", \"artworks\", \"artworks\", \"artworks\", \"associative\", \"associative\", \"associative\", \"associative\", \"associative\", \"astyanax\", \"atm\", \"automatic\", \"automatic\", \"automatic\", \"automatic\", \"automatic\", \"automatic\", \"automatic\", \"automatic\", \"automatic\", \"automatic\", \"ayyaminfo\", \"bacchae\", \"badger\", \"bandwagon\", \"bayesian\", \"bayesian\", \"bayesian\", \"bayesian\", \"bayesian\", \"bayesian\", \"bayesian\", \"bayesian\", \"bengali\", \"benot\", \"bentley\", \"bethell\", \"bhojpuri\", \"bilge\", \"bimetallic\", \"bindings\", \"biofiction\", \"biopics\", \"biosensors\", \"birmingham\", \"birmingham\", \"black\", \"black\", \"black\", \"black\", \"black\", \"black\", \"black\", \"black\", \"black\", \"black\", \"blacklists\", \"blacklists\", \"blacklists\", \"blacksons\", \"blasphemy\", \"bodkin\", \"book\", \"book\", \"book\", \"book\", \"book\", \"book\", \"book\", \"book\", \"book\", \"book\", \"books\", \"books\", \"books\", \"books\", \"books\", \"books\", \"books\", \"books\", \"books\", \"books\", \"booksgooglecom\", \"booksgooglecom\", \"booksgooglecom\", \"booksgooglecom\", \"booksgooglecom\", \"booksgooglecom\", \"borges\", \"borges\", \"borges\", \"borges\", \"borges\", \"borsuk\", \"borsuk\", \"bounty\", \"bounty\", \"branly\", \"breccia\", \"breyer\", \"britannic\", \"brokers\", \"butts\", \"byrons\", \"camelot\", \"canadienne\", \"canadienne\", \"canadienne\", \"cancer\", \"cancer\", \"cancer\", \"cancer\", \"cancer\", \"cancer\", \"cancer\", \"carbon\", \"carbon\", \"carbon\", \"carbon\", \"cardano\", \"caruth\", \"cavefish\", \"centauri\", \"century\", \"century\", \"century\", \"century\", \"century\", \"century\", \"century\", \"century\", \"century\", \"century\", \"chang\", \"chang\", \"change\", \"change\", \"change\", \"change\", \"change\", \"change\", \"change\", \"change\", \"change\", \"change\", \"chapbook\", \"charton\", \"chavez\", \"chellis\", \"chinese\", \"chinese\", \"chinese\", \"chinese\", \"chinese\", \"chinese\", \"chinese\", \"chinese\", \"chinese\", \"chinese\", \"christensen\", \"christian\", \"christian\", \"christian\", \"christian\", \"christian\", \"christian\", \"christian\", \"christian\", \"christian\", \"christian\", \"chubanshe\", \"clarkes\", \"climate\", \"climate\", \"climate\", \"climate\", \"climate\", \"climate\", \"climate\", \"climate\", \"climate\", \"climate\", \"cmlf\", \"cmlf\", \"cmlf\", \"cocaine\", \"cognition\", \"cognition\", \"cognition\", \"cognition\", \"cognition\", \"cognition\", \"cognition\", \"cognition\", \"cognition\", \"collations\", \"collection\", \"collection\", \"collection\", \"collection\", \"collection\", \"collection\", \"collection\", \"collection\", \"collection\", \"collection\", \"collocating\", \"colonization\", \"colonization\", \"colonization\", \"colonization\", \"colorists\", \"colorists\", \"columbus\", \"comique\", \"communication\", \"communication\", \"communication\", \"communication\", \"communication\", \"communication\", \"communication\", \"communication\", \"communication\", \"communication\", \"community\", \"community\", \"community\", \"community\", \"community\", \"community\", \"community\", \"community\", \"community\", \"community\", \"como\", \"como\", \"como\", \"como\", \"como\", \"como\", \"como\", \"como\", \"como\", \"como\", \"compounds\", \"computat\", \"computer\", \"computer\", \"computer\", \"computer\", \"computer\", \"computer\", \"computer\", \"computer\", \"computer\", \"computer\", \"conditioning\", \"conditioning\", \"conditioning\", \"conditioning\", \"conditioning\", \"connectionism\", \"connectionism\", \"connectionism\", \"connectionism\", \"connectionism\", \"connectionism\", \"contemporary\", \"contemporary\", \"contemporary\", \"contemporary\", \"contemporary\", \"contemporary\", \"contemporary\", \"contemporary\", \"contemporary\", \"contemporary\", \"content\", \"content\", \"content\", \"content\", \"content\", \"content\", \"content\", \"content\", \"content\", \"content\", \"cooperators\", \"corporate\", \"corporate\", \"corporate\", \"corporate\", \"corporate\", \"corporate\", \"corporate\", \"corporate\", \"corporate\", \"corporate\", \"corpus\", \"corpus\", \"corpus\", \"corpus\", \"corpus\", \"corpus\", \"corpus\", \"corpus\", \"corpus\", \"corpus\", \"corsair\", \"cosmetic\", \"coustillas\", \"cuadro\", \"cullum\", \"cultic\", \"cultural\", \"cultural\", \"cultural\", \"cultural\", \"cultural\", \"cultural\", \"cultural\", \"cultural\", \"cultural\", \"cultural\", \"culture\", \"culture\", \"culture\", \"culture\", \"culture\", \"culture\", \"culture\", \"culture\", \"culture\", \"culture\", \"cute\", \"cutthroat\", \"czech\", \"czech\", \"da\", \"da\", \"da\", \"da\", \"da\", \"da\", \"da\", \"da\", \"da\", \"da\", \"dallas\", \"dallas\", \"daoist\", \"data\", \"data\", \"data\", \"data\", \"data\", \"data\", \"data\", \"data\", \"data\", \"data\", \"de\", \"de\", \"de\", \"de\", \"de\", \"de\", \"de\", \"de\", \"de\", \"de\", \"deakin\", \"deathbed\", \"debt\", \"debt\", \"debt\", \"debt\", \"debt\", \"debt\", \"deception\", \"deception\", \"deception\", \"deception\", \"desiree\", \"development\", \"development\", \"development\", \"development\", \"development\", \"development\", \"development\", \"development\", \"development\", \"development\", \"devi\", \"dh\", \"dh\", \"dh\", \"dh\", \"dh\", \"dh\", \"dh\", \"dh\", \"dh\", \"dh\", \"dickensian\", \"different\", \"different\", \"different\", \"different\", \"different\", \"different\", \"different\", \"different\", \"different\", \"different\", \"digital\", \"digital\", \"digital\", \"digital\", \"digital\", \"digital\", \"digital\", \"digital\", \"digital\", \"digital\", \"diktys\", \"diktys\", \"dime\", \"dime\", \"disjunct\", \"distancing\", \"distancing\", \"distancing\", \"dockyard\", \"documents\", \"documents\", \"documents\", \"documents\", \"documents\", \"documents\", \"documents\", \"documents\", \"documents\", \"documents\", \"dolezal\", \"dorian\", \"dorian\", \"douglass\", \"douglass\", \"douglass\", \"douglass\", \"dow\", \"downey\", \"droits\", \"dual\", \"dual\", \"dual\", \"dual\", \"dual\", \"dual\", \"dual\", \"dual\", \"dunamis\", \"dunbar\", \"dunbar\", \"dunbar\", \"dunedin\", \"dwinell\", \"dynamo\", \"dysphasia\", \"ebay\", \"ebook\", \"ebook\", \"ebook\", \"ebook\", \"ebook\", \"ebook\", \"ebook\", \"ebook\", \"ebook\", \"ebook\", \"ebooks\", \"ebooks\", \"ebooks\", \"ebooks\", \"ebooks\", \"ebooks\", \"ebooks\", \"ebooks\", \"ebooks\", \"ebooks\", \"economic\", \"economic\", \"economic\", \"economic\", \"economic\", \"economic\", \"economic\", \"economic\", \"economic\", \"economic\", \"edinboro\", \"education\", \"education\", \"education\", \"education\", \"education\", \"education\", \"education\", \"education\", \"education\", \"education\", \"el\", \"el\", \"el\", \"el\", \"el\", \"el\", \"el\", \"el\", \"el\", \"el\", \"embracing\", \"embracing\", \"embracing\", \"embracing\", \"embracing\", \"emotions\", \"emotions\", \"emotions\", \"emotions\", \"emotions\", \"emotions\", \"emotions\", \"emotions\", \"emotions\", \"emotions\", \"en\", \"en\", \"en\", \"en\", \"en\", \"en\", \"en\", \"en\", \"en\", \"en\", \"endoscopy\", \"endotracheal\", \"energeia\", \"english\", \"english\", \"english\", \"english\", \"english\", \"english\", \"english\", \"english\", \"english\", \"english\", \"enjoyment\", \"enjoyment\", \"enjoyment\", \"enjoyment\", \"enjoyment\", \"enjoyment\", \"entrenchment\", \"epress\", \"equifinality\", \"esperanto\", \"esperanto\", \"esperanto\", \"et\", \"et\", \"et\", \"et\", \"et\", \"et\", \"et\", \"et\", \"et\", \"et\", \"ethics\", \"ethics\", \"ethics\", \"ethics\", \"ethics\", \"ethics\", \"ethics\", \"ethics\", \"ethics\", \"ethics\", \"ethnoracial\", \"eureka\", \"evangelina\", \"even\", \"even\", \"even\", \"even\", \"even\", \"even\", \"even\", \"even\", \"even\", \"even\", \"examiners\", \"exper\", \"exper\", \"fables\", \"family\", \"family\", \"family\", \"family\", \"family\", \"family\", \"family\", \"family\", \"family\", \"family\", \"feelings\", \"feelings\", \"feelings\", \"feelings\", \"feelings\", \"feelings\", \"feelings\", \"feelings\", \"feelings\", \"fern\", \"fernndez\", \"fessler\", \"fessler\", \"fessler\", \"fetishes\", \"filial\", \"first\", \"first\", \"first\", \"first\", \"first\", \"first\", \"first\", \"first\", \"first\", \"first\", \"foreword\", \"foreword\", \"formation\", \"formation\", \"formation\", \"formation\", \"formation\", \"formation\", \"formation\", \"formation\", \"formation\", \"formation\", \"forness\", \"fossils\", \"framingham\", \"franaise\", \"franaise\", \"franaise\", \"franaise\", \"franaise\", \"franc\", \"francophones\", \"freddy\", \"freq\", \"frugal\", \"fundamentalism\", \"fundamentalism\", \"fundamentalism\", \"fundamentalism\", \"fundamentalism\", \"fundamentalism\", \"gallic\", \"galsworthy\", \"games\", \"games\", \"games\", \"games\", \"games\", \"games\", \"games\", \"games\", \"games\", \"games\", \"gatsby\", \"gatsby\", \"gatsby\", \"gatsby\", \"gauss\", \"gbsd\", \"genealogies\", \"geothermal\", \"ginsberg\", \"gissing\", \"gissing\", \"gloria\", \"gloria\", \"godoy\", \"google\", \"google\", \"google\", \"google\", \"google\", \"google\", \"google\", \"google\", \"google\", \"google\", \"grammaticality\", \"greek\", \"greek\", \"greek\", \"greek\", \"greek\", \"greek\", \"greek\", \"greek\", \"greek\", \"greek\", \"grenadian\", \"grosset\", \"gulnare\", \"gunpowder\", \"gunpowder\", \"gunpowder\", \"gunter\", \"hae\", \"hammadi\", \"hanauer\", \"handkerchief\", \"harmon\", \"health\", \"health\", \"health\", \"health\", \"health\", \"health\", \"health\", \"health\", \"health\", \"health\", \"hedwig\", \"herland\", \"hester\", \"hester\", \"hewitt\", \"historical\", \"historical\", \"historical\", \"historical\", \"historical\", \"historical\", \"historical\", \"historical\", \"historical\", \"historical\", \"history\", \"history\", \"history\", \"history\", \"history\", \"history\", \"history\", \"history\", \"history\", \"history\", \"hlscher\", \"holberg\", \"homestead\", \"hubler\", \"human\", \"human\", \"human\", \"human\", \"human\", \"human\", \"human\", \"human\", \"human\", \"human\", \"humanities\", \"humanities\", \"humanities\", \"humanities\", \"humanities\", \"humanities\", \"humanities\", \"humanities\", \"humanities\", \"humanities\", \"humpty\", \"hurst\", \"hurston\", \"hymns\", \"ibt\", \"identity\", \"identity\", \"identity\", \"identity\", \"identity\", \"identity\", \"identity\", \"identity\", \"identity\", \"identity\", \"ile\", \"imac\", \"incan\", \"indd\", \"indd\", \"indd\", \"indd\", \"indd\", \"indd\", \"indd\", \"indd\", \"info\", \"information\", \"information\", \"information\", \"information\", \"information\", \"information\", \"information\", \"information\", \"information\", \"information\", \"innovation\", \"innovation\", \"innovation\", \"innovation\", \"innovation\", \"innovation\", \"innovation\", \"innovation\", \"innovation\", \"innovation\", \"internet\", \"internet\", \"internet\", \"internet\", \"internet\", \"internet\", \"internet\", \"internet\", \"internet\", \"internet\", \"interscience\", \"interscience\", \"ioannidis\", \"iroquoian\", \"islamist\", \"islamist\", \"issues\", \"issues\", \"issues\", \"issues\", \"issues\", \"issues\", \"issues\", \"issues\", \"issues\", \"issues\", \"ixodes\", \"jains\", \"janzen\", \"javier\", \"javier\", \"jelling\", \"jerichau\", \"jessie\", \"jethro\", \"johannesburg\", \"kanawha\", \"keyes\", \"khatri\", \"kierkegaard\", \"klim\", \"knihoven\", \"knowledge\", \"knowledge\", \"knowledge\", \"knowledge\", \"knowledge\", \"knowledge\", \"knowledge\", \"knowledge\", \"knowledge\", \"knowledge\", \"knowles\", \"kodachrome\", \"kodachrome\", \"koonce\", \"korrespondenten\", \"korrespondenten\", \"kreuger\", \"kuusisto\", \"la\", \"la\", \"la\", \"la\", \"la\", \"la\", \"la\", \"la\", \"la\", \"la\", \"ladd\", \"lanchester\", \"language\", \"language\", \"language\", \"language\", \"language\", \"language\", \"language\", \"language\", \"language\", \"language\", \"lantern\", \"lantern\", \"lantern\", \"las\", \"las\", \"las\", \"las\", \"las\", \"las\", \"las\", \"las\", \"las\", \"las\", \"laubach\", \"law\", \"law\", \"law\", \"law\", \"law\", \"law\", \"law\", \"law\", \"law\", \"law\", \"le\", \"le\", \"le\", \"le\", \"le\", \"le\", \"le\", \"le\", \"le\", \"le\", \"leaning\", \"learning\", \"learning\", \"learning\", \"learning\", \"learning\", \"learning\", \"learning\", \"learning\", \"learning\", \"learning\", \"les\", \"les\", \"les\", \"les\", \"les\", \"les\", \"les\", \"les\", \"les\", \"les\", \"lgbt\", \"lgbt\", \"lgbt\", \"librarians\", \"librarians\", \"librarians\", \"librarians\", \"librarians\", \"librarians\", \"librarians\", \"librarians\", \"librarians\", \"librarians\", \"libraries\", \"libraries\", \"libraries\", \"libraries\", \"libraries\", \"libraries\", \"libraries\", \"libraries\", \"libraries\", \"libraries\", \"library\", \"library\", \"library\", \"library\", \"library\", \"library\", \"library\", \"library\", \"library\", \"library\", \"lingual\", \"linguistic\", \"linguistic\", \"linguistic\", \"linguistic\", \"linguistic\", \"linguistic\", \"linguistic\", \"linguistic\", \"linguistic\", \"linguistic\", \"linguistics\", \"linguistics\", \"linguistics\", \"linguistics\", \"linguistics\", \"linguistics\", \"linguistics\", \"linguistics\", \"linguistics\", \"linguistics\", \"linguistique\", \"linguistique\", \"linguistique\", \"linguistique\", \"link\", \"link\", \"link\", \"link\", \"link\", \"link\", \"link\", \"link\", \"link\", \"link\", \"litchfield\", \"literary\", \"literary\", \"literary\", \"literary\", \"literary\", \"literary\", \"literary\", \"literary\", \"literary\", \"literary\", \"literature\", \"literature\", \"literature\", \"literature\", \"literature\", \"literature\", \"literature\", \"literature\", \"literature\", \"literature\", \"longfellow\", \"longfellow\", \"lorang\", \"los\", \"los\", \"los\", \"los\", \"los\", \"los\", \"los\", \"los\", \"los\", \"los\", \"lucie\", \"lund\", \"lyndon\", \"lyndon\", \"lyndon\", \"madison\", \"magazines\", \"magazines\", \"magazines\", \"magazines\", \"magazines\", \"magazines\", \"magazines\", \"magazines\", \"magazines\", \"magazines\", \"maisie\", \"mall\", \"many\", \"many\", \"many\", \"many\", \"many\", \"many\", \"many\", \"many\", \"many\", \"many\", \"marginales\", \"marrow\", \"marryat\", \"may\", \"may\", \"may\", \"may\", \"may\", \"may\", \"may\", \"may\", \"may\", \"may\", \"mechanism\", \"mechanism\", \"mechanism\", \"mechanism\", \"mechanism\", \"mechanism\", \"mechanism\", \"mechanism\", \"mechanism\", \"mechanism\", \"media\", \"media\", \"media\", \"media\", \"media\", \"media\", \"media\", \"media\", \"media\", \"media\", \"membership\", \"membership\", \"membership\", \"membership\", \"membership\", \"mentoring\", \"mercator\", \"merleau\", \"michelangelo\", \"migel\", \"missiles\", \"model\", \"model\", \"model\", \"model\", \"model\", \"model\", \"model\", \"model\", \"model\", \"model\", \"moorish\", \"moorish\", \"moorish\", \"moriscos\", \"mta\", \"mud\", \"muiz\", \"multiaxial\", \"multispectral\", \"mutiny\", \"nabokov\", \"nabokov\", \"narrative\", \"narrative\", \"narrative\", \"narrative\", \"narrative\", \"narrative\", \"narrative\", \"narrative\", \"narrative\", \"narrative\", \"nature\", \"nature\", \"nature\", \"nature\", \"nature\", \"nature\", \"nature\", \"nature\", \"nature\", \"nature\", \"nci\", \"nci\", \"ndd\", \"neale\", \"needle\", \"negative\", \"negative\", \"negative\", \"negative\", \"negative\", \"negative\", \"negative\", \"negative\", \"negative\", \"negative\", \"negrito\", \"negrito\", \"nelson\", \"nelson\", \"neotoma\", \"nesbit\", \"network\", \"network\", \"network\", \"network\", \"network\", \"network\", \"network\", \"network\", \"network\", \"network\", \"new\", \"new\", \"new\", \"new\", \"new\", \"new\", \"new\", \"new\", \"new\", \"new\", \"ngram\", \"ngram\", \"ngram\", \"ngram\", \"ngram\", \"ngram\", \"ngram\", \"ngram\", \"ngram\", \"ngram\", \"nikolaevich\", \"nno\", \"nucleo\", \"number\", \"number\", \"number\", \"number\", \"number\", \"number\", \"number\", \"number\", \"number\", \"number\", \"numeracy\", \"numeracy\", \"nus\", \"nyes\", \"occitan\", \"offshore\", \"offshore\", \"one\", \"one\", \"one\", \"one\", \"one\", \"one\", \"one\", \"one\", \"one\", \"one\", \"online\", \"online\", \"online\", \"online\", \"online\", \"online\", \"online\", \"online\", \"online\", \"online\", \"ormond\", \"ormond\", \"ormond\", \"orphan\", \"orphan\", \"orphan\", \"orphan\", \"orphan\", \"orphan\", \"orphan\", \"orphan\", \"orphan\", \"otherworld\", \"oyen\", \"painkiller\", \"palacio\", \"pall\", \"pallidum\", \"pampers\", \"paper\", \"paper\", \"paper\", \"paper\", \"paper\", \"paper\", \"paper\", \"paper\", \"paper\", \"paper\", \"paralysis\", \"part\", \"part\", \"part\", \"part\", \"part\", \"part\", \"part\", \"part\", \"part\", \"part\", \"particular\", \"particular\", \"particular\", \"particular\", \"particular\", \"particular\", \"particular\", \"particular\", \"particular\", \"particular\", \"past\", \"past\", \"past\", \"past\", \"past\", \"past\", \"past\", \"past\", \"past\", \"past\", \"patrimonio\", \"peale\", \"peale\", \"penh\", \"peoria\", \"percival\", \"percival\", \"phylis\", \"picaresque\", \"pigott\", \"pilgrims\", \"pilgrims\", \"pirate\", \"pirate\", \"pirate\", \"plac\", \"plac\", \"poetry\", \"poetry\", \"poetry\", \"poetry\", \"poetry\", \"poetry\", \"poetry\", \"poetry\", \"poetry\", \"poetry\", \"policy\", \"policy\", \"policy\", \"policy\", \"policy\", \"policy\", \"policy\", \"policy\", \"policy\", \"policy\", \"political\", \"political\", \"political\", \"political\", \"political\", \"political\", \"political\", \"political\", \"political\", \"political\", \"polydrug\", \"popper\", \"popular\", \"popular\", \"popular\", \"popular\", \"popular\", \"popular\", \"popular\", \"popular\", \"popular\", \"popular\", \"porn\", \"positive\", \"positive\", \"positive\", \"positive\", \"positive\", \"positive\", \"positive\", \"positive\", \"positive\", \"positive\", \"possible\", \"possible\", \"possible\", \"possible\", \"possible\", \"possible\", \"possible\", \"possible\", \"possible\", \"possible\", \"pow\", \"pract\", \"pract\", \"pract\", \"practices\", \"practices\", \"practices\", \"practices\", \"practices\", \"practices\", \"practices\", \"practices\", \"practices\", \"practices\", \"praelectiones\", \"predation\", \"prehistoriques\", \"prescribing\", \"present\", \"present\", \"present\", \"present\", \"present\", \"present\", \"present\", \"present\", \"present\", \"present\", \"preservation\", \"preservation\", \"preservation\", \"preservation\", \"preservation\", \"preservation\", \"preservation\", \"preservation\", \"preservation\", \"preservation\", \"print\", \"print\", \"print\", \"print\", \"print\", \"print\", \"print\", \"print\", \"print\", \"print\", \"processional\", \"procurement\", \"procurement\", \"project\", \"project\", \"project\", \"project\", \"project\", \"project\", \"project\", \"project\", \"project\", \"project\", \"pronouns\", \"pronouns\", \"pronouns\", \"pronouns\", \"pronouns\", \"pronouns\", \"pronouns\", \"proportionality\", \"proportionality\", \"propositional\", \"propositional\", \"propositional\", \"propositional\", \"public\", \"public\", \"public\", \"public\", \"public\", \"public\", \"public\", \"public\", \"public\", \"public\", \"puppy\", \"quantifier\", \"que\", \"que\", \"que\", \"que\", \"que\", \"que\", \"que\", \"que\", \"que\", \"que\", \"radicalisation\", \"reading\", \"reading\", \"reading\", \"reading\", \"reading\", \"reading\", \"reading\", \"reading\", \"reading\", \"reading\", \"reasoning\", \"reasoning\", \"reasoning\", \"reasoning\", \"reasoning\", \"reasoning\", \"reasoning\", \"reasoning\", \"reasoning\", \"reasoning\", \"reception\", \"reception\", \"reception\", \"reception\", \"reception\", \"reception\", \"reception\", \"reception\", \"reception\", \"reception\", \"recuperating\", \"referendums\", \"refugee\", \"refugee\", \"reification\", \"reinhardt\", \"remediated\", \"remixing\", \"renmin\", \"resartus\", \"research\", \"research\", \"research\", \"research\", \"research\", \"research\", \"research\", \"research\", \"research\", \"research\", \"results\", \"results\", \"results\", \"results\", \"results\", \"results\", \"results\", \"results\", \"results\", \"results\", \"retouching\", \"revels\", \"rickel\", \"riding\", \"riding\", \"riding\", \"rilm\", \"robinson\", \"robinson\", \"robinson\", \"robinson\", \"robinson\", \"robinson\", \"roh\", \"romanische\", \"rothko\", \"sadness\", \"sadness\", \"sadness\", \"sadness\", \"sagas\", \"sandhed\", \"sartor\", \"savoyard\", \"schemata\", \"schemata\", \"schemata\", \"schemata\", \"schemata\", \"scholarly\", \"scholarly\", \"scholarly\", \"scholarly\", \"scholarly\", \"scholarly\", \"scholarly\", \"scholarly\", \"scholarly\", \"scholarly\", \"scholars\", \"scholars\", \"scholars\", \"scholars\", \"scholars\", \"scholars\", \"scholars\", \"scholars\", \"scholars\", \"scholars\", \"schoolmaster\", \"schopenhauer\", \"science\", \"science\", \"science\", \"science\", \"science\", \"science\", \"science\", \"science\", \"science\", \"science\", \"scriptural\", \"seafarers\", \"search\", \"search\", \"search\", \"search\", \"search\", \"search\", \"search\", \"search\", \"search\", \"search\", \"security\", \"security\", \"security\", \"security\", \"security\", \"security\", \"security\", \"security\", \"security\", \"security\", \"semantic\", \"semantic\", \"semantic\", \"semantic\", \"semantic\", \"semantic\", \"semantic\", \"semantic\", \"semantic\", \"semantic\", \"senapati\", \"service\", \"service\", \"service\", \"service\", \"service\", \"service\", \"service\", \"service\", \"service\", \"service\", \"services\", \"services\", \"services\", \"services\", \"services\", \"services\", \"services\", \"services\", \"services\", \"services\", \"shotwell\", \"similarity\", \"similarity\", \"similarity\", \"similarity\", \"similarity\", \"similarity\", \"similarity\", \"similarity\", \"similarity\", \"similarity\", \"sistrunk\", \"skeptical\", \"skeptical\", \"skilled\", \"skilled\", \"slang\", \"sme\", \"smokefree\", \"smokefree\", \"smoky\", \"social\", \"social\", \"social\", \"social\", \"social\", \"social\", \"social\", \"social\", \"social\", \"social\", \"sociology\", \"sociology\", \"sociology\", \"sociology\", \"sociology\", \"sociology\", \"sociology\", \"sociology\", \"sociology\", \"sociology\", \"softw\", \"softw\", \"som\", \"source\", \"source\", \"source\", \"source\", \"source\", \"source\", \"source\", \"source\", \"source\", \"source\", \"southeby\", \"soviet\", \"soviet\", \"soviet\", \"soviet\", \"soviet\", \"soviet\", \"soviet\", \"soviet\", \"soviet\", \"soviet\", \"spillane\", \"spinners\", \"srm\", \"stacey\", \"stadial\", \"stasis\", \"statin\", \"stebbins\", \"stern\", \"stool\", \"strait\", \"strait\", \"strait\", \"strait\", \"students\", \"students\", \"students\", \"students\", \"students\", \"students\", \"students\", \"students\", \"students\", \"students\", \"studies\", \"studies\", \"studies\", \"studies\", \"studies\", \"studies\", \"studies\", \"studies\", \"studies\", \"studies\", \"study\", \"study\", \"study\", \"study\", \"study\", \"study\", \"study\", \"study\", \"study\", \"study\", \"suffragette\", \"superrich\", \"symposium\", \"symposium\", \"symposium\", \"symposium\", \"symposium\", \"syriac\", \"system\", \"system\", \"system\", \"system\", \"system\", \"system\", \"system\", \"system\", \"system\", \"system\", \"tagliamonte\", \"teaching\", \"teaching\", \"teaching\", \"teaching\", \"teaching\", \"teaching\", \"teaching\", \"teaching\", \"teaching\", \"teaching\", \"technology\", \"technology\", \"technology\", \"technology\", \"technology\", \"technology\", \"technology\", \"technology\", \"technology\", \"technology\", \"tenure\", \"tenure\", \"tenure\", \"tenure\", \"tenure\", \"tenure\", \"tenure\", \"tenure\", \"term\", \"term\", \"term\", \"term\", \"term\", \"term\", \"term\", \"term\", \"term\", \"term\", \"terms\", \"terms\", \"terms\", \"terms\", \"terms\", \"terms\", \"terms\", \"terms\", \"terms\", \"terms\", \"text\", \"text\", \"text\", \"text\", \"text\", \"text\", \"text\", \"text\", \"text\", \"text\", \"textbooks\", \"textbooks\", \"textbooks\", \"textbooks\", \"textbooks\", \"textbooks\", \"textbooks\", \"textbooks\", \"textbooks\", \"texts\", \"texts\", \"texts\", \"texts\", \"texts\", \"texts\", \"texts\", \"texts\", \"texts\", \"texts\", \"theatre\", \"theatre\", \"theatre\", \"theatre\", \"theatre\", \"theatre\", \"theatre\", \"theatre\", \"theatre\", \"theatre\", \"theory\", \"theory\", \"theory\", \"theory\", \"theory\", \"theory\", \"theory\", \"theory\", \"theory\", \"theory\", \"thistlethwaite\", \"thu\", \"tick\", \"time\", \"time\", \"time\", \"time\", \"time\", \"time\", \"time\", \"time\", \"time\", \"time\", \"toby\", \"tracking\", \"tracking\", \"tracking\", \"tracking\", \"tracking\", \"tracking\", \"tracking\", \"trail\", \"trailer\", \"trainees\", \"tristan\", \"tuera\", \"two\", \"two\", \"two\", \"two\", \"two\", \"two\", \"two\", \"two\", \"two\", \"two\", \"uhm\", \"ukc\", \"uma\", \"uma\", \"uma\", \"uma\", \"uma\", \"uma\", \"uma\", \"uma\", \"uma\", \"uma\", \"unanticipated\", \"underwood\", \"underwood\", \"unicorn\", \"unintended\", \"unintended\", \"unintended\", \"unions\", \"unions\", \"university\", \"university\", \"university\", \"university\", \"university\", \"university\", \"university\", \"university\", \"university\", \"university\", \"unruptured\", \"upstairs\", \"use\", \"use\", \"use\", \"use\", \"use\", \"use\", \"use\", \"use\", \"use\", \"use\", \"used\", \"used\", \"used\", \"used\", \"used\", \"used\", \"used\", \"used\", \"used\", \"used\", \"using\", \"using\", \"using\", \"using\", \"using\", \"using\", \"using\", \"using\", \"using\", \"using\", \"vanity\", \"vanity\", \"vaughn\", \"vegas\", \"venable\", \"videographic\", \"viewer\", \"viewer\", \"viewer\", \"viewer\", \"viewer\", \"viewer\", \"viewer\", \"viewer\", \"viewer\", \"viewer\", \"wallace\", \"wallace\", \"wallace\", \"wallace\", \"wallace\", \"wallace\", \"walser\", \"walser\", \"war\", \"war\", \"war\", \"war\", \"war\", \"war\", \"war\", \"war\", \"war\", \"war\", \"warburg\", \"warburg\", \"warburg\", \"warburg\", \"ware\", \"warsaw\", \"warsaw\", \"web\", \"web\", \"web\", \"web\", \"web\", \"web\", \"web\", \"web\", \"web\", \"web\", \"well\", \"well\", \"well\", \"well\", \"well\", \"well\", \"well\", \"well\", \"well\", \"well\", \"wellwood\", \"wenxue\", \"whitman\", \"whitman\", \"whitman\", \"whitman\", \"whitman\", \"whitman\", \"willcox\", \"willson\", \"willson\", \"wolf\", \"wolf\", \"wolf\", \"wolf\", \"wolf\", \"women\", \"women\", \"women\", \"women\", \"women\", \"women\", \"women\", \"women\", \"women\", \"women\", \"woolf\", \"woolf\", \"woolf\", \"word\", \"word\", \"word\", \"word\", \"word\", \"word\", \"word\", \"word\", \"word\", \"word\", \"wordpress\", \"words\", \"words\", \"words\", \"words\", \"words\", \"words\", \"words\", \"words\", \"words\", \"words\", \"work\", \"work\", \"work\", \"work\", \"work\", \"work\", \"work\", \"work\", \"work\", \"work\", \"world\", \"world\", \"world\", \"world\", \"world\", \"world\", \"world\", \"world\", \"world\", \"world\", \"wwwal\", \"xiqu\", \"zeller\", \"zetkins\", \"zora\"]}, \"R\": 30, \"lambda.step\": 0.01, \"plot.opts\": {\"xlab\": \"PC1\", \"ylab\": \"PC2\"}, \"topic.order\": [3, 9, 7, 5, 1, 2, 6, 8, 10, 4]};\n",
       "\n",
       "function LDAvis_load_lib(url, callback){\n",
       "  var s = document.createElement('script');\n",
       "  s.src = url;\n",
       "  s.async = true;\n",
       "  s.onreadystatechange = s.onload = callback;\n",
       "  s.onerror = function(){console.warn(\"failed to load library \" + url);};\n",
       "  document.getElementsByTagName(\"head\")[0].appendChild(s);\n",
       "}\n",
       "\n",
       "if(typeof(LDAvis) !== \"undefined\"){\n",
       "   // already loaded: just create the visualization\n",
       "   !function(LDAvis){\n",
       "       new LDAvis(\"#\" + \"ldavis_el42762091180608976351120646\", ldavis_el42762091180608976351120646_data);\n",
       "   }(LDAvis);\n",
       "}else if(typeof define === \"function\" && define.amd){\n",
       "   // require.js is available: use it to load d3/LDAvis\n",
       "   require.config({paths: {d3: \"https://d3js.org/d3.v5\"}});\n",
       "   require([\"d3\"], function(d3){\n",
       "      window.d3 = d3;\n",
       "      LDAvis_load_lib(\"https://cdn.jsdelivr.net/gh/bmabey/pyLDAvis@3.3.1/pyLDAvis/js/ldavis.v3.0.0.js\", function(){\n",
       "        new LDAvis(\"#\" + \"ldavis_el42762091180608976351120646\", ldavis_el42762091180608976351120646_data);\n",
       "      });\n",
       "    });\n",
       "}else{\n",
       "    // require.js not available: dynamically load d3 & LDAvis\n",
       "    LDAvis_load_lib(\"https://d3js.org/d3.v5.js\", function(){\n",
       "         LDAvis_load_lib(\"https://cdn.jsdelivr.net/gh/bmabey/pyLDAvis@3.3.1/pyLDAvis/js/ldavis.v3.0.0.js\", function(){\n",
       "                 new LDAvis(\"#\" + \"ldavis_el42762091180608976351120646\", ldavis_el42762091180608976351120646_data);\n",
       "            })\n",
       "         });\n",
       "}\n",
       "</script>"
      ],
      "text/plain": [
       "<IPython.core.display.HTML object>"
      ]
     },
     "execution_count": 263,
     "metadata": {},
     "output_type": "execute_result"
    }
   ],
   "source": [
    "import pyLDAvis\n",
    "import pyLDAvis.gensim_models\n",
    "vis = pyLDAvis.gensim_models.prepare(topic_model=lda_model, \n",
    "                              corpus=corpus, \n",
    "                              dictionary=id2word)\n",
    "pyLDAvis.enable_notebook()\n",
    "pyLDAvis.display(vis)"
   ]
  },
  {
   "cell_type": "code",
   "execution_count": 260,
   "id": "f0b4bce4",
   "metadata": {},
   "outputs": [
    {
     "name": "stderr",
     "output_type": "stream",
     "text": [
      "C:\\Users\\lucia\\miniconda3\\lib\\site-packages\\pyLDAvis\\_prepare.py:246: FutureWarning: In a future version of pandas all arguments of DataFrame.drop except for the argument 'labels' will be keyword-only.\n",
      "  default_term_info = default_term_info.sort_values(\n"
     ]
    },
    {
     "ename": "FileNotFoundError",
     "evalue": "[Errno 2] No such file or directory: './results/ldavis_prepared_10'",
     "output_type": "error",
     "traceback": [
      "\u001b[1;31m---------------------------------------------------------------------------\u001b[0m",
      "\u001b[1;31mFileNotFoundError\u001b[0m                         Traceback (most recent call last)",
      "Cell \u001b[1;32mIn[260], line 12\u001b[0m\n\u001b[0;32m     10\u001b[0m \u001b[38;5;28;01mif\u001b[39;00m \u001b[38;5;241m1\u001b[39m \u001b[38;5;241m==\u001b[39m \u001b[38;5;241m1\u001b[39m:\n\u001b[0;32m     11\u001b[0m     LDAvis_prepared \u001b[38;5;241m=\u001b[39m pyLDAvis\u001b[38;5;241m.\u001b[39mgensim_models\u001b[38;5;241m.\u001b[39mprepare(lda_model, corpus, id2word)\n\u001b[1;32m---> 12\u001b[0m     \u001b[38;5;28;01mwith\u001b[39;00m \u001b[38;5;28;43mopen\u001b[39;49m\u001b[43m(\u001b[49m\u001b[43mLDAvis_data_filepath\u001b[49m\u001b[43m,\u001b[49m\u001b[43m \u001b[49m\u001b[38;5;124;43m'\u001b[39;49m\u001b[38;5;124;43mwb\u001b[39;49m\u001b[38;5;124;43m'\u001b[39;49m\u001b[43m)\u001b[49m \u001b[38;5;28;01mas\u001b[39;00m f:\n\u001b[0;32m     13\u001b[0m         pickle\u001b[38;5;241m.\u001b[39mdump(LDAvis_prepared, f)\n\u001b[0;32m     14\u001b[0m \u001b[38;5;66;03m# load the pre-prepared pyLDAvis data from disk\u001b[39;00m\n",
      "File \u001b[1;32m~\\miniconda3\\lib\\site-packages\\IPython\\core\\interactiveshell.py:282\u001b[0m, in \u001b[0;36m_modified_open\u001b[1;34m(file, *args, **kwargs)\u001b[0m\n\u001b[0;32m    275\u001b[0m \u001b[38;5;28;01mif\u001b[39;00m file \u001b[38;5;129;01min\u001b[39;00m {\u001b[38;5;241m0\u001b[39m, \u001b[38;5;241m1\u001b[39m, \u001b[38;5;241m2\u001b[39m}:\n\u001b[0;32m    276\u001b[0m     \u001b[38;5;28;01mraise\u001b[39;00m \u001b[38;5;167;01mValueError\u001b[39;00m(\n\u001b[0;32m    277\u001b[0m         \u001b[38;5;124mf\u001b[39m\u001b[38;5;124m\"\u001b[39m\u001b[38;5;124mIPython won\u001b[39m\u001b[38;5;124m'\u001b[39m\u001b[38;5;124mt let you open fd=\u001b[39m\u001b[38;5;132;01m{\u001b[39;00mfile\u001b[38;5;132;01m}\u001b[39;00m\u001b[38;5;124m by default \u001b[39m\u001b[38;5;124m\"\u001b[39m\n\u001b[0;32m    278\u001b[0m         \u001b[38;5;124m\"\u001b[39m\u001b[38;5;124mas it is likely to crash IPython. If you know what you are doing, \u001b[39m\u001b[38;5;124m\"\u001b[39m\n\u001b[0;32m    279\u001b[0m         \u001b[38;5;124m\"\u001b[39m\u001b[38;5;124myou can use builtins\u001b[39m\u001b[38;5;124m'\u001b[39m\u001b[38;5;124m open.\u001b[39m\u001b[38;5;124m\"\u001b[39m\n\u001b[0;32m    280\u001b[0m     )\n\u001b[1;32m--> 282\u001b[0m \u001b[38;5;28;01mreturn\u001b[39;00m io_open(file, \u001b[38;5;241m*\u001b[39margs, \u001b[38;5;241m*\u001b[39m\u001b[38;5;241m*\u001b[39mkwargs)\n",
      "\u001b[1;31mFileNotFoundError\u001b[0m: [Errno 2] No such file or directory: './results/ldavis_prepared_10'"
     ]
    }
   ],
   "source": [
    "import pyLDAvis.gensim_models\n",
    "import pickle \n",
    "import pyLDAvis\n",
    "import os\n",
    "# Visualize the topics\n",
    "pyLDAvis.enable_notebook()\n",
    "LDAvis_data_filepath = os.path.join('./results/ldavis_prepared_'+str(num_topics))\n",
    "# # this is a bit time consuming - make the if statement True\n",
    "# # if you want to execute visualization prep yourself\n",
    "if 1 == 1:\n",
    "    LDAvis_prepared = pyLDAvis.gensim_models.prepare(lda_model, corpus, id2word)\n",
    "    with open(LDAvis_data_filepath, 'wb') as f:\n",
    "        pickle.dump(LDAvis_prepared, f)\n",
    "# load the pre-prepared pyLDAvis data from disk\n",
    "with open(LDAvis_data_filepath, 'rb') as f:\n",
    "    LDAvis_prepared = pickle.load(f)\n",
    "pyLDAvis.save_html(LDAvis_prepared, './results/ldavis_prepared_'+ str(num_topics) +'.html')\n",
    "LDAvis_prepared"
   ]
  },
  {
   "cell_type": "code",
   "execution_count": 159,
   "id": "ac20bf5f",
   "metadata": {},
   "outputs": [
    {
     "name": "stderr",
     "output_type": "stream",
     "text": [
      "C:\\Users\\lucia\\AppData\\Local\\Temp\\ipykernel_4276\\3611968549.py:1: SettingWithCopyWarning: \n",
      "A value is trying to be set on a copy of a slice from a DataFrame.\n",
      "Try using .loc[row_indexer,col_indexer] = value instead\n",
      "\n",
      "See the caveats in the documentation: https://pandas.pydata.org/pandas-docs/stable/user_guide/indexing.html#returning-a-view-versus-a-copy\n",
      "  df[\"text\"]=df[\"text\"].apply(conv)\n"
     ]
    }
   ],
   "source": [
    "df[\"text\"]=df[\"text\"].apply(conv)"
   ]
  },
  {
   "cell_type": "code",
   "execution_count": 172,
   "id": "804ee29f",
   "metadata": {},
   "outputs": [],
   "source": [
    "text=[]\n",
    "for t in df[\"text\"]:\n",
    "    if isinstance(t,str):\n",
    "        text.append(t)\n",
    "    else:\n",
    "        temp=\"\"\n",
    "        for k in t:\n",
    "            for i in range(0,t[k]):\n",
    "                temp+=k\n",
    "                temp+=\" \"\n",
    "        text.append(temp)"
   ]
  },
  {
   "cell_type": "code",
   "execution_count": 179,
   "id": "7fb69328",
   "metadata": {},
   "outputs": [
    {
     "name": "stderr",
     "output_type": "stream",
     "text": [
      "C:\\Users\\lucia\\AppData\\Local\\Temp\\ipykernel_4276\\2521916661.py:1: SettingWithCopyWarning: \n",
      "A value is trying to be set on a copy of a slice from a DataFrame.\n",
      "Try using .loc[row_indexer,col_indexer] = value instead\n",
      "\n",
      "See the caveats in the documentation: https://pandas.pydata.org/pandas-docs/stable/user_guide/indexing.html#returning-a-view-versus-a-copy\n",
      "  df[\"text\"]=df[\"text\"].apply(strip)\n"
     ]
    }
   ],
   "source": [
    "df[\"text\"]=df[\"text\"].apply(strip)"
   ]
  },
  {
   "cell_type": "code",
   "execution_count": 182,
   "id": "cbb297c2",
   "metadata": {},
   "outputs": [
    {
     "name": "stderr",
     "output_type": "stream",
     "text": [
      "C:\\Users\\lucia\\AppData\\Local\\Temp\\ipykernel_4276\\1023429554.py:1: SettingWithCopyWarning: \n",
      "A value is trying to be set on a copy of a slice from a DataFrame.\n",
      "Try using .loc[row_indexer,col_indexer] = value instead\n",
      "\n",
      "See the caveats in the documentation: https://pandas.pydata.org/pandas-docs/stable/user_guide/indexing.html#returning-a-view-versus-a-copy\n",
      "  df[\"abstract\"]=df[\"abstract\"].fillna(\"\").apply(strip)\n"
     ]
    }
   ],
   "source": [
    "df[\"abstract\"]=df[\"abstract\"].fillna(\"\").apply(strip)"
   ]
  },
  {
   "cell_type": "code",
   "execution_count": 198,
   "id": "ab8fa498",
   "metadata": {},
   "outputs": [],
   "source": [
    "df.to_csv(\"full.csv\")"
   ]
  },
  {
   "cell_type": "code",
   "execution_count": 44,
   "id": "1021b385",
   "metadata": {},
   "outputs": [],
   "source": [
    "import ast"
   ]
  },
  {
   "cell_type": "code",
   "execution_count": 45,
   "id": "90725bd7",
   "metadata": {},
   "outputs": [
    {
     "data": {
      "text/plain": [
       "Behavioral and Brain Sciences                 151\n",
       "Benjamins E-Books                             112\n",
       "SAGE KNOWLEDGE                                 76\n",
       "Victorian Literature and Culture               62\n",
       "American Libraries                             56\n",
       "Elgar E-Books                                  51\n",
       "Victorian Periodicals Review                   37\n",
       "portal: Libraries and the Academy              34\n",
       "Victorian Review                               33\n",
       "Early American Literature                      32\n",
       "Library Hi Tech                                32\n",
       "Berkeley Technology Law Journal                31\n",
       "Book History                                   28\n",
       "The Moving Image                               28\n",
       "PMLA                                           28\n",
       "Library Trends                                 28\n",
       "MELUS: Multi-Ethnic Literature of the U.S.     27\n",
       "Interlending & Document Supply                 27\n",
       "Library Hi Tech News                           27\n",
       "Journal of Cultural Analytics                  26\n",
       "Name: journal, dtype: int64"
      ]
     },
     "execution_count": 45,
     "metadata": {},
     "output_type": "execute_result"
    }
   ],
   "source": [
    "df[\"journal\"].value_counts().head(20)"
   ]
  },
  {
   "cell_type": "code",
   "execution_count": 150,
   "id": "996df765",
   "metadata": {},
   "outputs": [],
   "source": [
    "df.to_csv(\"complete.csv\")"
   ]
  },
  {
   "cell_type": "code",
   "execution_count": 17,
   "id": "81f4ec1a",
   "metadata": {},
   "outputs": [],
   "source": [
    "a=pd.read_csv(\"arxiv.csv\")"
   ]
  },
  {
   "cell_type": "code",
   "execution_count": 18,
   "id": "bc1b791e",
   "metadata": {},
   "outputs": [],
   "source": [
    "d=pd.read_csv(\"dhq.csv\")"
   ]
  },
  {
   "cell_type": "code",
   "execution_count": 19,
   "id": "d46eb633",
   "metadata": {},
   "outputs": [],
   "source": [
    "o=pd.read_csv(\"open_source.csv\")\n",
    "c=pd.read_csv(\"jca.csv\")"
   ]
  },
  {
   "cell_type": "code",
   "execution_count": null,
   "id": "522880a5",
   "metadata": {},
   "outputs": [],
   "source": []
  },
  {
   "cell_type": "code",
   "execution_count": 20,
   "id": "fee2b248",
   "metadata": {},
   "outputs": [],
   "source": [
    "c['text']=c['text'].fillna(\"\").apply(lower)"
   ]
  },
  {
   "cell_type": "code",
   "execution_count": 21,
   "id": "b546d295",
   "metadata": {},
   "outputs": [],
   "source": [
    "c=c[c['text'].str.contains('google|hathi|internet archive|gutenberg')]"
   ]
  },
  {
   "cell_type": "code",
   "execution_count": 22,
   "id": "e10d8b54",
   "metadata": {},
   "outputs": [],
   "source": [
    "d['text']=d['text'].fillna(\"\").apply(lower)\n",
    "d=d[d['text'].str.contains('google|hathi|internet archive|gutenberg')]"
   ]
  },
  {
   "cell_type": "code",
   "execution_count": 23,
   "id": "1b70afaa",
   "metadata": {},
   "outputs": [
    {
     "name": "stderr",
     "output_type": "stream",
     "text": [
      "C:\\Users\\lucia\\AppData\\Local\\Temp\\ipykernel_4276\\1349516320.py:1: FutureWarning: The frame.append method is deprecated and will be removed from pandas in a future version. Use pandas.concat instead.\n",
      "  comb=j.append(o).append(c).append(a).append(d)\n",
      "C:\\Users\\lucia\\AppData\\Local\\Temp\\ipykernel_4276\\1349516320.py:1: FutureWarning: The frame.append method is deprecated and will be removed from pandas in a future version. Use pandas.concat instead.\n",
      "  comb=j.append(o).append(c).append(a).append(d)\n",
      "C:\\Users\\lucia\\AppData\\Local\\Temp\\ipykernel_4276\\1349516320.py:1: FutureWarning: The frame.append method is deprecated and will be removed from pandas in a future version. Use pandas.concat instead.\n",
      "  comb=j.append(o).append(c).append(a).append(d)\n"
     ]
    }
   ],
   "source": [
    "comb=j.append(o).append(c).append(a).append(d)"
   ]
  },
  {
   "cell_type": "code",
   "execution_count": 24,
   "id": "f4466efb",
   "metadata": {},
   "outputs": [],
   "source": [
    "comb=comb.drop_duplicates([\"title\"])"
   ]
  },
  {
   "cell_type": "code",
   "execution_count": 25,
   "id": "6779e389",
   "metadata": {},
   "outputs": [],
   "source": [
    "comb[\"text\"]=comb[\"text\"].fillna(\"\")"
   ]
  },
  {
   "cell_type": "code",
   "execution_count": 29,
   "id": "5f7ded82",
   "metadata": {},
   "outputs": [],
   "source": [
    "comb.to_csv(\"comb.csv\")"
   ]
  },
  {
   "cell_type": "code",
   "execution_count": 30,
   "id": "6f1ee991",
   "metadata": {},
   "outputs": [
    {
     "data": {
      "text/html": [
       "<div>\n",
       "<style scoped>\n",
       "    .dataframe tbody tr th:only-of-type {\n",
       "        vertical-align: middle;\n",
       "    }\n",
       "\n",
       "    .dataframe tbody tr th {\n",
       "        vertical-align: top;\n",
       "    }\n",
       "\n",
       "    .dataframe thead th {\n",
       "        text-align: right;\n",
       "    }\n",
       "</style>\n",
       "<table border=\"1\" class=\"dataframe\">\n",
       "  <thead>\n",
       "    <tr style=\"text-align: right;\">\n",
       "      <th></th>\n",
       "      <th>Unnamed: 0</th>\n",
       "      <th>date</th>\n",
       "      <th>title</th>\n",
       "      <th>tag</th>\n",
       "      <th>author</th>\n",
       "      <th>abstract</th>\n",
       "      <th>text</th>\n",
       "      <th>url</th>\n",
       "      <th>journal</th>\n",
       "      <th>Unnamed: 0.1</th>\n",
       "      <th>match</th>\n",
       "    </tr>\n",
       "  </thead>\n",
       "  <tbody>\n",
       "    <tr>\n",
       "      <th>0</th>\n",
       "      <td>0</td>\n",
       "      <td>2017-05-24</td>\n",
       "      <td>The Development of Japan Special Operations Co...</td>\n",
       "      <td>['Political science - Military science', 'Phil...</td>\n",
       "      <td>['Ryota Akiba']</td>\n",
       "      <td>It has been 71 years since Japan experienced w...</td>\n",
       "      <td>The Development of Japan Special Operations Co...</td>\n",
       "      <td>http://www.jstor.org/stable/resrep13997</td>\n",
       "      <td>Daniel K. Inouye Asia-Pacific Center for Secur...</td>\n",
       "      <td>NaN</td>\n",
       "      <td>NaN</td>\n",
       "    </tr>\n",
       "    <tr>\n",
       "      <th>1</th>\n",
       "      <td>1</td>\n",
       "      <td>2017-01-01</td>\n",
       "      <td>@PhilosTEI:</td>\n",
       "      <td>['Information science - Informetrics']</td>\n",
       "      <td>[]</td>\n",
       "      <td>The main objective of the CLARIN-NL project @ ...</td>\n",
       "      <td>UP 033 odijk odijkprinter 20171215 1557 Page 3...</td>\n",
       "      <td>http://www.jstor.org/stable/j.ctv3t5qjk.39</td>\n",
       "      <td>CLARIN in the Low Countries</td>\n",
       "      <td>NaN</td>\n",
       "      <td>NaN</td>\n",
       "    </tr>\n",
       "    <tr>\n",
       "      <th>2</th>\n",
       "      <td>2</td>\n",
       "      <td>2018-01-01</td>\n",
       "      <td>Neither High-Church, Low-Church, nor No-Church...</td>\n",
       "      <td>['Arts - Literature', 'History - Historical me...</td>\n",
       "      <td>['Christian Dickinson']</td>\n",
       "      <td>['church', 'bleak house', 'esther', 'religious...</td>\n",
       "      <td>105325dickstudannu4920349 Dickens Studies Annu...</td>\n",
       "      <td>ark://27927/phzjr66v4k5</td>\n",
       "      <td>Dickens Studies Annual: Essays on Victorian Fi...</td>\n",
       "      <td>NaN</td>\n",
       "      <td>NaN</td>\n",
       "    </tr>\n",
       "    <tr>\n",
       "      <th>3</th>\n",
       "      <td>3</td>\n",
       "      <td>2018-01-01</td>\n",
       "      <td>Searching for Dr. Johnson:</td>\n",
       "      <td>['Information science - Informetrics']</td>\n",
       "      <td>[]</td>\n",
       "      <td>As you enter the Rare Books and Music Reading ...</td>\n",
       "      <td>Part 3 Archival Limits  UN chapter  Searching ...</td>\n",
       "      <td>http://www.jstor.org/stable/10.1163/j.ctvbqs8w9.8</td>\n",
       "      <td>Travelling Chronicles: News and Newspapers fro...</td>\n",
       "      <td>NaN</td>\n",
       "      <td>NaN</td>\n",
       "    </tr>\n",
       "    <tr>\n",
       "      <th>4</th>\n",
       "      <td>4</td>\n",
       "      <td>2018-09-01</td>\n",
       "      <td>“RESEARCH BASED ADVOCACY FOR POLICY CHANGE: Ba...</td>\n",
       "      <td>['Business - Industry']</td>\n",
       "      <td>['Shiza Durrani', 'Hafsa Bashir', 'Mahmood A. ...</td>\n",
       "      <td>Mercury is naturally occurring element in envi...</td>\n",
       "      <td>EXECUTIVE SUMMARY This report describes and di...</td>\n",
       "      <td>http://www.jstor.org/stable/resrep24369</td>\n",
       "      <td>Sustainable Development Policy Institute</td>\n",
       "      <td>NaN</td>\n",
       "      <td>NaN</td>\n",
       "    </tr>\n",
       "    <tr>\n",
       "      <th>...</th>\n",
       "      <td>...</td>\n",
       "      <td>...</td>\n",
       "      <td>...</td>\n",
       "      <td>...</td>\n",
       "      <td>...</td>\n",
       "      <td>...</td>\n",
       "      <td>...</td>\n",
       "      <td>...</td>\n",
       "      <td>...</td>\n",
       "      <td>...</td>\n",
       "      <td>...</td>\n",
       "    </tr>\n",
       "    <tr>\n",
       "      <th>663</th>\n",
       "      <td>663</td>\n",
       "      <td>2016 10.1</td>\n",
       "      <td>Word Processor Art How Userfriendly Inhibits C...</td>\n",
       "      <td>NaN</td>\n",
       "      <td>['Rene Farrar']</td>\n",
       "      <td>My paper contains original Word Processor Art ...</td>\n",
       "      <td>nietzsche writes that our writing tools are al...</td>\n",
       "      <td>http://www.digitalhumanities.org//dhq/vol/10/1...</td>\n",
       "      <td>NaN</td>\n",
       "      <td>NaN</td>\n",
       "      <td>NaN</td>\n",
       "    </tr>\n",
       "    <tr>\n",
       "      <th>664</th>\n",
       "      <td>664</td>\n",
       "      <td>2009 3.2</td>\n",
       "      <td>Words Patterns and Documents Experiments in Ma...</td>\n",
       "      <td>NaN</td>\n",
       "      <td>['Shlomo Argamon', 'Mark Olsen']</td>\n",
       "      <td>This introduces the set of papers reflecting i...</td>\n",
       "      <td>one of the emerging grand challenges for digit...</td>\n",
       "      <td>http://www.digitalhumanities.org//dhq/vol/3/2/...</td>\n",
       "      <td>NaN</td>\n",
       "      <td>NaN</td>\n",
       "      <td>NaN</td>\n",
       "    </tr>\n",
       "    <tr>\n",
       "      <th>666</th>\n",
       "      <td>666</td>\n",
       "      <td>2018 12.1</td>\n",
       "      <td>The Writeprints of Man a Stylometric Study of ...</td>\n",
       "      <td>NaN</td>\n",
       "      <td>['Richard Forsyth', 'David Holmes']</td>\n",
       "      <td>Thomas Paines Rights of Man Part I 1791 Part I...</td>\n",
       "      <td>more than the writings of any other writer tho...</td>\n",
       "      <td>http://www.digitalhumanities.org//dhq/vol/12/1...</td>\n",
       "      <td>NaN</td>\n",
       "      <td>NaN</td>\n",
       "      <td>NaN</td>\n",
       "    </tr>\n",
       "    <tr>\n",
       "      <th>668</th>\n",
       "      <td>668</td>\n",
       "      <td>2011 5.3</td>\n",
       "      <td>Writing to be Found and Writing Readers</td>\n",
       "      <td>NaN</td>\n",
       "      <td>['John Cayley']</td>\n",
       "      <td>Poetic writing for programmable and network me...</td>\n",
       "      <td>in order to begin to write this essay i set ou...</td>\n",
       "      <td>http://www.digitalhumanities.org//dhq/vol/5/3/...</td>\n",
       "      <td>NaN</td>\n",
       "      <td>NaN</td>\n",
       "      <td>NaN</td>\n",
       "    </tr>\n",
       "    <tr>\n",
       "      <th>670</th>\n",
       "      <td>670</td>\n",
       "      <td>2014 8.2</td>\n",
       "      <td>Xposre A Tool for Rich Internet Publications</td>\n",
       "      <td>NaN</td>\n",
       "      <td>['Leen Breure', 'Maarten Hoogerwerf', 'Ren van...</td>\n",
       "      <td>Internet technologies are gradually reshaping ...</td>\n",
       "      <td>the journal article is still the basis of scho...</td>\n",
       "      <td>http://www.digitalhumanities.org//dhq/vol/8/2/...</td>\n",
       "      <td>NaN</td>\n",
       "      <td>NaN</td>\n",
       "      <td>NaN</td>\n",
       "    </tr>\n",
       "  </tbody>\n",
       "</table>\n",
       "<p>1125 rows × 11 columns</p>\n",
       "</div>"
      ],
      "text/plain": [
       "     Unnamed: 0        date  \\\n",
       "0             0  2017-05-24   \n",
       "1             1  2017-01-01   \n",
       "2             2  2018-01-01   \n",
       "3             3  2018-01-01   \n",
       "4             4  2018-09-01   \n",
       "..          ...         ...   \n",
       "663         663   2016 10.1   \n",
       "664         664    2009 3.2   \n",
       "666         666   2018 12.1   \n",
       "668         668    2011 5.3   \n",
       "670         670    2014 8.2   \n",
       "\n",
       "                                                 title  \\\n",
       "0    The Development of Japan Special Operations Co...   \n",
       "1                                          @PhilosTEI:   \n",
       "2    Neither High-Church, Low-Church, nor No-Church...   \n",
       "3                           Searching for Dr. Johnson:   \n",
       "4    “RESEARCH BASED ADVOCACY FOR POLICY CHANGE: Ba...   \n",
       "..                                                 ...   \n",
       "663  Word Processor Art How Userfriendly Inhibits C...   \n",
       "664  Words Patterns and Documents Experiments in Ma...   \n",
       "666  The Writeprints of Man a Stylometric Study of ...   \n",
       "668            Writing to be Found and Writing Readers   \n",
       "670       Xposre A Tool for Rich Internet Publications   \n",
       "\n",
       "                                                   tag  \\\n",
       "0    ['Political science - Military science', 'Phil...   \n",
       "1               ['Information science - Informetrics']   \n",
       "2    ['Arts - Literature', 'History - Historical me...   \n",
       "3               ['Information science - Informetrics']   \n",
       "4                              ['Business - Industry']   \n",
       "..                                                 ...   \n",
       "663                                                NaN   \n",
       "664                                                NaN   \n",
       "666                                                NaN   \n",
       "668                                                NaN   \n",
       "670                                                NaN   \n",
       "\n",
       "                                                author  \\\n",
       "0                                      ['Ryota Akiba']   \n",
       "1                                                   []   \n",
       "2                              ['Christian Dickinson']   \n",
       "3                                                   []   \n",
       "4    ['Shiza Durrani', 'Hafsa Bashir', 'Mahmood A. ...   \n",
       "..                                                 ...   \n",
       "663                                    ['Rene Farrar']   \n",
       "664                   ['Shlomo Argamon', 'Mark Olsen']   \n",
       "666                ['Richard Forsyth', 'David Holmes']   \n",
       "668                                    ['John Cayley']   \n",
       "670  ['Leen Breure', 'Maarten Hoogerwerf', 'Ren van...   \n",
       "\n",
       "                                              abstract  \\\n",
       "0    It has been 71 years since Japan experienced w...   \n",
       "1    The main objective of the CLARIN-NL project @ ...   \n",
       "2    ['church', 'bleak house', 'esther', 'religious...   \n",
       "3    As you enter the Rare Books and Music Reading ...   \n",
       "4    Mercury is naturally occurring element in envi...   \n",
       "..                                                 ...   \n",
       "663  My paper contains original Word Processor Art ...   \n",
       "664  This introduces the set of papers reflecting i...   \n",
       "666  Thomas Paines Rights of Man Part I 1791 Part I...   \n",
       "668  Poetic writing for programmable and network me...   \n",
       "670  Internet technologies are gradually reshaping ...   \n",
       "\n",
       "                                                  text  \\\n",
       "0    The Development of Japan Special Operations Co...   \n",
       "1    UP 033 odijk odijkprinter 20171215 1557 Page 3...   \n",
       "2    105325dickstudannu4920349 Dickens Studies Annu...   \n",
       "3    Part 3 Archival Limits  UN chapter  Searching ...   \n",
       "4    EXECUTIVE SUMMARY This report describes and di...   \n",
       "..                                                 ...   \n",
       "663  nietzsche writes that our writing tools are al...   \n",
       "664  one of the emerging grand challenges for digit...   \n",
       "666  more than the writings of any other writer tho...   \n",
       "668  in order to begin to write this essay i set ou...   \n",
       "670  the journal article is still the basis of scho...   \n",
       "\n",
       "                                                   url  \\\n",
       "0              http://www.jstor.org/stable/resrep13997   \n",
       "1           http://www.jstor.org/stable/j.ctv3t5qjk.39   \n",
       "2                              ark://27927/phzjr66v4k5   \n",
       "3    http://www.jstor.org/stable/10.1163/j.ctvbqs8w9.8   \n",
       "4              http://www.jstor.org/stable/resrep24369   \n",
       "..                                                 ...   \n",
       "663  http://www.digitalhumanities.org//dhq/vol/10/1...   \n",
       "664  http://www.digitalhumanities.org//dhq/vol/3/2/...   \n",
       "666  http://www.digitalhumanities.org//dhq/vol/12/1...   \n",
       "668  http://www.digitalhumanities.org//dhq/vol/5/3/...   \n",
       "670  http://www.digitalhumanities.org//dhq/vol/8/2/...   \n",
       "\n",
       "                                               journal  Unnamed: 0.1 match  \n",
       "0    Daniel K. Inouye Asia-Pacific Center for Secur...           NaN   NaN  \n",
       "1                          CLARIN in the Low Countries           NaN   NaN  \n",
       "2    Dickens Studies Annual: Essays on Victorian Fi...           NaN   NaN  \n",
       "3    Travelling Chronicles: News and Newspapers fro...           NaN   NaN  \n",
       "4             Sustainable Development Policy Institute           NaN   NaN  \n",
       "..                                                 ...           ...   ...  \n",
       "663                                                NaN           NaN   NaN  \n",
       "664                                                NaN           NaN   NaN  \n",
       "666                                                NaN           NaN   NaN  \n",
       "668                                                NaN           NaN   NaN  \n",
       "670                                                NaN           NaN   NaN  \n",
       "\n",
       "[1125 rows x 11 columns]"
      ]
     },
     "execution_count": 30,
     "metadata": {},
     "output_type": "execute_result"
    }
   ],
   "source": [
    "comb"
   ]
  },
  {
   "cell_type": "code",
   "execution_count": null,
   "id": "30341cbf",
   "metadata": {},
   "outputs": [],
   "source": []
  }
 ],
 "metadata": {
  "kernelspec": {
   "display_name": "Python 3 (ipykernel)",
   "language": "python",
   "name": "python3"
  },
  "language_info": {
   "codemirror_mode": {
    "name": "ipython",
    "version": 3
   },
   "file_extension": ".py",
   "mimetype": "text/x-python",
   "name": "python",
   "nbconvert_exporter": "python",
   "pygments_lexer": "ipython3",
   "version": "3.9.12"
  }
 },
 "nbformat": 4,
 "nbformat_minor": 5
}
